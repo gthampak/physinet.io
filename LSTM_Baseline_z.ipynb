{
 "cells": [
  {
   "cell_type": "markdown",
   "metadata": {},
   "source": [
    "# Penndulum Model Codes"
   ]
  },
  {
   "cell_type": "markdown",
   "metadata": {},
   "source": [
    "## Dependencies"
   ]
  },
  {
   "cell_type": "code",
   "execution_count": 1,
   "metadata": {},
   "outputs": [],
   "source": [
    "import os\n",
    "import shutil\n",
    "import random; random.seed(42)\n",
    "\n",
    "import pandas as pd\n",
    "import numpy as np\n",
    "from tqdm import tqdm\n",
    "from matplotlib import pyplot as plt\n",
    "import torch\n",
    "from torch import nn\n",
    "#import tensorflow as tf # tensorflow-gpu==2.0.0\n",
    "#from tensorflow.python.client import device_lib \n",
    "#print(device_lib.list_local_devices())\n",
    "#import cv2"
   ]
  },
  {
   "cell_type": "markdown",
   "metadata": {},
   "source": [
    "## Directories:"
   ]
  },
  {
   "cell_type": "code",
   "execution_count": 2,
   "metadata": {},
   "outputs": [],
   "source": [
    "# training data\n",
    "train_dir = '/raid/cs152/zxaa2018/penndulum/train_and_test_split/dpc_dataset_traintest_4_200_csv/train'\n",
    "train_dir_video = '/raid/cs152/zxaa2018/penndulum//train_and_test_split/dpc_dataset_traintest_4_200_h264/train'\n",
    "\n",
    "# test data\n",
    "test_inputs_dir = '/raid/cs152/zxaa2018/penndulum/train_and_test_split/dpc_dataset_traintest_4_200_csv/test_inputs/'\n",
    "test_targets_dir = '/raid/cs152/zxaa2018/penndulum/train_and_test_split/dpc_dataset_traintest_4_200_csv/test_targets/'\n",
    "test_targets_video = '/raid/cs152/zxaa2018/penndulum/train_and_test_split/dpc_dataset_traintest_4_200_h264/test_targets/'\n",
    "\n",
    "# validation data\n",
    "validation_inputs_dir = '/raid/cs152/zxaa2018/penndulum/train_and_test_split/dpc_dataset_traintest_4_200_csv/validation_inputs/'\n",
    "validation_targets_dir = '/raid/cs152/zxaa2018/penndulum/rain_and_test_split/dpc_dataset_traintest_4_200_csv/validation_targets/'\n",
    "validation_targets_video = '/raid/cs152/zxaa2018/penndulum/train_and_test_split/dpc_dataset_traintest_4_200_h264/validation_targets/'"
   ]
  },
  {
   "cell_type": "markdown",
   "metadata": {},
   "source": [
    "## Functions and Class Definitions\n",
    "\n",
    "### Data Transformation Functions"
   ]
  },
  {
   "cell_type": "code",
   "execution_count": 3,
   "metadata": {},
   "outputs": [],
   "source": [
    "# some constants\n",
    "DEFAULT_X_RED, DEFAULT_Y_RED = (240, 240)\n",
    "\n",
    "PIXEL_DISTANCE_GREEN_TO_RED = 118 # approx. value | calculated with the Pythagorean theorem and averaged: np.sqrt((y_green-y_red)**2 + (x_green-x_red)**2)\n",
    "PIXEL_DISTANCE_BLUE_TO_GREEN = 90 # approx. value | calculated with the Pythagorean theorem and averaged: np.sqrt((y_blue-y_green)**2 + (x_blue-x_green)**2)\n",
    "\n",
    "def raw_to_pixel(l):\n",
    "    '''Convert the raw coordinates to pixel coordinates.'''\n",
    "    assert isinstance(l, list)\n",
    "    return [x/5 for x in l]\n",
    "\n",
    "\n",
    "def pixel_to_raw(l):\n",
    "    '''Convert the pixel coordinates to raw coordinates.'''\n",
    "    assert isinstance(l, list)\n",
    "    return [x*5 for x in l]\n",
    "\n",
    "\n",
    "def raw_cartesian_to_polar_angles(l):\n",
    "    '''Convert the cartesian coordinates to polar coordinates.'''\n",
    "    assert isinstance(l, list)\n",
    "    x_red, y_red, x_green, y_green, x_blue, y_blue = raw_to_pixel(l)\n",
    "\n",
    "    angle_green_red = np.arctan((y_green-y_red)/(x_green-x_red+0.001))\n",
    "    angle_blue_green = np.arctan((y_blue-y_green)/(x_blue-x_green+0.001))\n",
    "    \n",
    "    return [np.sin(angle_green_red), np.cos(angle_green_red), np.sin(angle_blue_green), np.cos(angle_blue_green)]\n",
    "\n",
    "def polar_angles_to_raw_cartesian(l):\n",
    "    '''Convert the polar coordinates back to cartesian coordinates.'''\n",
    "    assert isinstance(l, list)\n",
    "    sin_angle_green_red, cos_angle_green_red, sin_angle_blue_green, cos_angle_blue_green = l\n",
    "    \n",
    "    y_green = PIXEL_DISTANCE_GREEN_TO_RED * sin_angle_green_red + DEFAULT_Y_RED\n",
    "    x_green = PIXEL_DISTANCE_GREEN_TO_RED * cos_angle_green_red + DEFAULT_X_RED\n",
    "\n",
    "    y_blue = PIXEL_DISTANCE_BLUE_TO_GREEN * sin_angle_blue_green + y_green\n",
    "    x_blue = PIXEL_DISTANCE_BLUE_TO_GREEN * cos_angle_blue_green + x_green\n",
    "    \n",
    "    return pixel_to_raw([DEFAULT_X_RED, DEFAULT_Y_RED, x_green, y_green, x_blue, y_blue])"
   ]
  },
  {
   "cell_type": "markdown",
   "metadata": {},
   "source": [
    "### Data reading functions"
   ]
  },
  {
   "cell_type": "markdown",
   "metadata": {},
   "source": [
    "Parsing training data:\n",
    "training data x-y matching is like this:\n",
    "x: a list of 4 frames\n",
    "y: the frame that follows"
   ]
  },
  {
   "cell_type": "code",
   "execution_count": 4,
   "metadata": {},
   "outputs": [],
   "source": [
    "def parse_training_annotations(csv_file):\n",
    "    '''Parse the training annotations from a CSV file.'''\n",
    "    X_data = []\n",
    "    y_data = []\n",
    "    f = pd.read_csv(csv_file, header=None, delim_whitespace=True, engine='python')\n",
    "    temp = []\n",
    "    for i, row in f.iterrows():\n",
    "        if len(temp) < 4:\n",
    "            # convert the cartesian pixel coordinates to polar coordinates\n",
    "            temp.append(raw_cartesian_to_polar_angles(row.to_list()))\n",
    "        else:\n",
    "            # the output frame\n",
    "            # convert the cartesian pixel coordinates to polar coordinates\n",
    "            next_frame = raw_cartesian_to_polar_angles(row.to_list())\n",
    "\n",
    "            # save\n",
    "            X_data.append(temp.copy())\n",
    "            y_data.append(next_frame.copy())\n",
    "\n",
    "            # add output frame to the inputs and remove the first\n",
    "            temp.pop(0)\n",
    "            temp.append(next_frame)\n",
    "    return X_data, y_data"
   ]
  },
  {
   "cell_type": "code",
   "execution_count": 5,
   "metadata": {},
   "outputs": [],
   "source": [
    "def parse_testing_annotations(csv_file_X,csv_file_Y):\n",
    "    '''\n",
    "    Parse the testing annotations from a CSV file.\n",
    "    Return a x-y pair\n",
    "    '''\n",
    "    X_data = [] #a list containing 4 frames\n",
    "    y_data = [] #a list containing 200 frames\n",
    "    # load X file\n",
    "    f = pd.read_csv(csv_file_X, header=None, delim_whitespace=True, engine='python')\n",
    "    for i, row in f.iterrows():\n",
    "        X_data.append(raw_cartesian_to_polar_angles(row.to_list()))\n",
    "    f = pd.read_csv(csv_file_Y, header=None, delim_whitespace=True, engine='python')\n",
    "    for i, row in f.iterrows():\n",
    "        y_data.append(raw_cartesian_to_polar_angles(row.to_list()))\n",
    "        #print(row)\n",
    "\n",
    "    return X_data, y_data"
   ]
  },
  {
   "cell_type": "markdown",
   "metadata": {},
   "source": [
    "### Dataset Definition"
   ]
  },
  {
   "cell_type": "code",
   "execution_count": 6,
   "metadata": {},
   "outputs": [],
   "source": [
    "class DoublePendulumDataset(torch.utils.data.Dataset):\n",
    "    def __init__(self,X_list,y_list):\n",
    "        self.sample_list = list(zip(X_list, y_list))\n",
    "    \n",
    "    def __getitem__(self,index):\n",
    "        X_sample,y_sample = self.sample_list[index]\n",
    "        return torch.from_numpy(np.array(X_sample)).float(),torch.from_numpy(np.array(y_sample)).float()\n",
    "    \n",
    "    def __len__(self):\n",
    "        return len(self.sample_list)"
   ]
  },
  {
   "cell_type": "markdown",
   "metadata": {},
   "source": [
    "### Model Definition"
   ]
  },
  {
   "cell_type": "code",
   "execution_count": 7,
   "metadata": {},
   "outputs": [],
   "source": [
    "class LSTMModel(nn.Module):\n",
    "    def __init__(self):\n",
    "        # We want a model of 4 layer LSTM with 32 features output, and a dense layer to form the 4 feature output.\n",
    "        super(LSTMModel, self).__init__()\n",
    "\n",
    "        # Defining some parameters\n",
    "        #self.hidden_size = 32\n",
    "        #self.n_layers = 4\n",
    "\n",
    "        #Defining the layers\n",
    "        # LSTM layer\n",
    "        self.lstm1 = nn.LSTM(input_size = 4, hidden_size = 32, num_layers = 1, batch_first = True)\n",
    "        self.lstm2 = nn.LSTM(input_size = 32, hidden_size = 32, num_layers = 1, batch_first = True)\n",
    "        self.lstm3 = nn.LSTM(input_size = 32, hidden_size = 32, num_layers = 1, batch_first = True)\n",
    "        # Fully connected layer\n",
    "        self.fc = nn.Linear(32, 4)\n",
    "    \n",
    "    def forward(self, x):\n",
    "        out1, _= self.lstm1(x) # (h0.detach(), c0.detach())\n",
    "        out2, _= self.lstm2(out1)\n",
    "        out3, _= self.lstm3(out2)\n",
    "        out3 = out3[:, -1, :]\n",
    "        out = self.fc(out3)\n",
    "        return out"
   ]
  },
  {
   "cell_type": "markdown",
   "metadata": {},
   "source": [
    "Data Visualization Functions"
   ]
  },
  {
   "cell_type": "code",
   "execution_count": 8,
   "metadata": {},
   "outputs": [],
   "source": [
    "def plot_trajectory_from_tensor(coords: torch.Tensor):\n",
    "    blue_x = coords.index_select(1,torch.tensor([4])).numpy()\n",
    "    blue_y = coords.index_select(1,torch.tensor([5])).numpy()\n",
    "    plt.scatter(blue_x,blue_y, s=1)"
   ]
  },
  {
   "cell_type": "markdown",
   "metadata": {},
   "source": [
    "## Training, testing and analysis Codes\n",
    "\n",
    "### Loading Training Data"
   ]
  },
  {
   "cell_type": "code",
   "execution_count": 9,
   "metadata": {},
   "outputs": [
    {
     "name": "stderr",
     "output_type": "stream",
     "text": [
      "100%|██████████| 40/40 [01:31<00:00,  2.29s/it]\n"
     ]
    }
   ],
   "source": [
    "BATCH_SIZE = 256\n",
    "\n",
    "# load in all separate files\n",
    "X_train = []\n",
    "y_train = []\n",
    "for filename in tqdm([x for x in os.listdir(train_dir) if not x.startswith('.')]):\n",
    "    # load in a file\n",
    "    X_data, y_data = parse_training_annotations(os.path.join(train_dir, filename))\n",
    "\n",
    "    X_train = X_train + X_data\n",
    "    y_train = y_train + y_data\n",
    "trainDataSet = DoublePendulumDataset(X_train,y_train)\n",
    "trainDataLoader = torch.utils.data.DataLoader(trainDataSet,batch_size=BATCH_SIZE)\n"
   ]
  },
  {
   "cell_type": "code",
   "execution_count": 10,
   "metadata": {},
   "outputs": [],
   "source": [
    "temp_seq = y_train[300:400]\n",
    "temp_seq = [polar_angles_to_raw_cartesian(y)[4:] for y in temp_seq]"
   ]
  },
  {
   "cell_type": "code",
   "execution_count": 11,
   "metadata": {},
   "outputs": [
    {
     "data": {
      "text/plain": [
       "Text(0, 0.5, '$P(t)$')"
      ]
     },
     "execution_count": 11,
     "metadata": {},
     "output_type": "execute_result"
    },
    {
     "data": {
      "image/png": "[encoded data removed]",
      "text/plain": [
       "<Figure size 432x288 with 1 Axes>"
      ]
     },
     "metadata": {
      "needs_background": "light"
     },
     "output_type": "display_data"
    }
   ],
   "source": [
    "plt_x = [y[0] for y in temp_seq]\n",
    "plt_y = [y[1] for y in temp_seq]\n",
    "plt.title(f\"Phase diagram: $P(t) = f(P(t-\\\\tau))$\")\n",
    "plt.plot(plt_x, plt_y, lw=1,color=\"lightgrey\", zorder=0)\n",
    "plt.scatter(plt_x, plt_y,lw=0.5, cmap=\"viridis\", s=6)\n",
    "plt.xlabel(\"$P(t-\\\\tau)$\")\n",
    "plt.ylabel(\"$P(t)$\")"
   ]
  },
  {
   "cell_type": "markdown",
   "metadata": {},
   "source": [
    "### Hyperparameter and Model instantiate"
   ]
  },
  {
   "cell_type": "code",
   "execution_count": 12,
   "metadata": {},
   "outputs": [],
   "source": [
    "# Instantiate the model with hyperparameters\n",
    "model = LSTMModel().to(\"cuda\")\n",
    "model.train()\n",
    "\n",
    "# Define hyperparameters\n",
    "n_epochs = 5\n",
    "lr=0.01\n",
    "\n",
    "# Define Loss, Optimizer\n",
    "criterion = nn.MSELoss()\n",
    "optimizer = torch.optim.Adam(model.parameters(), lr=lr)"
   ]
  },
  {
   "cell_type": "markdown",
   "metadata": {},
   "source": [
    "### Training"
   ]
  },
  {
   "cell_type": "code",
   "execution_count": 13,
   "metadata": {},
   "outputs": [
    {
     "name": "stdout",
     "output_type": "stream",
     "text": [
      "Training Start\n",
      "[1,   100] loss: 0.115180\n",
      "[1,   200] loss: 0.032046\n",
      "[1,   300] loss: 0.018184\n",
      "[1,   400] loss: 0.017583\n",
      "[1,   500] loss: 0.020311\n",
      "[1,   600] loss: 0.015850\n",
      "[1,   700] loss: 0.015291\n",
      "[1,   800] loss: 0.016790\n",
      "[1,   900] loss: 0.013887\n",
      "[1,  1000] loss: 0.012354\n",
      "[1,  1100] loss: 0.015651\n",
      "[1,  1200] loss: 0.011822\n",
      "[1,  1300] loss: 0.014673\n",
      "[2,   100] loss: 0.016439\n",
      "[2,   200] loss: 0.014734\n",
      "[2,   300] loss: 0.008679\n",
      "[2,   400] loss: 0.008905\n",
      "[2,   500] loss: 0.010052\n",
      "[2,   600] loss: 0.006909\n",
      "[2,   700] loss: 0.007097\n",
      "[2,   800] loss: 0.008314\n",
      "[2,   900] loss: 0.005786\n",
      "[2,  1000] loss: 0.006262\n",
      "[2,  1100] loss: 0.007962\n",
      "[2,  1200] loss: 0.005997\n",
      "[2,  1300] loss: 0.006536\n",
      "[3,   100] loss: 0.010857\n",
      "[3,   200] loss: 0.008508\n",
      "[3,   300] loss: 0.005989\n",
      "[3,   400] loss: 0.005500\n",
      "[3,   500] loss: 0.007713\n",
      "[3,   600] loss: 0.005318\n",
      "[3,   700] loss: 0.005842\n",
      "[3,   800] loss: 0.006459\n",
      "[3,   900] loss: 0.004854\n",
      "[3,  1000] loss: 0.005014\n",
      "[3,  1100] loss: 0.006696\n",
      "[3,  1200] loss: 0.004482\n",
      "[3,  1300] loss: 0.005996\n",
      "[4,   100] loss: 0.007873\n",
      "[4,   200] loss: 0.006302\n",
      "[4,   300] loss: 0.004352\n",
      "[4,   400] loss: 0.004287\n",
      "[4,   500] loss: 0.006470\n",
      "[4,   600] loss: 0.003654\n",
      "[4,   700] loss: 0.004073\n",
      "[4,   800] loss: 0.003516\n",
      "[4,   900] loss: 0.003655\n",
      "[4,  1000] loss: 0.003675\n",
      "[4,  1100] loss: 0.004981\n",
      "[4,  1200] loss: 0.003265\n",
      "[4,  1300] loss: 0.004653\n",
      "[5,   100] loss: 0.004938\n",
      "[5,   200] loss: 0.004845\n",
      "[5,   300] loss: 0.003247\n",
      "[5,   400] loss: 0.003313\n",
      "[5,   500] loss: 0.004022\n",
      "[5,   600] loss: 0.003487\n",
      "[5,   700] loss: 0.003171\n",
      "[5,   800] loss: 0.002518\n",
      "[5,   900] loss: 0.002968\n",
      "[5,  1000] loss: 0.002984\n",
      "[5,  1100] loss: 0.004091\n",
      "[5,  1200] loss: 0.002681\n",
      "[5,  1300] loss: 0.003890\n",
      "Finished Training\n"
     ]
    }
   ],
   "source": [
    "print('Training Start')\n",
    "for epoch in range(n_epochs):  # loop over the dataset multiple times\n",
    "\n",
    "    running_loss = 0.0\n",
    "    for i, data in enumerate(trainDataLoader, 0):\n",
    "        # get the inputs; data is a list of [inputs, labels]\n",
    "        inputs, labels = data\n",
    "        inputs = inputs.to(\"cuda\")\n",
    "        labels = labels.to(\"cuda\")\n",
    "\n",
    "        # zero the parameter gradients\n",
    "        optimizer.zero_grad()\n",
    "\n",
    "        # forward + backward + optimize\n",
    "        outputs = model(inputs)\n",
    "        loss = criterion(outputs,labels)\n",
    "        loss.backward()\n",
    "        optimizer.step()\n",
    "\n",
    "        # print statistics\n",
    "        running_loss += loss.item()\n",
    "        if i % 100 == 99:    # print every 100 mini-batches\n",
    "            print('[%d, %5d] loss: %.6f' %\n",
    "                  (epoch + 1, i + 1, running_loss / 100))\n",
    "            running_loss = 0.0\n",
    "\n",
    "print('Finished Training')"
   ]
  },
  {
   "cell_type": "markdown",
   "metadata": {},
   "source": [
    "### Testing Data Loading"
   ]
  },
  {
   "cell_type": "code",
   "execution_count": 14,
   "metadata": {},
   "outputs": [],
   "source": [
    "# load in all separate files\n",
    "X_test = []\n",
    "y_test = []\n",
    "isPrint = True\n",
    "#for filename in tqdm([x for x in os.listdir(test_inputs_dir) if not x.startswith('.')]):\n",
    "for i in range(60):\n",
    "    # load in a file\n",
    "    X_data, y_data = parse_testing_annotations(test_inputs_dir + str(i)+'.csv',test_targets_dir + str(i)+'.csv')\n",
    "    X_test.append(X_data)\n",
    "    y_test.append(y_data)\n",
    "testDataSet = DoublePendulumDataset(X_test,y_test)\n",
    "testDataLoader = torch.utils.data.DataLoader(testDataSet,batch_size=1) # Do we need the data loader here?"
   ]
  },
  {
   "cell_type": "code",
   "execution_count": 15,
   "metadata": {},
   "outputs": [],
   "source": [
    "def predict(model: LSTMModel, testDataSet, index):\n",
    "    '''\n",
    "    Use the testing file on coordinates to get a tensor of the 200 outputs.\n",
    "    '''\n",
    "    result = torch.empty(1,1,4).float()\n",
    "    X_frames = testDataSet[index][0][None,:,:]\n",
    "    for i in tqdm(range(500)):\n",
    "        output_frame = model(X_frames).detach()\n",
    "        result = torch.cat((result,output_frame[None,:,:]),1) if i != 0 else output_frame[None,:,:]\n",
    "        X_frames = X_frames.index_select(1,torch.tensor([1,2,3]))\n",
    "        X_frames = torch.cat((X_frames,output_frame[None,:,:]),1)\n",
    "    return result.squeeze()"
   ]
  },
  {
   "cell_type": "code",
   "execution_count": 16,
   "metadata": {},
   "outputs": [],
   "source": [
    "def polar_angles_to_raw_cartesian_tensor(t):\n",
    "    '''Convert the polar coordinates back to cartesian coordinates.'''\n",
    "    assert isinstance(t, torch.Tensor)\n",
    "\n",
    "    sin_angle_green_red = t.index_select(1,torch.tensor([0]))\n",
    "    cos_angle_green_red = t.index_select(1,torch.tensor([1]))\n",
    "    sin_angle_blue_green = t.index_select(1,torch.tensor([2]))\n",
    "    cos_angle_blue_green = t.index_select(1,torch.tensor([3]))\n",
    "    \n",
    "    y_green = PIXEL_DISTANCE_GREEN_TO_RED * sin_angle_green_red + DEFAULT_Y_RED\n",
    "    x_green = PIXEL_DISTANCE_GREEN_TO_RED * cos_angle_green_red + DEFAULT_X_RED\n",
    "\n",
    "    y_blue = PIXEL_DISTANCE_BLUE_TO_GREEN * sin_angle_blue_green + y_green\n",
    "    x_blue = PIXEL_DISTANCE_BLUE_TO_GREEN * cos_angle_blue_green + x_green\n",
    "\n",
    "    x_red = torch.full_like(y_green,DEFAULT_X_RED)\n",
    "    y_red = torch.full_like(y_green,DEFAULT_Y_RED)\n",
    "\n",
    "    result = torch.cat((x_red,y_red,x_green, y_green, x_blue, y_blue),1) * 5\n",
    "    \n",
    "    return result"
   ]
  },
  {
   "cell_type": "code",
   "execution_count": 25,
   "metadata": {},
   "outputs": [],
   "source": [
    "model.to(\"cpu\")\n",
    "torch.save(model.state_dict(), \"LSTM_finalized\")"
   ]
  },
  {
   "cell_type": "code",
   "execution_count": 26,
   "metadata": {},
   "outputs": [],
   "source": [
    "testin = np.array([[ 1.3463968 ,  2.3561945 ,  0.        ,  0.        ],\n",
    "       [ 1.3265053 ,  2.3512127 , -0.5947143 , -0.15556559],\n",
    "       [ 1.2676423 ,  2.3338556 , -1.1651233 , -0.3827289 ],\n",
    "       [ 1.1722324 ,  2.297151  , -1.6869203 , -0.745718  ]],\n",
    "      dtype=np.float32)"
   ]
  },
  {
   "cell_type": "code",
   "execution_count": 30,
   "metadata": {},
   "outputs": [
    {
     "name": "stderr",
     "output_type": "stream",
     "text": [
      "100%|██████████| 300/300 [00:00<00:00, 532.02it/s]"
     ]
    },
    {
     "name": "stdout",
     "output_type": "stream",
     "text": [
      "tensor([[ 0.7327,  0.7861, -0.9842,  0.2175],\n",
      "        [ 0.5210,  0.9421, -1.0175,  0.0864],\n",
      "        [ 0.5597,  0.7544, -1.0295,  0.1425],\n",
      "        ...,\n",
      "        [ 0.9105,  0.4576,  0.5559,  0.8516],\n",
      "        [ 0.9095,  0.4608,  0.5041,  0.8873],\n",
      "        [ 0.9083,  0.4634,  0.4566,  0.9146]])\n"
     ]
    },
    {
     "name": "stderr",
     "output_type": "stream",
     "text": [
      "\n"
     ]
    }
   ],
   "source": [
    "result = torch.empty(1,1,4).float()\n",
    "X_frames = torch.from_numpy(testin)[None,:,:]\n",
    "for i in tqdm(range(300)):\n",
    "    output_frame = model(X_frames).detach()\n",
    "    result = torch.cat((result,output_frame[None,:,:]),1) if i != 0 else output_frame[None,:,:]\n",
    "    X_frames = X_frames.index_select(1,torch.tensor([1,2,3]))\n",
    "    X_frames = torch.cat((X_frames,output_frame[None,:,:]),1)\n",
    "result = result.squeeze()\n",
    "print(result)"
   ]
  },
  {
   "cell_type": "code",
   "execution_count": 18,
   "metadata": {},
   "outputs": [
    {
     "name": "stderr",
     "output_type": "stream",
     "text": [
      "100%|██████████| 500/500 [00:01<00:00, 382.42it/s]\n"
     ]
    }
   ],
   "source": [
    "output = polar_angles_to_raw_cartesian_tensor(predict(model,testDataSet,13))"
   ]
  },
  {
   "cell_type": "code",
   "execution_count": 33,
   "metadata": {},
   "outputs": [],
   "source": [
    "def plot_sequence(seq, a1, a2):\n",
    "\n",
    "    length = seq.shape[0]\n",
    "    t = np.arange(length)\n",
    "    \n",
    "    plt.title(f\"LSTM Double Pendulum Timeseries - {length} timesteps\")\n",
    "\n",
    "    plt.plot(seq[:,a2], seq[:,a1], color=\"lightgray\", zorder=0)\n",
    "    plt.scatter(seq[:,a2], seq[:,a1], c=t[:length], cmap=\"viridis\", s=1, zorder=1)\n",
    "\n",
    "    plt.xlabel(\"$x$\")\n",
    "    plt.ylabel(\"$y$\")\n",
    "\n",
    "    cbar = plt.colorbar()\n",
    "    cbar.ax.set_ylabel('$t$', rotation=270)\n",
    "\n",
    "    plt.gca().invert_yaxis()\n",
    "\n",
    "    plt.tight_layout()\n",
    "    plt.show()"
   ]
  },
  {
   "cell_type": "code",
   "execution_count": 35,
   "metadata": {},
   "outputs": [
    {
     "data": {
      "image/png": "[encoded data removed]",
      "text/plain": [
       "<Figure size 432x288 with 2 Axes>"
      ]
     },
     "metadata": {
      "needs_background": "light"
     },
     "output_type": "display_data"
    }
   ],
   "source": [
    "plot_sequence(np.array(polar_angles_to_raw_cartesian_tensor(result)),4,5)\n",
    "#plot_sequence(np.array(polar_angles_to_raw_cartesian_tensor(testDataSet[13][1])),4,5)"
   ]
  },
  {
   "cell_type": "code",
   "execution_count": 21,
   "metadata": {},
   "outputs": [
    {
     "data": {
      "image/png": "[encoded data removed]",
      "text/plain": [
       "<Figure size 432x288 with 1 Axes>"
      ]
     },
     "metadata": {
      "needs_background": "light"
     },
     "output_type": "display_data"
    }
   ],
   "source": [
    "plot_trajectory_from_tensor(polar_angles_to_raw_cartesian_tensor(testDataSet[9][0]))"
   ]
  },
  {
   "cell_type": "code",
   "execution_count": 22,
   "metadata": {},
   "outputs": [
    {
     "data": {
      "text/plain": [
       "(tensor([[-0.7346,  0.6785, -0.0665,  0.9978],\n",
       "         [-0.7618,  0.6478, -0.1377,  0.9905],\n",
       "         [-0.7861,  0.6180, -0.2038,  0.9790],\n",
       "         [-0.8111,  0.5849, -0.2659,  0.9640]]),\n",
       " tensor([-0.8344,  0.5512, -0.3295,  0.9442]))"
      ]
     },
     "execution_count": 22,
     "metadata": {},
     "output_type": "execute_result"
    }
   ],
   "source": [
    "trainDataSet[5]"
   ]
  },
  {
   "cell_type": "code",
   "execution_count": 23,
   "metadata": {},
   "outputs": [
    {
     "data": {
      "text/plain": [
       "(tensor([[-0.5921,  0.8059,  0.2808,  0.9598],\n",
       "         [-0.6235,  0.7819,  0.2089,  0.9779],\n",
       "         [-0.6508,  0.7593,  0.1396,  0.9902],\n",
       "         [-0.6785,  0.7346,  0.0709,  0.9975]]),\n",
       " tensor([-0.7063,  0.7080,  0.0000,  1.0000]))"
      ]
     },
     "execution_count": 23,
     "metadata": {},
     "output_type": "execute_result"
    }
   ],
   "source": [
    "trainDataSet[0]"
   ]
  },
  {
   "cell_type": "code",
   "execution_count": 24,
   "metadata": {},
   "outputs": [
    {
     "data": {
      "text/plain": [
       "(tensor([[-0.6235,  0.7819,  0.2089,  0.9779],\n",
       "         [-0.6508,  0.7593,  0.1396,  0.9902],\n",
       "         [-0.6785,  0.7346,  0.0709,  0.9975],\n",
       "         [-0.7063,  0.7080,  0.0000,  1.0000]]),\n",
       " tensor([-0.7346,  0.6785, -0.0665,  0.9978]))"
      ]
     },
     "execution_count": 24,
     "metadata": {},
     "output_type": "execute_result"
    }
   ],
   "source": [
    "trainDataSet[1]"
   ]
  },
  {
   "cell_type": "code",
   "execution_count": null,
   "metadata": {},
   "outputs": [],
   "source": []
  }
 ],
 "metadata": {
  "interpreter": {
   "hash": "9950993fed0fd9aed4b27a856c953e397ab7787bcf7b4a95697366d9a811f382"
  },
  "kernelspec": {
   "display_name": "Python 3.8.5 64-bit ('cs152': conda)",
   "name": "python3"
  },
  "language_info": {
   "codemirror_mode": {
    "name": "ipython",
    "version": 3
   },
   "file_extension": ".py",
   "mimetype": "text/x-python",
   "name": "python",
   "nbconvert_exporter": "python",
   "pygments_lexer": "ipython3",
   "version": "3.8.5"
  },
  "orig_nbformat": 4
 },
 "nbformat": 4,
 "nbformat_minor": 2
}
