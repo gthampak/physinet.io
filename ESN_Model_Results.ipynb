{
 "cells": [
  {
   "cell_type": "markdown",
   "metadata": {},
   "source": [
    "# ESN Model Codes"
   ]
  },
  {
   "cell_type": "markdown",
   "metadata": {},
   "source": [
    "## Dependencies"
   ]
  },
  {
   "cell_type": "code",
   "execution_count": 65,
   "metadata": {},
   "outputs": [],
   "source": [
    "import os\n",
    "import shutil\n",
    "import random; random.seed(42)\n",
    "\n",
    "import pandas as pd\n",
    "import numpy as np\n",
    "from tqdm import tqdm\n",
    "from matplotlib import pyplot as plt\n",
    "import torch\n",
    "from torch import nn\n",
    "from reservoirpy import mat_gen, ESN"
   ]
  },
  {
   "cell_type": "markdown",
   "metadata": {},
   "source": [
    "## Directories:"
   ]
  },
  {
   "cell_type": "code",
   "execution_count": 66,
   "metadata": {},
   "outputs": [],
   "source": [
    "# training data\n",
    "train_dir = '/raid/cs152/zxaa2018/penndulum/train_and_test_split/dpc_dataset_traintest_4_200_csv/train'\n",
    "train_dir_video = '/raid/cs152/zxaa2018/penndulum//train_and_test_split/dpc_dataset_traintest_4_200_h264/train'\n",
    "\n",
    "# test data\n",
    "test_inputs_dir = '/raid/cs152/zxaa2018/penndulum/train_and_test_split/dpc_dataset_traintest_4_200_csv/test_inputs/'\n",
    "test_targets_dir = '/raid/cs152/zxaa2018/penndulum/train_and_test_split/dpc_dataset_traintest_4_200_csv/test_targets/'\n",
    "test_targets_video = '/raid/cs152/zxaa2018/penndulum/train_and_test_split/dpc_dataset_traintest_4_200_h264/test_targets/'\n",
    "\n",
    "# validation data\n",
    "validation_inputs_dir = '/raid/cs152/zxaa2018/penndulum/train_and_test_split/dpc_dataset_traintest_4_200_csv/validation_inputs/'\n",
    "validation_targets_dir = '/raid/cs152/zxaa2018/penndulum/train_and_test_split/dpc_dataset_traintest_4_200_csv/validation_targets/'\n",
    "validation_targets_video = '/raid/cs152/zxaa2018/penndulum/train_and_test_split/dpc_dataset_traintest_4_200_h264/validation_targets/'"
   ]
  },
  {
   "cell_type": "markdown",
   "metadata": {},
   "source": [
    "## Functions and Class Definitions\n",
    "\n",
    "### Data Transformation Functions"
   ]
  },
  {
   "cell_type": "code",
   "execution_count": 67,
   "metadata": {},
   "outputs": [],
   "source": [
    "# some constants\n",
    "DEFAULT_X_RED, DEFAULT_Y_RED = (240, 232)\n",
    "\n",
    "PIXEL_DISTANCE_GREEN_TO_RED = 118 # approx. value | calculated with the Pythagorean theorem and averaged: np.sqrt((y_green-y_red)**2 + (x_green-x_red)**2)\n",
    "PIXEL_DISTANCE_BLUE_TO_GREEN = 90 # approx. value | calculated with the Pythagorean theorem and averaged: np.sqrt((y_blue-y_green)**2 + (x_blue-x_green)**2)\n",
    "\n",
    "def raw_to_pixel(l):\n",
    "    '''Convert the raw coordinates to pixel coordinates.'''\n",
    "    assert isinstance(l, list)\n",
    "    return [x/5 for x in l]\n",
    "\n",
    "\n",
    "def pixel_to_raw(l):\n",
    "    '''Convert the pixel coordinates to raw coordinates.'''\n",
    "    assert isinstance(l, list)\n",
    "    return [x*5 for x in l]\n",
    "\n",
    "\n",
    "def raw_cartesian_to_polar_angles(l):\n",
    "    '''Convert the cartesian coordinates to polar coordinates.'''\n",
    "    assert isinstance(l, list)\n",
    "    x_red, y_red, x_green, y_green, x_blue, y_blue = raw_to_pixel(l)\n",
    "\n",
    "    #angle_green_red = np.arctan((y_green-y_red)/(x_green-x_red+0.001))\n",
    "    #angle_blue_green = np.arctan((y_blue-y_green)/(x_blue-x_green+0.001))\n",
    "\n",
    "    angle_green_red = np.arctan2(y_red-y_green+1e-4, x_green-x_red+1e-4) + np.pi * 0.5\n",
    "    angle_blue_green = np.arctan2(y_green-y_red + 1e-4, x_blue-x_green+0.001) + np.pi * 0.5\n",
    "    \n",
    "    return [np.sin(angle_green_red), np.cos(angle_green_red), np.sin(angle_blue_green), np.cos(angle_blue_green)]\n",
    "\n",
    "def raw_cartesian_to_thetas(l):\n",
    "    '''Convert the cartesian coordinates to polar coordinates.'''\n",
    "    assert isinstance(l, list)\n",
    "    x_red, y_red, x_green, y_green, x_blue, y_blue = raw_to_pixel(l)\\\n",
    "\n",
    "    angle_green_red = np.arctan2(y_red-y_green+1e-4, x_green-x_red+1e-4) + np.pi * 0.5\n",
    "    angle_blue_green = np.arctan2(y_green-y_red + 1e-4, x_blue-x_green+0.001) + np.pi * 0.5\n",
    "    \n",
    "    return [angle_green_red, angle_blue_green]\n",
    "\n",
    "def polar_angles_to_raw_cartesian(l):\n",
    "    '''Convert the polar coordinates back to cartesian coordinates.'''\n",
    "    assert isinstance(l, list)\n",
    "    sin_angle_green_red, cos_angle_green_red, sin_angle_blue_green, cos_angle_blue_green = l\n",
    "    \n",
    "    y_green = PIXEL_DISTANCE_GREEN_TO_RED * sin_angle_green_red + DEFAULT_Y_RED\n",
    "    x_green = PIXEL_DISTANCE_GREEN_TO_RED * cos_angle_green_red + DEFAULT_X_RED\n",
    "\n",
    "    y_blue = PIXEL_DISTANCE_BLUE_TO_GREEN * sin_angle_blue_green + y_green\n",
    "    x_blue = PIXEL_DISTANCE_BLUE_TO_GREEN * cos_angle_blue_green + x_green\n",
    "    \n",
    "    return pixel_to_raw([DEFAULT_X_RED, DEFAULT_Y_RED, x_green, y_green, x_blue, y_blue])"
   ]
  },
  {
   "cell_type": "markdown",
   "metadata": {},
   "source": [
    "### Data reading functions"
   ]
  },
  {
   "cell_type": "markdown",
   "metadata": {},
   "source": [
    "Parsing training data:\n",
    "training data x-y matching is like this:\n",
    "x: a list of 4 frames\n",
    "y: the frame that follows"
   ]
  },
  {
   "cell_type": "code",
   "execution_count": 68,
   "metadata": {},
   "outputs": [],
   "source": [
    "def parse_csv_esn(csv_file):\n",
    "    '''Given a csv file and a length of sequence, return the sequence in list of list'''\n",
    "    X_data = []\n",
    "    f = pd.read_csv(csv_file, header=None, delim_whitespace=True, engine='python')\n",
    "    temp = []\n",
    "    for i, row in f.iterrows():\n",
    "        next_frame = raw_cartesian_to_polar_angles(row.to_list())\n",
    "        X_data.append(next_frame.copy())\n",
    "        \n",
    "    return X_data"
   ]
  },
  {
   "cell_type": "code",
   "execution_count": 69,
   "metadata": {},
   "outputs": [],
   "source": [
    "def parse_csv_esn_angular(csv_file):\n",
    "    '''Given a csv file and a length of sequence, return the sequence in list of list'''\n",
    "    X_data = []\n",
    "    f = pd.read_csv(csv_file, header=None, delim_whitespace=True, engine='python')\n",
    "    temp = []\n",
    "    for i, row in f.iterrows():\n",
    "        next_frame = row.to_list()\n",
    "        next_frame = raw_cartesian_to_thetas(next_frame)\n",
    "        X_data.append(next_frame.copy())\n",
    "        \n",
    "    return X_data"
   ]
  },
  {
   "cell_type": "code",
   "execution_count": 70,
   "metadata": {},
   "outputs": [],
   "source": [
    "def get_seq_list(source_dir):\n",
    "    result = []\n",
    "    name = []\n",
    "    for filename in tqdm([x for x in os.listdir(source_dir) if not x.startswith('.')]):\n",
    "        # load in a file\n",
    "        name.append(filename)\n",
    "        X_data = parse_csv_esn(os.path.join(source_dir, filename))\n",
    "        result.append(X_data)\n",
    "    return result, name"
   ]
  },
  {
   "cell_type": "code",
   "execution_count": 71,
   "metadata": {},
   "outputs": [],
   "source": [
    "def normalize_sequence(sequence: np.ndarray):\n",
    "    '''Given a sequence in shape (n,6), normalize the sequence to [-1,1]'''\n",
    "    # get range of x coords 0,2,4\n",
    "    x_factor = (sequence[:,[0,2,4]].max() - sequence[:,[0,2,4]].min()) * 0.5\n",
    "    y_factor = (sequence[:,[1,3,5]].max() - sequence[:,[1,3,5]].min()) * 0.5\n",
    "\n",
    "    sequence[:,[0,2,4]] = sequence[:,[0,2,4]] / max(x_factor,1e-6) - 0.5\n",
    "    sequence[:,[1,3,5]] = sequence[:,[1,3,5]] / max(y_factor, 1e-6) - 0.5\n",
    "\n",
    "    return sequence, (x_factor, y_factor)\n",
    "\n",
    "def denormalize_sequence(sequence: np.array, factors: tuple):\n",
    "    '''Given a sequence in shape (n,6), normalized to [-1,1], and the normalize factors along the x, y axis, return the denormalized sequence'''\n",
    "    sequence[:,[0,2,4]] = (sequence[:,[0,2,4]] + 0.5) * factors[0]\n",
    "    sequence[:,[1,3,5]] = (sequence[:,[1,3,5]] + 0.5) * factors[1]\n",
    "\n",
    "    return sequence\n",
    "    "
   ]
  },
  {
   "cell_type": "code",
   "execution_count": 72,
   "metadata": {},
   "outputs": [],
   "source": [
    "def normalize_sequence_by_pivot(sequence: np.ndarray):\n",
    "    '''Given a sequence in shape (n,6), normalize the sequence to [-1,1]'''\n",
    "    # get range of coords of first  axis\n",
    "    a_factor = (sequence[:,[0,1]].max() - sequence[:,[0,1]].min()) * 0.5\n",
    "    b_factor = (sequence[:,[2,3]].max() - sequence[:,[2,3]].min()) * 0.5\n",
    "    c_factor = (sequence[:,[4,5]].max() - sequence[:,[4,5]].min()) * 0.5\n",
    "\n",
    "    a_shift = sequence[:,[0,1]].min()\n",
    "    b_shift = sequence[:,[2,3]].min()\n",
    "    c_shift = sequence[:,[4,5]].min()\n",
    "\n",
    "    sequence[:,[0,1]] = (sequence[:,[0,1]] - a_shift) / max(a_factor,1e-6) - 1\n",
    "    sequence[:,[2,3]] = (sequence[:,[2,3]] - b_shift) / max(b_factor,1e-6) - 1\n",
    "    sequence[:,[4,5]] = (sequence[:,[4,5]] - c_shift) / max(c_factor,1e-6) - 1\n",
    "\n",
    "    sequence[:,[0,2,4]] = sequence[:,[0,2,4]] * -1.0\n",
    "\n",
    "    return sequence, (a_factor, b_factor, c_factor, a_shift, b_shift, c_shift)\n",
    "\n",
    "def denormalize_sequence_by_pivot(sequence: np.array, factors: tuple):\n",
    "    '''Given a sequence in shape (n,6), normalized to [-1,1], and the normalize factors along the x, y axis, return the denormalized sequence'''\n",
    "    sequence[:,[1,3,5]] = sequence[:,[1,3,5]] * -1.0\n",
    "    sequence[:,[0,1]] = (sequence[:,[0,1]] + 1) * factors[0] + factors[3]\n",
    "    sequence[:,[2,3]] = (sequence[:,[0,1]] + 1) * factors[1] + factors[4]\n",
    "    sequence[:,[4,5]] = (sequence[:,[0,1]] + 1) * factors[2] + factors[5]\n",
    "\n",
    "    return sequence"
   ]
  },
  {
   "cell_type": "code",
   "execution_count": 73,
   "metadata": {},
   "outputs": [],
   "source": [
    "def make_data_continuous(seq: np.array):\n",
    "    for i,datapoint in enumerate(seq[:,0][:-1]):\n",
    "        if seq[:,0][i+1] - datapoint > np.pi * 2 - 0.1:\n",
    "            seq[:,0][i+1:] -= np.pi * 2\n",
    "        elif datapoint - seq[:,0][i+1] > np.pi * 2 - 0.1:\n",
    "            seq[:,0][i+1:] += np.pi * 2\n",
    "        else:\n",
    "            continue\n",
    "    for i,datapoint in enumerate(seq[:,1][:-1]):\n",
    "        if seq[:,1][i+1] - datapoint > np.pi * 2 - 0.1:\n",
    "            seq[:,1][i+1:] -= np.pi * 2\n",
    "        elif datapoint - seq[:,1][i+1] > np.pi:\n",
    "            seq[:,1][i+1:] += np.pi * 2\n",
    "        else:\n",
    "            continue\n",
    "    return seq\n",
    "    \n"
   ]
  },
  {
   "cell_type": "markdown",
   "metadata": {},
   "source": [
    "### Dataset Definition"
   ]
  },
  {
   "cell_type": "code",
   "execution_count": 74,
   "metadata": {},
   "outputs": [],
   "source": [
    "class NormalizedDataset():\n",
    "    def __init__(self,X_list: list, name_list: list):\n",
    "        self.sample_List = []\n",
    "        self.factor_list = []\n",
    "        self.name_dict = {}\n",
    "        for i, (seq, name) in enumerate(zip(X_list, name_list)):\n",
    "            self.name_dict[i] = name\n",
    "            norm_seq, factors = normalize_sequence_by_pivot(np.array(seq, dtype=float))\n",
    "            self.sample_List.append(norm_seq)\n",
    "            self.factor_list.append(factors)\n",
    "\n",
    "    def __len__(self):\n",
    "        return len(self.sample_list)\n",
    "    \n",
    "    def getFactor(self, index: int):\n",
    "        return self.x_factor_list[index], self.y_factor_list[index]"
   ]
  },
  {
   "cell_type": "code",
   "execution_count": 75,
   "metadata": {},
   "outputs": [],
   "source": [
    "class Dataset():\n",
    "    def __init__(self,X_list: list, name_list: list):\n",
    "        self.sample_List = []\n",
    "        self.name_dict = {}\n",
    "        for i, (seq, name) in enumerate(zip(X_list, name_list)):\n",
    "            self.name_dict[i] = name\n",
    "            self.sample_List.append(np.array(seq, dtype=np.float32))\n",
    "\n",
    "    def __len__(self):\n",
    "        return len(self.sample_list)"
   ]
  },
  {
   "cell_type": "code",
   "execution_count": 76,
   "metadata": {},
   "outputs": [],
   "source": [
    "class DoublePendulumDataset(torch.utils.data.Dataset):\n",
    "    '''\n",
    "    Generate a LSTM dataset from a normalized dataset\n",
    "    '''\n",
    "    def __init__(self,dataset_n:NormalizedDataset):\n",
    "        self.X_list = []\n",
    "        self.y_list = []\n",
    "        for seq in tqdm(dataset_n.sample_List):\n",
    "            for i in range(seq.shape[0] - 5):\n",
    "                self.X_list.append(torch.from_numpy(seq[[i,i+1,i+2,i+3],:]))\n",
    "                self.y_list.append(torch.from_numpy(seq[[i+4],:]))\n",
    "        self.sample_list = list(zip(self.X_list, self.y_list))\n",
    "\n",
    "    \n",
    "    def __getitem__(self,index):\n",
    "        X_sample,y_sample = self.sample_list[index]\n",
    "        return torch.from_numpy(np.array(X_sample)).float(),torch.from_numpy(np.array(y_sample)).float()\n",
    "    \n",
    "    def __len__(self):\n",
    "        return len(self.sample_list)"
   ]
  },
  {
   "cell_type": "code",
   "execution_count": 77,
   "metadata": {},
   "outputs": [],
   "source": [
    "class AngularDatast():\n",
    "    def __init__(self,X_list: list, name_list: list):\n",
    "        self.sample_List = []\n",
    "        self.name_dict = {}\n",
    "        for i, (seq, name) in enumerate(zip(X_list, name_list)):\n",
    "            seq_c = make_data_continuous(np.array(seq, dtype=float))\n",
    "            self.name_dict[i] = name\n",
    "            self.sample_List.append(seq_c)\n",
    "\n",
    "    def __len__(self):\n",
    "        return len(self.sample_list)"
   ]
  },
  {
   "cell_type": "markdown",
   "metadata": {},
   "source": [
    "### Model Definition"
   ]
  },
  {
   "cell_type": "markdown",
   "metadata": {},
   "source": [
    "Data Visualization Functions"
   ]
  },
  {
   "cell_type": "code",
   "execution_count": 78,
   "metadata": {},
   "outputs": [],
   "source": [
    "def plot_comparison_with_warmup(Xgen, Xgen_test, warm_up, length, axis1, axis2):\n",
    "    t = np.arange(length)\n",
    "    fig = plt.figure(figsize = (13,5))\n",
    "    \n",
    "    plt.gca().invert_yaxis()\n",
    "    plt.subplot((121))\n",
    "    plt.title(f\"Ground Truth, first {length} frame\")\n",
    "    plt_x = [y[1] for y in Xgen_test[:,[axis1, axis2][:length]]]\n",
    "    plt_y = [y[0] for y in Xgen_test[:,[axis1, axis2][:length]]]\n",
    "    warm_x = [y[1] for y in warm_up[:,[axis1, axis2]]]\n",
    "    warm_y = [y[0] for y in warm_up[:,[axis1, axis2]]]\n",
    "\n",
    "    plt.plot(warm_x, warm_y, lw=1,color=\"lightgrey\", zorder=0)\n",
    "    plt.scatter(warm_x, warm_y,lw=0.5, c = 'red', s=2)\n",
    "    plt.plot(plt_x, plt_y, lw=1,color=\"lightgrey\", zorder=0)\n",
    "    plt.scatter(plt_x, plt_y,lw=0.5, c = t[:len(plt_x)],cmap=\"viridis\", s=2)\n",
    "    plt.xlabel(\"x (normalized)\")\n",
    "    plt.ylabel(\"y (normalized)\")\n",
    "\n",
    "    plt.subplot((122))\n",
    "    plt.title(f\"Prediction, first {length} frame\")\n",
    "    plt_x_res = [y[1] for y in Xgen[:,[axis1, axis2]][:length]]\n",
    "    plt_y_res = [y[0] for y in Xgen[:,[axis1, axis2]][:length]]\n",
    "\n",
    "    plt.plot(warm_x, warm_y, lw=1,color=\"lightgrey\", zorder=0)\n",
    "    plt.scatter(warm_x, warm_y,lw=0.5, c = 'red', s=2)\n",
    "    plt.plot(plt_x_res, plt_y_res, lw=1,color=\"lightgrey\", zorder=0)\n",
    "    plt.scatter(plt_x_res, plt_y_res,lw=0.5, c = t[:len(plt_x)],cmap=\"viridis\", s=2)\n",
    "    plt.xlabel(\"x (normalized)\")\n",
    "    plt.ylabel(\"y (normalized)\")"
   ]
  },
  {
   "cell_type": "code",
   "execution_count": 79,
   "metadata": {},
   "outputs": [],
   "source": [
    "def plot_sequence(seq, a1, a2):\n",
    "\n",
    "    length = seq.shape[0]\n",
    "    t = np.arange(length)\n",
    "    \n",
    "    plt.title(f\"Timeserie - {length} timesteps\")\n",
    "\n",
    "    plt.plot(seq[:,a2], seq[:,a1], color=\"lightgray\", zorder=0)\n",
    "    plt.scatter(seq[:,a2], seq[:,a1], c=t[:length], cmap=\"viridis\", s=1, zorder=1)\n",
    "\n",
    "    plt.xlabel(\"$x$\")\n",
    "    plt.ylabel(\"$y$\")\n",
    "\n",
    "    cbar = plt.colorbar()\n",
    "    cbar.ax.set_ylabel('$t$', rotation=270)\n",
    "\n",
    "    #plt.gca().invert_yaxis()\n",
    "\n",
    "    plt.tight_layout()\n",
    "    plt.show()"
   ]
  },
  {
   "cell_type": "markdown",
   "metadata": {},
   "source": [
    "## Training, testing and analysis Codes\n",
    "\n",
    "### Loading Training Data"
   ]
  },
  {
   "cell_type": "code",
   "execution_count": 80,
   "metadata": {},
   "outputs": [
    {
     "name": "stderr",
     "output_type": "stream",
     "text": [
      "100%|███████████████████████████████████████████████████████████████████████████████████| 40/40 [00:36<00:00,  1.10it/s]\n"
     ]
    }
   ],
   "source": [
    "Seq_train_p, Seq_train_name_p = get_seq_list(train_dir)\n",
    "dataset_p = Dataset(Seq_train_p, Seq_train_name_p)"
   ]
  },
  {
   "cell_type": "code",
   "execution_count": 81,
   "metadata": {},
   "outputs": [],
   "source": [
    "dataset_p.sample_List = [dataset_p.sample_List[0]]+dataset_p.sample_List[2:5]+dataset_p.sample_List[6:10]+dataset_p.sample_List[11:]"
   ]
  },
  {
   "cell_type": "markdown",
   "metadata": {},
   "source": [
    "### Hyperparameter and Model instantiate"
   ]
  },
  {
   "cell_type": "code",
   "execution_count": 82,
   "metadata": {},
   "outputs": [],
   "source": [
    "class ESNModel():\n",
    "    def __init__(self, units, dim, input_scaling, input_connectivity, input_bias, seed, spectral_radius, density, leak_rate, regularization):\n",
    "        self.units = units\n",
    "        self.dim = dim\n",
    "        self.input_scaling = input_scaling\n",
    "        self.input_connectivity = input_connectivity\n",
    "        self.input_bias = input_bias\n",
    "        self.seed = seed\n",
    "        self.spectral_radius = spectral_radius\n",
    "        self.density = density\n",
    "        self.leak_rate = leak_rate\n",
    "        self.regularization = regularization\n",
    "        \n",
    "        self.Win = mat_gen.generate_input_weights(self.units, self.dim,    input_scaling=self.input_scaling, proba=self.input_connectivity, input_bias=self.input_bias,seed=self.seed)\n",
    "        self. W = mat_gen.generate_internal_weights(self.units, sr=self.spectral_radius, proba=self.density, seed=self.seed)\n",
    "        self.reservior = ESN(self.leak_rate, self.W, self.Win, ridge = self.regularization)\n",
    "\n",
    "    def train_on_sequence(self, dataset: NormalizedDataset, index = 0, train_length = 400, forecast = 1):\n",
    "        '''\n",
    "        Given an index of of a sequence in the dataset (default to 0), train the reservoir on that sequence.\n",
    "        '''\n",
    "        seq = dataset.sample_List[index]\n",
    "        states = self.reservior.train(seq[:train_length], seq[forecast: forecast + train_length], verbose = False)\n",
    "        return states\n",
    "\n",
    "    def generate_on_sequence(self, dataset, index = 0, warm_up_length = 100, nb_generations = 300, start = 0):\n",
    "        '''Given a sequence of a dataset, generate on that sequence'''\n",
    "        test_X = dataset\n",
    "        warming_inputs = test_X[start: start + warm_up_length]\n",
    "        Xgen_test = test_X[start + warm_up_length : start + nb_generations + warm_up_length]\n",
    "        Xgen, states, warming_out, warming_states = self.reservior.generate(nb_generations, warming_inputs=warming_inputs, verbose = False)\n",
    "        return Xgen, Xgen_test, warming_inputs, states, warming_out, warming_states\n",
    "\n",
    "    def reset(self):\n",
    "        '''reset the model'''\n",
    "        self.Win = mat_gen.generate_input_weights(self.units, self.dim,input_scaling=self.input_scaling, proba=self.input_connectivity, input_bias=self.input_bias,seed=self.seed)\n",
    "        self. W = mat_gen.generate_internal_weights(self.units, sr=self.spectral_radius, proba=self.density, seed=self.seed)\n",
    "        self.reservior = ESN(self.leak_rate, self.W, self.Win, ridge = self.regularization)"
   ]
  },
  {
   "cell_type": "code",
   "execution_count": 83,
   "metadata": {},
   "outputs": [],
   "source": [
    "def plot_time_series(seq, a1, l):\n",
    "\n",
    "    #length = seq.shape[0]\n",
    "    t = np.linspace(0, l - 1, l)\n",
    "     \n",
    "    plt.title(f\"Timeserie - {l} timesteps\")\n",
    "\n",
    "    plt.plot(t, seq[:,a1][:l], color=\"lightgray\", zorder=0)\n",
    "    plt.scatter(t, seq[:,a1][:l], c=t[:l], cmap=\"viridis\", s=1, zorder=1)\n",
    "\n",
    "    plt.xlabel(\"$x$\")\n",
    "    plt.ylabel(\"$y$\")\n",
    "\n",
    "    cbar = plt.colorbar()\n",
    "    cbar.ax.set_ylabel('$t$', rotation=270)\n",
    "\n",
    "    plt.tight_layout()\n",
    "    plt.show()"
   ]
  },
  {
   "cell_type": "markdown",
   "metadata": {},
   "source": [
    "Task:\n",
    "- write a function quantifying error for each prediction.\n",
    "  let's use the Y distance\n",
    "- train with different number of sequences, and test. (Maybe test on #39)."
   ]
  },
  {
   "cell_type": "code",
   "execution_count": 84,
   "metadata": {},
   "outputs": [],
   "source": [
    "def error_seq(Xgen, Xgen_test):\n",
    "    '''\n",
    "    Given ground truth and prediction, calculate the mean distance between the endpoints and then the percentage error with respect to the range the endpoints can move (2.0).\n",
    "    '''\n",
    "    diff = Xgen - Xgen_test\n",
    "    dist = np.sqrt(np.square(diff[:,4])+np.square(diff[:,5]))\n",
    "    DIST_CENTER = 2.0\n",
    "    min_off_center_percentage = np.mean(dist) / DIST_CENTER\n",
    "    return min_off_center_percentage"
   ]
  },
  {
   "cell_type": "code",
   "execution_count": 85,
   "metadata": {},
   "outputs": [],
   "source": [
    "'''\n",
    "Defining our hyperparameters.\n",
    "'''\n",
    "\n",
    "units = 500\n",
    "leak_rate = 0.1\n",
    "spectral_radius = 25.0\n",
    "input_scaling = 0.5\n",
    "density = 0.1\n",
    "input_connectivity = 1.0\n",
    "regularization = 1e-7\n",
    "seed = 1000\n",
    "\n",
    "model = ESNModel(units=units, dim=4, input_scaling=input_scaling, input_connectivity=input_connectivity, input_bias= True, seed = seed, spectral_radius= spectral_radius, density=density, leak_rate=leak_rate, regularization= regularization)"
   ]
  },
  {
   "cell_type": "code",
   "execution_count": 91,
   "metadata": {},
   "outputs": [
    {
     "name": "stderr",
     "output_type": "stream",
     "text": [
      "100%|███████████████████████████████████████████████████████████████████████████████████| 37/37 [01:44<00:00,  2.83s/it]\n"
     ]
    }
   ],
   "source": [
    "from tqdm import tqdm\n",
    "\n",
    "for i in tqdm(range(len(dataset_p.sample_List))):\n",
    "    states = model.train_on_sequence(dataset_p, i, train_length = dataset_p.sample_List[i].shape[0]-1,forecast= 1)"
   ]
  },
  {
   "cell_type": "code",
   "execution_count": 46,
   "metadata": {},
   "outputs": [],
   "source": [
    "import jax\n",
    "import jax.numpy as jnp\n",
    "import numpy as np\n",
    "from jax.experimental.ode import odeint\n",
    "import matplotlib.pyplot as plt\n",
    "from functools import partial # reduces arguments to function by making some subset implicit\n",
    "\n",
    "from jax.experimental import stax\n",
    "from jax.experimental import optimizers\n",
    "\n",
    "# visualization\n",
    "import matplotlib.pyplot as plt\n",
    "from matplotlib.patches import Circle\n",
    "from moviepy.editor import ImageSequenceClip\n",
    "from functools import partial\n",
    "import proglog\n",
    "from PIL import Image"
   ]
  },
  {
   "cell_type": "code",
   "execution_count": 47,
   "metadata": {},
   "outputs": [
    {
     "name": "stdout",
     "output_type": "stream",
     "text": [
      "gpu\n"
     ]
    }
   ],
   "source": [
    "from jax.lib import xla_bridge\n",
    "print(xla_bridge.get_backend().platform)"
   ]
  },
  {
   "cell_type": "code",
   "execution_count": 48,
   "metadata": {},
   "outputs": [],
   "source": [
    "def lagrangian(q, q_dot, m1, m2, l1, l2, g):\n",
    "  t1, t2 = q     # theta 1 and theta 2\n",
    "  w1, w2 = q_dot # omega 1 and omega 2\n",
    "\n",
    "  # kinetic energy (T)\n",
    "  T1 = 0.5 * m1 * (l1 * w1)**2\n",
    "  T2 = 0.5 * m2 * ((l1 * w1)**2 + (l2 * w2)**2 +\n",
    "                    2 * l1 * l2 * w1 * w2 * jnp.cos(t1 - t2))\n",
    "  T = T1 + T2\n",
    "  \n",
    "  # potential energy (V)\n",
    "  y1 = -l1 * jnp.cos(t1)\n",
    "  y2 = y1 - l2 * jnp.cos(t2)\n",
    "  V = m1 * g * y1 + m2 * g * y2\n",
    "\n",
    "  return T - V"
   ]
  },
  {
   "cell_type": "code",
   "execution_count": 49,
   "metadata": {},
   "outputs": [],
   "source": [
    "def f_analytical(state, t=0, m1=1, m2=1, l1=1, l2=1, g=9.8):\n",
    "  t1, t2, w1, w2 = state\n",
    "  a1 = (l2 / l1) * (m2 / (m1 + m2)) * jnp.cos(t1 - t2)\n",
    "  a2 = (l1 / l2) * jnp.cos(t1 - t2)\n",
    "  f1 = -(l2 / l1) * (m2 / (m1 + m2)) * (w2**2) * jnp.sin(t1 - t2) - \\\n",
    "      (g / l1) * jnp.sin(t1)\n",
    "  f2 = (l1 / l2) * (w1**2) * jnp.sin(t1 - t2) - (g / l2) * jnp.sin(t2)\n",
    "  g1 = (f1 - a1 * f2) / (1 - a1 * a2)\n",
    "  g2 = (f2 - a2 * f1) / (1 - a1 * a2)\n",
    "  return jnp.stack([w1, w2, g1, g2])"
   ]
  },
  {
   "cell_type": "code",
   "execution_count": 50,
   "metadata": {},
   "outputs": [],
   "source": [
    "def equation_of_motion(lagrangian, state, t=None):\n",
    "  q, q_t = jnp.split(state, 2)\n",
    "  q_tt = (jnp.linalg.pinv(jax.hessian(lagrangian, 1)(q, q_t))\n",
    "          @ (jax.grad(lagrangian, 0)(q, q_t)\n",
    "             - jax.jacobian(jax.jacobian(lagrangian, 1), 0)(q, q_t) @ q_t))\n",
    "  return jnp.concatenate([q_t, q_tt])\n",
    "\n",
    "def solve_lagrangian(lagrangian, initial_state, **kwargs):\n",
    "  # We currently run odeint on CPUs only, because its cost is dominated by\n",
    "  # control flow, which is slow on GPUs.\n",
    "  @partial(jax.jit, backend='cpu')\n",
    "  def f(initial_state):\n",
    "    return odeint(partial(equation_of_motion, lagrangian),\n",
    "                  initial_state, **kwargs)\n",
    "  return f(initial_state)"
   ]
  },
  {
   "cell_type": "code",
   "execution_count": 51,
   "metadata": {},
   "outputs": [],
   "source": [
    "# Double pendulum dynamics via the rewritten Euler-Lagrange\n",
    "@partial(jax.jit, backend='cpu')\n",
    "def solve_autograd(initial_state, times, m1=1, m2=1, l1=1, l2=1, g=9.8):\n",
    "  L = partial(lagrangian, m1=m1, m2=m2, l1=l1, l2=l2, g=g)\n",
    "  return solve_lagrangian(L, initial_state, t=times, rtol=1e-10, atol=1e-10)\n",
    "\n",
    "# Double pendulum dynamics via analytical forces taken from Diego's blog\n",
    "@partial(jax.jit, backend='cpu')\n",
    "def solve_analytical(initial_state, times):\n",
    "  return odeint(f_analytical, initial_state, t=times, rtol=1e-10, atol=1e-10)\n",
    "\n",
    "def normalize_dp(state):\n",
    "  # wrap generalized coordinates to [-pi, pi]\n",
    "  return jnp.concatenate([(state[:2] + np.pi) % (2 * np.pi) - np.pi, state[2:]])\n",
    "\n",
    "def rk4_step(f, x, t, h):\n",
    "  # one step of runge-kutta integration\n",
    "  k1 = h * f(x, t)\n",
    "  k2 = h * f(x + k1/2, t + h/2)\n",
    "  k3 = h * f(x + k2/2, t + h/2)\n",
    "  k4 = h * f(x + k3, t + h)\n",
    "  return x + 1/6 * (k1 + 2 * k2 + 2 * k3 + k4)"
   ]
  },
  {
   "cell_type": "code",
   "execution_count": 52,
   "metadata": {},
   "outputs": [
    {
     "name": "stdout",
     "output_type": "stream",
     "text": [
      "CPU times: user 903 ms, sys: 4.23 ms, total: 907 ms\n",
      "Wall time: 895 ms\n"
     ]
    }
   ],
   "source": [
    "# choose an initial state\n",
    "x1 = np.array([3*np.pi/7, 3*np.pi/4, 0, 0], dtype=np.float32)\n",
    "\n",
    "t2 = np.linspace(0, 20, num=301)\n",
    "%time x1_analytical = jax.device_get(solve_analytical(x1, t2))"
   ]
  },
  {
   "cell_type": "code",
   "execution_count": 53,
   "metadata": {},
   "outputs": [
    {
     "name": "stdout",
     "output_type": "stream",
     "text": [
      "[1.3463968 2.3561945 0.        0.       ]\n"
     ]
    }
   ],
   "source": [
    "print(x1_analytical[0])"
   ]
  },
  {
   "cell_type": "code",
   "execution_count": 93,
   "metadata": {},
   "outputs": [],
   "source": [
    "x1_model = model.generate_on_sequence(x1_analytical)"
   ]
  },
  {
   "cell_type": "code",
   "execution_count": 100,
   "metadata": {},
   "outputs": [],
   "source": [
    "x1_model = x1_model[0]"
   ]
  },
  {
   "cell_type": "code",
   "execution_count": 112,
   "metadata": {},
   "outputs": [
    {
     "name": "stdout",
     "output_type": "stream",
     "text": [
      "301\n",
      "[1.3463968 2.3561945 0.        0.       ]\n"
     ]
    }
   ],
   "source": [
    "x1_model = np.insert(x1_model, 0, x1_analytical[0], axis=0)\n",
    "print(len(x1_model))\n",
    "print(x1_model[0])"
   ]
  },
  {
   "cell_type": "code",
   "execution_count": 113,
   "metadata": {},
   "outputs": [
    {
     "name": "stdout",
     "output_type": "stream",
     "text": [
      "[1.3463968 2.3561945 0.        0.       ]\n"
     ]
    }
   ],
   "source": [
    "print(x1_model[0])"
   ]
  },
  {
   "cell_type": "code",
   "execution_count": 114,
   "metadata": {},
   "outputs": [],
   "source": [
    "def make_plot(i, cart_coords, l1, l2, max_trail=30, trail_segments=20, r = 0.05):\n",
    "    # Plot and save an image of the double pendulum configuration for time step i.\n",
    "    plt.cla()\n",
    "\n",
    "    x1, y1, x2, y2 = cart_coords\n",
    "    ax.plot([0, x1[i], x2[i]], [0, y1[i], y2[i]], lw=2, c='k') # rods\n",
    "    c0 = Circle((0, 0), r/2, fc='k', zorder=10) # anchor point\n",
    "    c1 = Circle((x1[i], y1[i]), r, fc='b', ec='b', zorder=10) # mass 1\n",
    "    c2 = Circle((x2[i], y2[i]), r, fc='r', ec='r', zorder=10) # mass 2\n",
    "    ax.add_patch(c0)\n",
    "    ax.add_patch(c1)\n",
    "    ax.add_patch(c2)\n",
    "\n",
    "    # plot the pendulum trail (ns = number of segments)\n",
    "    s = max_trail // trail_segments\n",
    "    for j in range(trail_segments):\n",
    "        imin = i - (trail_segments-j)*s\n",
    "        if imin < 0: continue\n",
    "        imax = imin + s + 1\n",
    "        alpha = (j/trail_segments)**2 # fade the trail into alpha\n",
    "        ax.plot(x2[imin:imax], y2[imin:imax], c='r', solid_capstyle='butt',\n",
    "                lw=2, alpha=alpha)\n",
    "\n",
    "    # Center the image on the fixed anchor point. Make axes equal.\n",
    "    ax.set_xlim(-l1-l2-r, l1+l2+r)\n",
    "    ax.set_ylim(-l1-l2-r, l1+l2+r)\n",
    "    ax.set_aspect('equal', adjustable='box')\n",
    "    plt.axis('off')\n",
    "    # plt.savefig('./frames/_img{:04d}.png'.format(i//di), dpi=72)\n",
    "\n",
    "def radial2cartesian(t1, t2, l1, l2):\n",
    "  # Convert from radial to Cartesian coordinates.\n",
    "  x1 = l1 * np.sin(t1)\n",
    "  y1 = -l1 * np.cos(t1)\n",
    "  x2 = x1 + l2 * np.sin(t2)\n",
    "  y2 = y1 - l2 * np.cos(t2)\n",
    "  return x1, y1, x2, y2\n",
    "\n",
    "def fig2image(fig):\n",
    "  fig.canvas.draw()\n",
    "  data = np.fromstring(fig.canvas.tostring_rgb(), dtype=np.uint8, sep='')\n",
    "  image = data.reshape(fig.canvas.get_width_height()[::-1] + (3,))\n",
    "  return image"
   ]
  },
  {
   "cell_type": "code",
   "execution_count": 115,
   "metadata": {},
   "outputs": [],
   "source": [
    "L1, L2 = 1, 1\n",
    "theta1mod, theta2mod = x1_model[:, 0], x1_model[:, 1]\n",
    "cart_coords_mod = radial2cartesian(theta1mod, theta2mod, L1, L2)\n",
    "\n",
    "L1, L2 = 1, 1\n",
    "theta1ana, theta2ana = x1_analytical[:, 0], x1_analytical[:, 1]\n",
    "cart_coords_ana = radial2cartesian(theta1ana, theta2ana, L1, L2)"
   ]
  },
  {
   "cell_type": "code",
   "execution_count": 116,
   "metadata": {},
   "outputs": [],
   "source": [
    "def cart_coords_over_time(cart_coords):\n",
    "    x1, y1, x2, y2 = cart_coords\n",
    "    \n",
    "    length = len(x2)\n",
    "    t = np.arange(length)\n",
    "    \n",
    "    plt.title(\"ESN Double Pendulum \" + f\"Timeseries - {length - 1} timesteps\")\n",
    "\n",
    "    plt.plot(x2, y2, marker='.', color=\"lightgray\", zorder=0)\n",
    "    plt.scatter(x2, y2, marker='o', c=t[:length], cmap=\"viridis\", s=10, zorder=1)\n",
    "\n",
    "    plt.xlabel(\"$x$\")\n",
    "    plt.ylabel(\"$y$\")\n",
    "\n",
    "    cbar = plt.colorbar()\n",
    "    cbar.ax.set_ylabel('$t$', rotation=270)\n",
    "\n",
    "    #plt.gca().invert_yaxis()\n",
    "\n",
    "    plt.tight_layout()\n",
    "    plt.show()"
   ]
  },
  {
   "cell_type": "code",
   "execution_count": 117,
   "metadata": {},
   "outputs": [
    {
     "data": {
      "image/png": "[encoded data removed]",
      "text/plain": [
       "<Figure size 432x288 with 2 Axes>"
      ]
     },
     "metadata": {
      "needs_background": "light"
     },
     "output_type": "display_data"
    }
   ],
   "source": [
    "cart_coords_over_time(cart_coords_mod)"
   ]
  },
  {
   "cell_type": "code",
   "execution_count": 118,
   "metadata": {},
   "outputs": [
    {
     "name": "stdout",
     "output_type": "stream",
     "text": [
      "0/300\n",
      "1/300 2/300 3/300 4/300 5/300 6/300 7/300 8/300 9/300 10/300 11/300 12/300 13/300 14/300 15/300 16/300 17/300 18/300 19/300 20/300\n",
      "21/300 22/300 23/300 24/300 25/300 26/300 27/300 28/300 29/300 30/300 31/300 32/300 33/300 34/300 35/300 36/300 37/300 38/300 39/300 40/300\n",
      "41/300 42/300 43/300 44/300 45/300 46/300 47/300 48/300 49/300 50/300 51/300 52/300 53/300 54/300 55/300 56/300 57/300 58/300 59/300 60/300\n",
      "61/300 62/300 63/300 64/300 65/300 66/300 67/300 68/300 69/300 70/300 71/300 72/300 73/300 74/300 75/300 76/300 77/300 78/300 79/300 80/300\n",
      "81/300 82/300 83/300 84/300 85/300 86/300 87/300 88/300 89/300 90/300 91/300 92/300 93/300 94/300 95/300 96/300 97/300 98/300 99/300 100/300\n",
      "101/300 102/300 103/300 104/300 105/300 106/300 107/300 108/300 109/300 110/300 111/300 112/300 113/300 114/300 115/300 116/300 117/300 118/300 119/300 120/300\n",
      "121/300 122/300 123/300 124/300 125/300 126/300 127/300 128/300 129/300 130/300 131/300 132/300 133/300 134/300 135/300 136/300 137/300 138/300 139/300 140/300\n",
      "141/300 142/300 143/300 144/300 145/300 146/300 147/300 148/300 149/300 150/300 151/300 152/300 153/300 154/300 155/300 156/300 157/300 158/300 159/300 160/300\n",
      "161/300 162/300 163/300 164/300 165/300 166/300 167/300 168/300 169/300 170/300 171/300 172/300 173/300 174/300 175/300 176/300 177/300 178/300 179/300 180/300\n",
      "181/300 182/300 183/300 184/300 185/300 186/300 187/300 188/300 189/300 190/300 191/300 192/300 193/300 194/300 195/300 196/300 197/300 198/300 199/300 200/300\n",
      "201/300 202/300 203/300 204/300 205/300 206/300 207/300 208/300 209/300 210/300 211/300 212/300 213/300 214/300 215/300 216/300 217/300 218/300 219/300 220/300\n",
      "221/300 222/300 223/300 224/300 225/300 226/300 227/300 228/300 229/300 230/300 231/300 232/300 233/300 234/300 235/300 236/300 237/300 238/300 239/300 240/300\n",
      "241/300 242/300 243/300 244/300 245/300 246/300 247/300 248/300 249/300 250/300 251/300 252/300 253/300 254/300 255/300 256/300 257/300 258/300 259/300 260/300\n",
      "261/300 262/300 263/300 264/300 265/300 266/300 267/300 268/300 269/300 270/300 271/300 272/300 273/300 274/300 275/300 276/300 277/300 278/300 279/300 280/300\n",
      "281/300 282/300 283/300 284/300 285/300 286/300 287/300 288/300 289/300 290/300 291/300 292/300 293/300 294/300 295/300 296/300 297/300 298/300 299/300 Moviepy - Building video ESNDoublePendulumMotion.mp4.\n",
      "Moviepy - Writing video ESNDoublePendulumMotion.mp4\n",
      "\n"
     ]
    },
    {
     "name": "stderr",
     "output_type": "stream",
     "text": [
      "                                                                                                                        \r"
     ]
    },
    {
     "name": "stdout",
     "output_type": "stream",
     "text": [
      "Moviepy - Done !\n",
      "Moviepy - video ready ESNDoublePendulumMotion.mp4\n"
     ]
    },
    {
     "data": {
      "image/png": "[encoded data removed]",
      "text/plain": [
       "<Figure size 599.998x450 with 1 Axes>"
      ]
     },
     "metadata": {
      "needs_background": "light"
     },
     "output_type": "display_data"
    }
   ],
   "source": [
    "fig = plt.figure(figsize=(8.3333, 6.25), dpi=72)\n",
    "ax = fig.add_subplot(111)\n",
    "\n",
    "import warnings\n",
    "warnings.filterwarnings(\"ignore\")\n",
    "\n",
    "images = []\n",
    "di = 1\n",
    "N = 300\n",
    "for i in range(0, N, di):\n",
    "  print(\"{}/{}\".format(i // di, N // di), end='\\n' if i//di%20==0 else ' ')\n",
    "  make_plot(i, cart_coords_mod, 1, 1)\n",
    "  images.append( fig2image(fig) )\n",
    "\n",
    "analytical_clip = ImageSequenceClip(images, fps=25)\n",
    "analytical_clip.write_videofile(\"ESNDoublePendulumMotion.mp4\")"
   ]
  },
  {
   "cell_type": "code",
   "execution_count": 119,
   "metadata": {},
   "outputs": [],
   "source": [
    "def cart_error_over_time(cart_coords_model, cart_coords_ana):\n",
    "    x11, y11, x21, y21 = cart_coords_ana\n",
    "    x12, y12, x22, y22 = cart_coords_model\n",
    "    \n",
    "    distance_1 = np.sqrt((np.square(np.absolute(x11 - x12)) + np.square(np.absolute(y11 - y12))))\n",
    "    distance_2 = np.sqrt((np.square(np.absolute(x21 - x22)) + np.square(np.absolute(y21 - y22))))\n",
    "    \n",
    "    index = np.arange(np.size(distance_1))\n",
    "    \n",
    "    plt.plot(index, distance_1, label='first pendulum arm')\n",
    "    plt.plot(index, distance_2, label='second pendulum arm')\n",
    "    plt.legend(loc=\"upper right\")\n",
    "    \n",
    "    plt.title('Error Over Time by Distance')\n",
    "    plt.xlabel('Timestep')\n",
    "    plt.ylabel('Distance')\n",
    "\n",
    "    plt.show()"
   ]
  },
  {
   "cell_type": "code",
   "execution_count": 120,
   "metadata": {},
   "outputs": [
    {
     "data": {
      "image/png": "[encoded data removed]",
      "text/plain": [
       "<Figure size 432x288 with 1 Axes>"
      ]
     },
     "metadata": {
      "needs_background": "light"
     },
     "output_type": "display_data"
    }
   ],
   "source": [
    "cart_error_over_time(cart_coords_mod, cart_coords_ana)"
   ]
  },
  {
   "cell_type": "code",
   "execution_count": 123,
   "metadata": {},
   "outputs": [],
   "source": [
    "def theta_error_over_time(theta1_model, theta2_model, theta1_ana, theta2_ana):\n",
    "    distance_1 = theta1_model - theta1_ana\n",
    "    distance_2 = theta2_model - theta2_ana\n",
    "    \n",
    "    index = np.arange(np.size(distance_1))\n",
    "    \n",
    "    plt.plot(index, distance_1, label='first pendulum arm')\n",
    "    plt.plot(index, distance_2, label='second pendulum arm')\n",
    "    plt.legend(loc=\"lower left\")\n",
    "    \n",
    "    plt.title('Error Over Time by Angle')\n",
    "    plt.xlabel('Timestep')\n",
    "    plt.ylabel('Angle (radians)')\n",
    "\n",
    "    plt.show()"
   ]
  },
  {
   "cell_type": "code",
   "execution_count": 124,
   "metadata": {},
   "outputs": [
    {
     "data": {
      "image/png": "[encoded data removed]",
      "text/plain": [
       "<Figure size 432x288 with 1 Axes>"
      ]
     },
     "metadata": {
      "needs_background": "light"
     },
     "output_type": "display_data"
    }
   ],
   "source": [
    "theta_error_over_time(theta1mod, theta2mod, theta1ana, theta2ana)"
   ]
  },
  {
   "cell_type": "code",
   "execution_count": null,
   "metadata": {},
   "outputs": [],
   "source": []
  }
 ],
 "metadata": {
  "interpreter": {
   "hash": "9950993fed0fd9aed4b27a856c953e397ab7787bcf7b4a95697366d9a811f382"
  },
  "kernelspec": {
   "display_name": "Python 3 (ipykernel)",
   "language": "python",
   "name": "python3"
  },
  "language_info": {
   "codemirror_mode": {
    "name": "ipython",
    "version": 3
   },
   "file_extension": ".py",
   "mimetype": "text/x-python",
   "name": "python",
   "nbconvert_exporter": "python",
   "pygments_lexer": "ipython3",
   "version": "3.8.5"
  }
 },
 "nbformat": 4,
 "nbformat_minor": 2
}
