{
 "cells": [
  {
   "cell_type": "markdown",
   "metadata": {},
   "source": [
    "# Penndulum Model Codes"
   ]
  },
  {
   "cell_type": "markdown",
   "metadata": {},
   "source": [
    "## Dependencies"
   ]
  },
  {
   "cell_type": "code",
   "execution_count": 182,
   "metadata": {},
   "outputs": [],
   "source": [
    "import os\n",
    "import shutil\n",
    "import random; random.seed(42)\n",
    "\n",
    "import pandas as pd\n",
    "import numpy as np\n",
    "from tqdm import tqdm\n",
    "from matplotlib import pyplot as plt\n",
    "import torch\n",
    "from torch import nn\n",
    "from reservoirpy import mat_gen, ESN"
   ]
  },
  {
   "cell_type": "markdown",
   "metadata": {},
   "source": [
    "## Directories:"
   ]
  },
  {
   "cell_type": "code",
   "execution_count": 183,
   "metadata": {},
   "outputs": [],
   "source": [
    "# training data\n",
    "train_dir = '/raid/cs152/zxaa2018/penndulum/train_and_test_split/dpc_dataset_traintest_4_200_csv/train'\n",
    "train_dir_video = '/raid/cs152/zxaa2018/penndulum//train_and_test_split/dpc_dataset_traintest_4_200_h264/train'\n",
    "\n",
    "# test data\n",
    "test_inputs_dir = '/raid/cs152/zxaa2018/penndulum/train_and_test_split/dpc_dataset_traintest_4_200_csv/test_inputs/'\n",
    "test_targets_dir = '/raid/cs152/zxaa2018/penndulum/train_and_test_split/dpc_dataset_traintest_4_200_csv/test_targets/'\n",
    "test_targets_video = '/raid/cs152/zxaa2018/penndulum/train_and_test_split/dpc_dataset_traintest_4_200_h264/test_targets/'\n",
    "\n",
    "# validation data\n",
    "validation_inputs_dir = '/raid/cs152/zxaa2018/penndulum/train_and_test_split/dpc_dataset_traintest_4_200_csv/validation_inputs/'\n",
    "validation_targets_dir = '/raid/cs152/zxaa2018/penndulum/train_and_test_split/dpc_dataset_traintest_4_200_csv/validation_targets/'\n",
    "validation_targets_video = '/raid/cs152/zxaa2018/penndulum/train_and_test_split/dpc_dataset_traintest_4_200_h264/validation_targets/'"
   ]
  },
  {
   "cell_type": "markdown",
   "metadata": {},
   "source": [
    "## Functions and Class Definitions\n",
    "\n",
    "### Data Transformation Functions"
   ]
  },
  {
   "cell_type": "code",
   "execution_count": 184,
   "metadata": {},
   "outputs": [],
   "source": [
    "# some constants\n",
    "DEFAULT_X_RED, DEFAULT_Y_RED = (240, 232)\n",
    "\n",
    "PIXEL_DISTANCE_GREEN_TO_RED = 118 # approx. value | calculated with the Pythagorean theorem and averaged: np.sqrt((y_green-y_red)**2 + (x_green-x_red)**2)\n",
    "PIXEL_DISTANCE_BLUE_TO_GREEN = 90 # approx. value | calculated with the Pythagorean theorem and averaged: np.sqrt((y_blue-y_green)**2 + (x_blue-x_green)**2)\n",
    "\n",
    "def raw_to_pixel(l):\n",
    "    '''Convert the raw coordinates to pixel coordinates.'''\n",
    "    assert isinstance(l, list)\n",
    "    return [x/5 for x in l]\n",
    "\n",
    "\n",
    "def pixel_to_raw(l):\n",
    "    '''Convert the pixel coordinates to raw coordinates.'''\n",
    "    assert isinstance(l, list)\n",
    "    return [x*5 for x in l]\n",
    "\n",
    "\n",
    "def raw_cartesian_to_polar_angles(l):\n",
    "    '''Convert the cartesian coordinates to polar coordinates.'''\n",
    "    assert isinstance(l, list)\n",
    "    x_red, y_red, x_green, y_green, x_blue, y_blue = raw_to_pixel(l)\n",
    "\n",
    "    angle_green_red = np.arctan((y_green-y_red)/(x_green-x_red+0.001))\n",
    "    angle_blue_green = np.arctan((y_blue-y_green)/(x_blue-x_green+0.001))\n",
    "    \n",
    "    return [np.sin(angle_green_red), np.cos(angle_green_red), np.sin(angle_blue_green), np.cos(angle_blue_green)]\n",
    "\n",
    "def polar_angles_to_raw_cartesian(l):\n",
    "    '''Convert the polar coordinates back to cartesian coordinates.'''\n",
    "    assert isinstance(l, list)\n",
    "    sin_angle_green_red, cos_angle_green_red, sin_angle_blue_green, cos_angle_blue_green = l\n",
    "    \n",
    "    y_green = PIXEL_DISTANCE_GREEN_TO_RED * sin_angle_green_red + DEFAULT_Y_RED\n",
    "    x_green = PIXEL_DISTANCE_GREEN_TO_RED * cos_angle_green_red + DEFAULT_X_RED\n",
    "\n",
    "    y_blue = PIXEL_DISTANCE_BLUE_TO_GREEN * sin_angle_blue_green + y_green\n",
    "    x_blue = PIXEL_DISTANCE_BLUE_TO_GREEN * cos_angle_blue_green + x_green\n",
    "    \n",
    "    return pixel_to_raw([DEFAULT_X_RED, DEFAULT_Y_RED, x_green, y_green, x_blue, y_blue])"
   ]
  },
  {
   "cell_type": "markdown",
   "metadata": {},
   "source": [
    "### Data reading functions"
   ]
  },
  {
   "cell_type": "markdown",
   "metadata": {},
   "source": [
    "Parsing training data:\n",
    "training data x-y matching is like this:\n",
    "x: a list of 4 frames\n",
    "y: the frame that follows"
   ]
  },
  {
   "cell_type": "code",
   "execution_count": 185,
   "metadata": {},
   "outputs": [],
   "source": [
    "def parse_csv_esn(csv_file):\n",
    "    '''Given a csv file and a length of sequence, return the sequence in list of list'''\n",
    "    X_data = []\n",
    "    f = pd.read_csv(csv_file, header=None, delim_whitespace=True, engine='python')\n",
    "    temp = []\n",
    "    for i, row in f.iterrows():\n",
    "        next_frame = row.to_list()\n",
    "        X_data.append(next_frame.copy())\n",
    "        \n",
    "    return X_data"
   ]
  },
  {
   "cell_type": "code",
   "execution_count": 186,
   "metadata": {},
   "outputs": [],
   "source": [
    "def get_seq_list(source_dir):\n",
    "    result = []\n",
    "    name = []\n",
    "    for filename in tqdm([x for x in os.listdir(source_dir) if not x.startswith('.')]):\n",
    "        # load in a file\n",
    "        name.append(filename)\n",
    "        X_data = parse_csv_esn(os.path.join(source_dir, filename))\n",
    "        result.append(X_data)\n",
    "    return result, name"
   ]
  },
  {
   "cell_type": "code",
   "execution_count": 187,
   "metadata": {},
   "outputs": [],
   "source": [
    "def normalize_sequence(sequence: np.ndarray):\n",
    "    '''Given a sequence in shape (n,6), normalize the sequence to [-1,1]'''\n",
    "    # get range of x coords 0,2,4\n",
    "    x_factor = (sequence[:,[0,2,4]].max() - sequence[:,[0,2,4]].min()) * 1.0\n",
    "    y_factor = (sequence[:,[1,3,5]].max() - sequence[:,[1,3,5]].min()) * 1.0\n",
    "\n",
    "    sequence[:,[0,2,4]] = sequence[:,[0,2,4]] / max(x_factor,1e-6) - 0.5\n",
    "    sequence[:,[1,3,5]] = sequence[:,[1,3,5]] / max(y_factor, 1e-6) - 0.5\n",
    "\n",
    "    return sequence, (x_factor, y_factor)\n",
    "\n",
    "def denormalize_sequence(sequence: np.array, factors: tuple):\n",
    "    '''Given a sequence in shape (n,6), normalized to [-1,1], and the normalize factors along the x, y axis, return the denormalized sequence'''\n",
    "    sequence[:,[0,2,4]] = (sequence[:,[0,2,4]] + 0.5) * factors[0]\n",
    "    sequence[:,[1,3,5]] = (sequence[:,[1,3,5]] + 0.5) * factors[1]\n",
    "\n",
    "    return sequence\n",
    "    "
   ]
  },
  {
   "cell_type": "markdown",
   "metadata": {},
   "source": [
    "### Dataset Definition"
   ]
  },
  {
   "cell_type": "code",
   "execution_count": 188,
   "metadata": {},
   "outputs": [],
   "source": [
    "class NormalizedDatast():\n",
    "    def __init__(self,X_list: list, name_list: list):\n",
    "        self.sample_List = []\n",
    "        self.factor_list = []\n",
    "        self.name_dict = {}\n",
    "        for i, (seq, name) in enumerate(zip(X_list, name_list)):\n",
    "            self.name_dict[i] = name\n",
    "            norm_seq, factors = normalize_sequence(np.array(seq, dtype=float))\n",
    "            self.sample_List.append(norm_seq)\n",
    "            self.factor_list.append(factors)\n",
    "\n",
    "    def __len__(self):\n",
    "        return len(self.sample_list)\n",
    "    \n",
    "    def getFactor(self, index: int):\n",
    "        return self.x_factor_list[index], self.y_factor_list[index]"
   ]
  },
  {
   "cell_type": "markdown",
   "metadata": {},
   "source": [
    "### Model Definition"
   ]
  },
  {
   "cell_type": "markdown",
   "metadata": {},
   "source": [
    "Data Visualization Functions"
   ]
  },
  {
   "cell_type": "code",
   "execution_count": 189,
   "metadata": {},
   "outputs": [],
   "source": [
    "def plot_comparison(Xgen, Xgen_test, length, axis1, axis2):\n",
    "    t = np.arange(length)\n",
    "    fig = plt.figure(figsize = (13,5))\n",
    "\n",
    "\n",
    "    plt.subplot((121))\n",
    "    plt.title(f\"Ground Truth, first {length} frame\")\n",
    "    plt_x = [y[1] for y in Xgen_test[:,[axis1, axis2]][:length]]\n",
    "    plt_y = [y[0] for y in Xgen_test[:,[axis1, axis2]][:length]]\n",
    "\n",
    "    plt.plot(plt_x, plt_y, lw=1,color=\"lightgrey\", zorder=0)\n",
    "    plt.scatter(plt_x, plt_y,lw=0.5, c = t[:len(plt_x)],cmap=\"viridis\", s=6)\n",
    "    plt.gca().invert_yaxis()\n",
    "    plt.xlabel(\"x (normalized)\")\n",
    "    plt.ylabel(\"y (normalized)\")\n",
    "\n",
    "    plt.subplot((122))\n",
    "    plt.title(f\"Prediction, first {length} frame\")\n",
    "    plt_x_res = [y[1] for y in Xgen[:,[axis1, axis2]][:length]]\n",
    "    plt_y_res = [y[0] for y in Xgen[:,[axis1, axis2]][:length]]\n",
    "\n",
    "    plt.plot(plt_x_res, plt_y_res, lw=1,color=\"lightgrey\", zorder=0)\n",
    "    plt.scatter(plt_x_res, plt_y_res,lw=0.5, c = t[:len(plt_x)],cmap=\"viridis\", s=6)\n",
    "    plt.gca().invert_yaxis()\n",
    "    plt.xlabel(\"x (normalized)\")\n",
    "    plt.ylabel(\"y (normalized)\")"
   ]
  },
  {
   "cell_type": "markdown",
   "metadata": {},
   "source": [
    "## Training, testing and analysis Codes\n",
    "\n",
    "### Loading Training Data"
   ]
  },
  {
   "cell_type": "code",
   "execution_count": 190,
   "metadata": {},
   "outputs": [
    {
     "name": "stderr",
     "output_type": "stream",
     "text": [
      "100%|██████████| 40/40 [00:28<00:00,  1.42it/s]\n",
      "100%|██████████| 24/24 [00:00<00:00, 56.14it/s]\n"
     ]
    }
   ],
   "source": [
    "# load in all separate files\n",
    "Seq_train, Seq_train_name = get_seq_list(train_dir)\n",
    "\n",
    "Seq_valid_input, Seq_valid_names = get_seq_list(validation_targets_dir)\n",
    "\n",
    "dataset = NormalizedDatast(Seq_train, Seq_train_name)\n",
    "\n",
    "valid_dataset = NormalizedDatast(Seq_valid_input,Seq_valid_names)\n"
   ]
  },
  {
   "cell_type": "markdown",
   "metadata": {},
   "source": [
    "### Hyperparameter and Model instantiate"
   ]
  },
  {
   "cell_type": "code",
   "execution_count": 191,
   "metadata": {},
   "outputs": [],
   "source": [
    "units = 1000\n",
    "leak_rate = 0.2\n",
    "spectral_radius = 1.0\n",
    "input_scaling = 1\n",
    "density = 0.1\n",
    "input_connectivity = 1.0\n",
    "regularization = 1e-6\n",
    "seed = 1234\n",
    "\n",
    "Win = mat_gen.generate_input_weights(units, 6, input_scaling=input_scaling,\n",
    "                                     proba=input_connectivity, input_bias=True,\n",
    "                                     seed=seed)\n",
    "\n",
    "W = mat_gen.generate_internal_weights(units, sr=spectral_radius,\n",
    "                              proba=density, seed=seed)\n",
    "\n",
    "reservoir = ESN(leak_rate, W, Win, ridge=regularization)"
   ]
  },
  {
   "cell_type": "markdown",
   "metadata": {},
   "source": [
    "### Training"
   ]
  },
  {
   "cell_type": "code",
   "execution_count": 192,
   "metadata": {},
   "outputs": [
    {
     "name": "stdout",
     "output_type": "stream",
     "text": [
      "Training on 1 inputs (6687 steps) -- wash: 0 steps\n"
     ]
    },
    {
     "name": "stderr",
     "output_type": "stream",
     "text": [
      "Train: 100%|██████████| 6687/6687 [00:04<00:00, 1602.46it/s]\n"
     ]
    },
    {
     "name": "stdout",
     "output_type": "stream",
     "text": [
      "Training on 1 inputs (587 steps) -- wash: 0 steps\n"
     ]
    },
    {
     "name": "stderr",
     "output_type": "stream",
     "text": [
      "Train: 100%|██████████| 587/587 [00:00<00:00, 622.25it/s]\n"
     ]
    },
    {
     "name": "stdout",
     "output_type": "stream",
     "text": [
      "Training on 1 inputs (14445 steps) -- wash: 0 steps\n"
     ]
    },
    {
     "name": "stderr",
     "output_type": "stream",
     "text": [
      "Train: 100%|██████████| 14445/14445 [00:08<00:00, 1714.49it/s]\n"
     ]
    },
    {
     "name": "stdout",
     "output_type": "stream",
     "text": [
      "Training on 1 inputs (7436 steps) -- wash: 0 steps\n"
     ]
    },
    {
     "name": "stderr",
     "output_type": "stream",
     "text": [
      "Train: 100%|██████████| 7436/7436 [00:04<00:00, 1623.79it/s]\n"
     ]
    },
    {
     "name": "stdout",
     "output_type": "stream",
     "text": [
      "Training on 1 inputs (4105 steps) -- wash: 0 steps\n"
     ]
    },
    {
     "name": "stderr",
     "output_type": "stream",
     "text": [
      "Train: 100%|██████████| 4105/4105 [00:02<00:00, 1465.65it/s]\n"
     ]
    },
    {
     "name": "stdout",
     "output_type": "stream",
     "text": [
      "Training on 1 inputs (1457 steps) -- wash: 0 steps\n"
     ]
    },
    {
     "name": "stderr",
     "output_type": "stream",
     "text": [
      "Train: 100%|██████████| 1457/1457 [00:01<00:00, 1008.39it/s]\n"
     ]
    },
    {
     "name": "stdout",
     "output_type": "stream",
     "text": [
      "Training on 1 inputs (2345 steps) -- wash: 0 steps\n"
     ]
    },
    {
     "name": "stderr",
     "output_type": "stream",
     "text": [
      "Train: 100%|██████████| 2345/2345 [00:01<00:00, 1174.79it/s]\n"
     ]
    },
    {
     "name": "stdout",
     "output_type": "stream",
     "text": [
      "Training on 1 inputs (11001 steps) -- wash: 0 steps\n"
     ]
    },
    {
     "name": "stderr",
     "output_type": "stream",
     "text": [
      "Train: 100%|██████████| 11001/11001 [00:06<00:00, 1715.36it/s]\n"
     ]
    },
    {
     "name": "stdout",
     "output_type": "stream",
     "text": [
      "Training on 1 inputs (17122 steps) -- wash: 0 steps\n"
     ]
    },
    {
     "name": "stderr",
     "output_type": "stream",
     "text": [
      "Train: 100%|██████████| 17122/17122 [00:10<00:00, 1704.56it/s]\n"
     ]
    },
    {
     "name": "stdout",
     "output_type": "stream",
     "text": [
      "Training on 1 inputs (9284 steps) -- wash: 0 steps\n"
     ]
    },
    {
     "name": "stderr",
     "output_type": "stream",
     "text": [
      "Train: 100%|██████████| 9284/9284 [00:05<00:00, 1670.30it/s]\n"
     ]
    },
    {
     "name": "stdout",
     "output_type": "stream",
     "text": [
      "Training on 1 inputs (606 steps) -- wash: 0 steps\n"
     ]
    },
    {
     "name": "stderr",
     "output_type": "stream",
     "text": [
      "Train: 100%|██████████| 606/606 [00:00<00:00, 627.44it/s]\n"
     ]
    },
    {
     "name": "stdout",
     "output_type": "stream",
     "text": [
      "Training on 1 inputs (4071 steps) -- wash: 0 steps\n"
     ]
    },
    {
     "name": "stderr",
     "output_type": "stream",
     "text": [
      "Train: 100%|██████████| 4071/4071 [00:02<00:00, 1424.75it/s]\n"
     ]
    },
    {
     "name": "stdout",
     "output_type": "stream",
     "text": [
      "Training on 1 inputs (3125 steps) -- wash: 0 steps\n"
     ]
    },
    {
     "name": "stderr",
     "output_type": "stream",
     "text": [
      "Train: 100%|██████████| 3125/3125 [00:02<00:00, 1373.56it/s]\n"
     ]
    },
    {
     "name": "stdout",
     "output_type": "stream",
     "text": [
      "Training on 1 inputs (15637 steps) -- wash: 0 steps\n"
     ]
    },
    {
     "name": "stderr",
     "output_type": "stream",
     "text": [
      "Train: 100%|██████████| 15637/15637 [00:09<00:00, 1737.09it/s]\n"
     ]
    },
    {
     "name": "stdout",
     "output_type": "stream",
     "text": [
      "Training on 1 inputs (6589 steps) -- wash: 0 steps\n"
     ]
    },
    {
     "name": "stderr",
     "output_type": "stream",
     "text": [
      "Train: 100%|██████████| 6589/6589 [00:04<00:00, 1604.26it/s]\n"
     ]
    },
    {
     "name": "stdout",
     "output_type": "stream",
     "text": [
      "Training on 1 inputs (11688 steps) -- wash: 0 steps\n"
     ]
    },
    {
     "name": "stderr",
     "output_type": "stream",
     "text": [
      "Train: 100%|██████████| 11688/11688 [00:07<00:00, 1664.32it/s]\n"
     ]
    },
    {
     "name": "stdout",
     "output_type": "stream",
     "text": [
      "Training on 1 inputs (2324 steps) -- wash: 0 steps\n"
     ]
    },
    {
     "name": "stderr",
     "output_type": "stream",
     "text": [
      "Train: 100%|██████████| 2324/2324 [00:01<00:00, 1209.88it/s]\n"
     ]
    },
    {
     "name": "stdout",
     "output_type": "stream",
     "text": [
      "Training on 1 inputs (11575 steps) -- wash: 0 steps\n"
     ]
    },
    {
     "name": "stderr",
     "output_type": "stream",
     "text": [
      "Train: 100%|██████████| 11575/11575 [00:06<00:00, 1748.82it/s]\n"
     ]
    },
    {
     "name": "stdout",
     "output_type": "stream",
     "text": [
      "Training on 1 inputs (5553 steps) -- wash: 0 steps\n"
     ]
    },
    {
     "name": "stderr",
     "output_type": "stream",
     "text": [
      "Train: 100%|██████████| 5553/5553 [00:03<00:00, 1554.14it/s]\n"
     ]
    },
    {
     "name": "stdout",
     "output_type": "stream",
     "text": [
      "Training on 1 inputs (14341 steps) -- wash: 0 steps\n"
     ]
    },
    {
     "name": "stderr",
     "output_type": "stream",
     "text": [
      "Train: 100%|██████████| 14341/14341 [00:08<00:00, 1722.94it/s]\n"
     ]
    },
    {
     "name": "stdout",
     "output_type": "stream",
     "text": [
      "Training on 1 inputs (9145 steps) -- wash: 0 steps\n"
     ]
    },
    {
     "name": "stderr",
     "output_type": "stream",
     "text": [
      "Train: 100%|██████████| 9145/9145 [00:05<00:00, 1692.09it/s]\n"
     ]
    },
    {
     "name": "stdout",
     "output_type": "stream",
     "text": [
      "Training on 1 inputs (4818 steps) -- wash: 0 steps\n"
     ]
    },
    {
     "name": "stderr",
     "output_type": "stream",
     "text": [
      "Train: 100%|██████████| 4818/4818 [00:03<00:00, 1464.03it/s]\n"
     ]
    },
    {
     "name": "stdout",
     "output_type": "stream",
     "text": [
      "Training on 1 inputs (12709 steps) -- wash: 0 steps\n"
     ]
    },
    {
     "name": "stderr",
     "output_type": "stream",
     "text": [
      "Train: 100%|██████████| 12709/12709 [00:07<00:00, 1686.27it/s]\n"
     ]
    },
    {
     "name": "stdout",
     "output_type": "stream",
     "text": [
      "Training on 1 inputs (16800 steps) -- wash: 0 steps\n"
     ]
    },
    {
     "name": "stderr",
     "output_type": "stream",
     "text": [
      "Train: 100%|██████████| 16800/16800 [00:09<00:00, 1714.84it/s]\n"
     ]
    },
    {
     "name": "stdout",
     "output_type": "stream",
     "text": [
      "Training on 1 inputs (5809 steps) -- wash: 0 steps\n"
     ]
    },
    {
     "name": "stderr",
     "output_type": "stream",
     "text": [
      "Train: 100%|██████████| 5809/5809 [00:03<00:00, 1554.04it/s]\n"
     ]
    },
    {
     "name": "stdout",
     "output_type": "stream",
     "text": [
      "Training on 1 inputs (14527 steps) -- wash: 0 steps\n"
     ]
    },
    {
     "name": "stderr",
     "output_type": "stream",
     "text": [
      "Train: 100%|██████████| 14527/14527 [00:08<00:00, 1735.16it/s]\n"
     ]
    },
    {
     "name": "stdout",
     "output_type": "stream",
     "text": [
      "Training on 1 inputs (15121 steps) -- wash: 0 steps\n"
     ]
    },
    {
     "name": "stderr",
     "output_type": "stream",
     "text": [
      "Train: 100%|██████████| 15121/15121 [00:08<00:00, 1731.61it/s]\n"
     ]
    },
    {
     "name": "stdout",
     "output_type": "stream",
     "text": [
      "Training on 1 inputs (12816 steps) -- wash: 0 steps\n"
     ]
    },
    {
     "name": "stderr",
     "output_type": "stream",
     "text": [
      "Train: 100%|██████████| 12816/12816 [00:07<00:00, 1677.10it/s]\n"
     ]
    },
    {
     "name": "stdout",
     "output_type": "stream",
     "text": [
      "Training on 1 inputs (10529 steps) -- wash: 0 steps\n"
     ]
    },
    {
     "name": "stderr",
     "output_type": "stream",
     "text": [
      "Train: 100%|██████████| 10529/10529 [00:06<00:00, 1679.47it/s]\n"
     ]
    },
    {
     "name": "stdout",
     "output_type": "stream",
     "text": [
      "Training on 1 inputs (10158 steps) -- wash: 0 steps\n"
     ]
    },
    {
     "name": "stderr",
     "output_type": "stream",
     "text": [
      "Train: 100%|██████████| 10158/10158 [00:06<00:00, 1689.01it/s]\n"
     ]
    },
    {
     "name": "stdout",
     "output_type": "stream",
     "text": [
      "Training on 1 inputs (1393 steps) -- wash: 0 steps\n"
     ]
    },
    {
     "name": "stderr",
     "output_type": "stream",
     "text": [
      "Train: 100%|██████████| 1393/1393 [00:01<00:00, 969.79it/s] \n"
     ]
    },
    {
     "name": "stdout",
     "output_type": "stream",
     "text": [
      "Training on 1 inputs (4865 steps) -- wash: 0 steps\n"
     ]
    },
    {
     "name": "stderr",
     "output_type": "stream",
     "text": [
      "Train: 100%|██████████| 4865/4865 [00:03<00:00, 1495.31it/s]\n"
     ]
    },
    {
     "name": "stdout",
     "output_type": "stream",
     "text": [
      "Training on 1 inputs (13612 steps) -- wash: 0 steps\n"
     ]
    },
    {
     "name": "stderr",
     "output_type": "stream",
     "text": [
      "Train: 100%|██████████| 13612/13612 [00:08<00:00, 1685.98it/s]\n"
     ]
    },
    {
     "name": "stdout",
     "output_type": "stream",
     "text": [
      "Training on 1 inputs (8434 steps) -- wash: 0 steps\n"
     ]
    },
    {
     "name": "stderr",
     "output_type": "stream",
     "text": [
      "Train: 100%|██████████| 8434/8434 [00:05<00:00, 1654.06it/s]\n"
     ]
    },
    {
     "name": "stdout",
     "output_type": "stream",
     "text": [
      "Training on 1 inputs (13255 steps) -- wash: 0 steps\n"
     ]
    },
    {
     "name": "stderr",
     "output_type": "stream",
     "text": [
      "Train: 100%|██████████| 13255/13255 [00:07<00:00, 1674.64it/s]\n"
     ]
    },
    {
     "name": "stdout",
     "output_type": "stream",
     "text": [
      "Training on 1 inputs (3216 steps) -- wash: 0 steps\n"
     ]
    },
    {
     "name": "stderr",
     "output_type": "stream",
     "text": [
      "Train: 100%|██████████| 3216/3216 [00:01<00:00, 1771.51it/s]\n"
     ]
    },
    {
     "name": "stdout",
     "output_type": "stream",
     "text": [
      "Training on 1 inputs (7551 steps) -- wash: 0 steps\n"
     ]
    },
    {
     "name": "stderr",
     "output_type": "stream",
     "text": [
      "Train: 100%|██████████| 7551/7551 [00:04<00:00, 1876.31it/s]\n"
     ]
    },
    {
     "name": "stdout",
     "output_type": "stream",
     "text": [
      "Training on 1 inputs (10006 steps) -- wash: 0 steps\n"
     ]
    },
    {
     "name": "stderr",
     "output_type": "stream",
     "text": [
      "Train: 100%|██████████| 10006/10006 [00:05<00:00, 1807.36it/s]\n"
     ]
    },
    {
     "name": "stdout",
     "output_type": "stream",
     "text": [
      "Training on 1 inputs (16025 steps) -- wash: 0 steps\n"
     ]
    },
    {
     "name": "stderr",
     "output_type": "stream",
     "text": [
      "Train: 100%|██████████| 16025/16025 [00:08<00:00, 1835.99it/s]\n"
     ]
    },
    {
     "name": "stdout",
     "output_type": "stream",
     "text": [
      "Training on 1 inputs (8436 steps) -- wash: 0 steps\n"
     ]
    },
    {
     "name": "stderr",
     "output_type": "stream",
     "text": [
      "Train: 100%|██████████| 8436/8436 [00:04<00:00, 1887.11it/s]\n"
     ]
    }
   ],
   "source": [
    "for seq in dataset.sample_List:\n",
    "    trainlength = seq.shape[0] - 50\n",
    "    states = reservoir.train([seq[:trainlength]], seq[1: trainlength + 1], verbose=True, return_states=True)   "
   ]
  },
  {
   "cell_type": "code",
   "execution_count": 201,
   "metadata": {},
   "outputs": [],
   "source": [
    "test_X = valid_dataset.sample_List[10]\n",
    "start = 0\n",
    "seed_timesteps = 100\n",
    "nb_generations = 100\n",
    "warming_inputs = test_X[start:start+seed_timesteps]\n",
    "Xgen_test = test_X[start+seed_timesteps: start+nb_generations+seed_timesteps]\n",
    "Xgen, states, warming_out, warming_states = reservoir.generate(nb_generations,\n",
    "                                                               warming_inputs=warming_inputs)"
   ]
  },
  {
   "cell_type": "code",
   "execution_count": 202,
   "metadata": {},
   "outputs": [
    {
     "data": {
      "image/png": "[encoded data removed]",
      "text/plain": [
       "<Figure size 936x360 with 2 Axes>"
      ]
     },
     "metadata": {
      "needs_background": "light"
     },
     "output_type": "display_data"
    }
   ],
   "source": [
    "plot_comparison(Xgen,Xgen_test,100,4,5)"
   ]
  },
  {
   "cell_type": "code",
   "execution_count": null,
   "metadata": {},
   "outputs": [],
   "source": []
  }
 ],
 "metadata": {
  "interpreter": {
   "hash": "9950993fed0fd9aed4b27a856c953e397ab7787bcf7b4a95697366d9a811f382"
  },
  "kernelspec": {
   "display_name": "Python 3.8.5 64-bit ('cs152': conda)",
   "name": "python3"
  },
  "language_info": {
   "codemirror_mode": {
    "name": "ipython",
    "version": 3
   },
   "file_extension": ".py",
   "mimetype": "text/x-python",
   "name": "python",
   "nbconvert_exporter": "python",
   "pygments_lexer": "ipython3",
   "version": "3.8.5"
  },
  "orig_nbformat": 4
 },
 "nbformat": 4,
 "nbformat_minor": 2
}
