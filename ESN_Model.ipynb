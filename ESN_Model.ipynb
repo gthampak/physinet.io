{
 "cells": [
  {
   "cell_type": "markdown",
   "metadata": {},
   "source": [
    "# ESN Model Codes"
   ]
  },
  {
   "cell_type": "markdown",
   "metadata": {},
   "source": [
    "## Dependencies"
   ]
  },
  {
   "cell_type": "code",
   "execution_count": 1,
   "metadata": {},
   "outputs": [],
   "source": [
    "import os\n",
    "import shutil\n",
    "import random; random.seed(42)\n",
    "\n",
    "import pandas as pd\n",
    "import numpy as np\n",
    "from tqdm import tqdm\n",
    "from matplotlib import pyplot as plt\n",
    "import torch\n",
    "from torch import nn\n",
    "from reservoirpy import mat_gen, ESN"
   ]
  },
  {
   "cell_type": "markdown",
   "metadata": {},
   "source": [
    "## Directories:"
   ]
  },
  {
   "cell_type": "code",
   "execution_count": 2,
   "metadata": {},
   "outputs": [],
   "source": [
    "# training data\n",
    "train_dir = '/raid/cs152/zxaa2018/penndulum/train_and_test_split/dpc_dataset_traintest_4_200_csv/train'\n",
    "train_dir_video = '/raid/cs152/zxaa2018/penndulum//train_and_test_split/dpc_dataset_traintest_4_200_h264/train'\n",
    "\n",
    "# test data\n",
    "test_inputs_dir = '/raid/cs152/zxaa2018/penndulum/train_and_test_split/dpc_dataset_traintest_4_200_csv/test_inputs/'\n",
    "test_targets_dir = '/raid/cs152/zxaa2018/penndulum/train_and_test_split/dpc_dataset_traintest_4_200_csv/test_targets/'\n",
    "test_targets_video = '/raid/cs152/zxaa2018/penndulum/train_and_test_split/dpc_dataset_traintest_4_200_h264/test_targets/'\n",
    "\n",
    "# validation data\n",
    "validation_inputs_dir = '/raid/cs152/zxaa2018/penndulum/train_and_test_split/dpc_dataset_traintest_4_200_csv/validation_inputs/'\n",
    "validation_targets_dir = '/raid/cs152/zxaa2018/penndulum/train_and_test_split/dpc_dataset_traintest_4_200_csv/validation_targets/'\n",
    "validation_targets_video = '/raid/cs152/zxaa2018/penndulum/train_and_test_split/dpc_dataset_traintest_4_200_h264/validation_targets/'"
   ]
  },
  {
   "cell_type": "markdown",
   "metadata": {},
   "source": [
    "## Functions and Class Definitions\n",
    "\n",
    "### Data Transformation Functions"
   ]
  },
  {
   "cell_type": "code",
   "execution_count": 3,
   "metadata": {},
   "outputs": [],
   "source": [
    "# some constants\n",
    "DEFAULT_X_RED, DEFAULT_Y_RED = (240, 232)\n",
    "\n",
    "PIXEL_DISTANCE_GREEN_TO_RED = 118 # approx. value | calculated with the Pythagorean theorem and averaged: np.sqrt((y_green-y_red)**2 + (x_green-x_red)**2)\n",
    "PIXEL_DISTANCE_BLUE_TO_GREEN = 90 # approx. value | calculated with the Pythagorean theorem and averaged: np.sqrt((y_blue-y_green)**2 + (x_blue-x_green)**2)\n",
    "\n",
    "def raw_to_pixel(l):\n",
    "    '''Convert the raw coordinates to pixel coordinates.'''\n",
    "    assert isinstance(l, list)\n",
    "    return [x/5 for x in l]\n",
    "\n",
    "\n",
    "def pixel_to_raw(l):\n",
    "    '''Convert the pixel coordinates to raw coordinates.'''\n",
    "    assert isinstance(l, list)\n",
    "    return [x*5 for x in l]\n",
    "\n",
    "\n",
    "def raw_cartesian_to_polar_angles(l):\n",
    "    '''Convert the cartesian coordinates to polar coordinates.'''\n",
    "    assert isinstance(l, list)\n",
    "    x_red, y_red, x_green, y_green, x_blue, y_blue = raw_to_pixel(l)\n",
    "\n",
    "    #angle_green_red = np.arctan((y_green-y_red)/(x_green-x_red+0.001))\n",
    "    #angle_blue_green = np.arctan((y_blue-y_green)/(x_blue-x_green+0.001))\n",
    "\n",
    "    angle_green_red = np.arctan2(y_red-y_green+1e-4, x_green-x_red+1e-4) + np.pi * 0.5\n",
    "    angle_blue_green = np.arctan2(y_green-y_red + 1e-4, x_blue-x_green+0.001) + np.pi * 0.5\n",
    "    \n",
    "    return [np.sin(angle_green_red), np.cos(angle_green_red), np.sin(angle_blue_green), np.cos(angle_blue_green)]\n",
    "\n",
    "def raw_cartesian_to_thetas(l):\n",
    "    '''Convert the cartesian coordinates to polar coordinates.'''\n",
    "    assert isinstance(l, list)\n",
    "    x_red, y_red, x_green, y_green, x_blue, y_blue = raw_to_pixel(l)\\\n",
    "\n",
    "    angle_green_red = np.arctan2(y_red-y_green+1e-4, x_green-x_red+1e-4) + np.pi * 0.5\n",
    "    angle_blue_green = np.arctan2(y_green-y_red + 1e-4, x_blue-x_green+0.001) + np.pi * 0.5\n",
    "    \n",
    "    return [angle_green_red, angle_blue_green]\n",
    "\n",
    "def polar_angles_to_raw_cartesian(l):\n",
    "    '''Convert the polar coordinates back to cartesian coordinates.'''\n",
    "    assert isinstance(l, list)\n",
    "    sin_angle_green_red, cos_angle_green_red, sin_angle_blue_green, cos_angle_blue_green = l\n",
    "    \n",
    "    y_green = PIXEL_DISTANCE_GREEN_TO_RED * sin_angle_green_red + DEFAULT_Y_RED\n",
    "    x_green = PIXEL_DISTANCE_GREEN_TO_RED * cos_angle_green_red + DEFAULT_X_RED\n",
    "\n",
    "    y_blue = PIXEL_DISTANCE_BLUE_TO_GREEN * sin_angle_blue_green + y_green\n",
    "    x_blue = PIXEL_DISTANCE_BLUE_TO_GREEN * cos_angle_blue_green + x_green\n",
    "    \n",
    "    return pixel_to_raw([DEFAULT_X_RED, DEFAULT_Y_RED, x_green, y_green, x_blue, y_blue])"
   ]
  },
  {
   "cell_type": "markdown",
   "metadata": {},
   "source": [
    "### Data reading functions"
   ]
  },
  {
   "cell_type": "markdown",
   "metadata": {},
   "source": [
    "Parsing training data:\n",
    "training data x-y matching is like this:\n",
    "x: a list of 4 frames\n",
    "y: the frame that follows"
   ]
  },
  {
   "cell_type": "code",
   "execution_count": 4,
   "metadata": {},
   "outputs": [],
   "source": [
    "def parse_csv_esn(csv_file):\n",
    "    '''Given a csv file and a length of sequence, return the sequence in list of list'''\n",
    "    X_data = []\n",
    "    f = pd.read_csv(csv_file, header=None, delim_whitespace=True, engine='python')\n",
    "    temp = []\n",
    "    for i, row in f.iterrows():\n",
    "        next_frame = raw_cartesian_to_polar_angles(row.to_list())\n",
    "        X_data.append(next_frame.copy())\n",
    "        \n",
    "    return X_data"
   ]
  },
  {
   "cell_type": "code",
   "execution_count": 5,
   "metadata": {},
   "outputs": [],
   "source": [
    "def parse_csv_esn_angular(csv_file):\n",
    "    '''Given a csv file and a length of sequence, return the sequence in list of list'''\n",
    "    X_data = []\n",
    "    f = pd.read_csv(csv_file, header=None, delim_whitespace=True, engine='python')\n",
    "    temp = []\n",
    "    for i, row in f.iterrows():\n",
    "        next_frame = row.to_list()\n",
    "        next_frame = raw_cartesian_to_thetas(next_frame)\n",
    "        X_data.append(next_frame.copy())\n",
    "        \n",
    "    return X_data"
   ]
  },
  {
   "cell_type": "code",
   "execution_count": 6,
   "metadata": {},
   "outputs": [],
   "source": [
    "def get_seq_list(source_dir):\n",
    "    result = []\n",
    "    name = []\n",
    "    for filename in tqdm([x for x in os.listdir(source_dir) if not x.startswith('.')]):\n",
    "        # load in a file\n",
    "        name.append(filename)\n",
    "        X_data = parse_csv_esn(os.path.join(source_dir, filename))\n",
    "        result.append(X_data)\n",
    "    return result, name"
   ]
  },
  {
   "cell_type": "code",
   "execution_count": 7,
   "metadata": {},
   "outputs": [],
   "source": [
    "def normalize_sequence(sequence: np.ndarray):\n",
    "    '''Given a sequence in shape (n,6), normalize the sequence to [-1,1]'''\n",
    "    # get range of x coords 0,2,4\n",
    "    x_factor = (sequence[:,[0,2,4]].max() - sequence[:,[0,2,4]].min()) * 0.5\n",
    "    y_factor = (sequence[:,[1,3,5]].max() - sequence[:,[1,3,5]].min()) * 0.5\n",
    "\n",
    "    sequence[:,[0,2,4]] = sequence[:,[0,2,4]] / max(x_factor,1e-6) - 0.5\n",
    "    sequence[:,[1,3,5]] = sequence[:,[1,3,5]] / max(y_factor, 1e-6) - 0.5\n",
    "\n",
    "    return sequence, (x_factor, y_factor)\n",
    "\n",
    "def denormalize_sequence(sequence: np.array, factors: tuple):\n",
    "    '''Given a sequence in shape (n,6), normalized to [-1,1], and the normalize factors along the x, y axis, return the denormalized sequence'''\n",
    "    sequence[:,[0,2,4]] = (sequence[:,[0,2,4]] + 0.5) * factors[0]\n",
    "    sequence[:,[1,3,5]] = (sequence[:,[1,3,5]] + 0.5) * factors[1]\n",
    "\n",
    "    return sequence\n",
    "    "
   ]
  },
  {
   "cell_type": "code",
   "execution_count": 8,
   "metadata": {},
   "outputs": [],
   "source": [
    "def normalize_sequence_by_pivot(sequence: np.ndarray):\n",
    "    '''Given a sequence in shape (n,6), normalize the sequence to [-1,1]'''\n",
    "    # get range of coords of first  axis\n",
    "    a_factor = (sequence[:,[0,1]].max() - sequence[:,[0,1]].min()) * 0.5\n",
    "    b_factor = (sequence[:,[2,3]].max() - sequence[:,[2,3]].min()) * 0.5\n",
    "    c_factor = (sequence[:,[4,5]].max() - sequence[:,[4,5]].min()) * 0.5\n",
    "\n",
    "    a_shift = sequence[:,[0,1]].min()\n",
    "    b_shift = sequence[:,[2,3]].min()\n",
    "    c_shift = sequence[:,[4,5]].min()\n",
    "\n",
    "    sequence[:,[0,1]] = (sequence[:,[0,1]] - a_shift) / max(a_factor,1e-6) - 1\n",
    "    sequence[:,[2,3]] = (sequence[:,[2,3]] - b_shift) / max(b_factor,1e-6) - 1\n",
    "    sequence[:,[4,5]] = (sequence[:,[4,5]] - c_shift) / max(c_factor,1e-6) - 1\n",
    "\n",
    "    sequence[:,[0,2,4]] = sequence[:,[0,2,4]] * -1.0\n",
    "\n",
    "    return sequence, (a_factor, b_factor, c_factor, a_shift, b_shift, c_shift)\n",
    "\n",
    "def denormalize_sequence_by_pivot(sequence: np.array, factors: tuple):\n",
    "    '''Given a sequence in shape (n,6), normalized to [-1,1], and the normalize factors along the x, y axis, return the denormalized sequence'''\n",
    "    sequence[:,[1,3,5]] = sequence[:,[1,3,5]] * -1.0\n",
    "    sequence[:,[0,1]] = (sequence[:,[0,1]] + 1) * factors[0] + factors[3]\n",
    "    sequence[:,[2,3]] = (sequence[:,[0,1]] + 1) * factors[1] + factors[4]\n",
    "    sequence[:,[4,5]] = (sequence[:,[0,1]] + 1) * factors[2] + factors[5]\n",
    "\n",
    "    return sequence"
   ]
  },
  {
   "cell_type": "code",
   "execution_count": 9,
   "metadata": {},
   "outputs": [],
   "source": [
    "def make_data_continuous(seq: np.array):\n",
    "    for i,datapoint in enumerate(seq[:,0][:-1]):\n",
    "        if seq[:,0][i+1] - datapoint > np.pi * 2 - 0.1:\n",
    "            seq[:,0][i+1:] -= np.pi * 2\n",
    "        elif datapoint - seq[:,0][i+1] > np.pi * 2 - 0.1:\n",
    "            seq[:,0][i+1:] += np.pi * 2\n",
    "        else:\n",
    "            continue\n",
    "    for i,datapoint in enumerate(seq[:,1][:-1]):\n",
    "        if seq[:,1][i+1] - datapoint > np.pi * 2 - 0.1:\n",
    "            seq[:,1][i+1:] -= np.pi * 2\n",
    "        elif datapoint - seq[:,1][i+1] > np.pi:\n",
    "            seq[:,1][i+1:] += np.pi * 2\n",
    "        else:\n",
    "            continue\n",
    "    return seq\n",
    "    \n"
   ]
  },
  {
   "cell_type": "markdown",
   "metadata": {},
   "source": [
    "### Dataset Definition"
   ]
  },
  {
   "cell_type": "code",
   "execution_count": 10,
   "metadata": {},
   "outputs": [],
   "source": [
    "class NormalizedDataset():\n",
    "    def __init__(self,X_list: list, name_list: list):\n",
    "        self.sample_List = []\n",
    "        self.factor_list = []\n",
    "        self.name_dict = {}\n",
    "        for i, (seq, name) in enumerate(zip(X_list, name_list)):\n",
    "            self.name_dict[i] = name\n",
    "            norm_seq, factors = normalize_sequence_by_pivot(np.array(seq, dtype=float))\n",
    "            self.sample_List.append(norm_seq)\n",
    "            self.factor_list.append(factors)\n",
    "\n",
    "    def __len__(self):\n",
    "        return len(self.sample_list)\n",
    "    \n",
    "    def getFactor(self, index: int):\n",
    "        return self.x_factor_list[index], self.y_factor_list[index]"
   ]
  },
  {
   "cell_type": "code",
   "execution_count": 11,
   "metadata": {},
   "outputs": [],
   "source": [
    "class Dataset():\n",
    "    def __init__(self,X_list: list, name_list: list):\n",
    "        self.sample_List = []\n",
    "        self.name_dict = {}\n",
    "        for i, (seq, name) in enumerate(zip(X_list, name_list)):\n",
    "            self.name_dict[i] = name\n",
    "            self.sample_List.append(np.array(seq, dtype=np.float32))\n",
    "\n",
    "    def __len__(self):\n",
    "        return len(self.sample_list)"
   ]
  },
  {
   "cell_type": "code",
   "execution_count": 12,
   "metadata": {},
   "outputs": [],
   "source": [
    "class DoublePendulumDataset(torch.utils.data.Dataset):\n",
    "    '''\n",
    "    Generate a LSTM dataset from a normalized dataset\n",
    "    '''\n",
    "    def __init__(self,dataset_n:NormalizedDataset):\n",
    "        self.X_list = []\n",
    "        self.y_list = []\n",
    "        for seq in tqdm(dataset_n.sample_List):\n",
    "            for i in range(seq.shape[0] - 5):\n",
    "                self.X_list.append(torch.from_numpy(seq[[i,i+1,i+2,i+3],:]))\n",
    "                self.y_list.append(torch.from_numpy(seq[[i+4],:]))\n",
    "        self.sample_list = list(zip(self.X_list, self.y_list))\n",
    "\n",
    "    \n",
    "    def __getitem__(self,index):\n",
    "        X_sample,y_sample = self.sample_list[index]\n",
    "        return torch.from_numpy(np.array(X_sample)).float(),torch.from_numpy(np.array(y_sample)).float()\n",
    "    \n",
    "    def __len__(self):\n",
    "        return len(self.sample_list)"
   ]
  },
  {
   "cell_type": "code",
   "execution_count": 13,
   "metadata": {},
   "outputs": [],
   "source": [
    "class AngularDatast():\n",
    "    def __init__(self,X_list: list, name_list: list):\n",
    "        self.sample_List = []\n",
    "        self.name_dict = {}\n",
    "        for i, (seq, name) in enumerate(zip(X_list, name_list)):\n",
    "            seq_c = make_data_continuous(np.array(seq, dtype=float))\n",
    "            self.name_dict[i] = name\n",
    "            self.sample_List.append(seq_c)\n",
    "\n",
    "    def __len__(self):\n",
    "        return len(self.sample_list)"
   ]
  },
  {
   "cell_type": "markdown",
   "metadata": {},
   "source": [
    "### Model Definition"
   ]
  },
  {
   "cell_type": "markdown",
   "metadata": {},
   "source": [
    "Data Visualization Functions"
   ]
  },
  {
   "cell_type": "code",
   "execution_count": 14,
   "metadata": {},
   "outputs": [],
   "source": [
    "def plot_comparison_with_warmup(Xgen, Xgen_test, warm_up, length, axis1, axis2):\n",
    "    t = np.arange(length)\n",
    "    fig = plt.figure(figsize = (13,5))\n",
    "    \n",
    "    plt.gca().invert_yaxis()\n",
    "    plt.subplot((121))\n",
    "    plt.title(f\"Ground Truth, first {length} frame\")\n",
    "    plt_x = [y[1] for y in Xgen_test[:,[axis1, axis2][:length]]]\n",
    "    plt_y = [y[0] for y in Xgen_test[:,[axis1, axis2][:length]]]\n",
    "    warm_x = [y[1] for y in warm_up[:,[axis1, axis2]]]\n",
    "    warm_y = [y[0] for y in warm_up[:,[axis1, axis2]]]\n",
    "\n",
    "    plt.plot(warm_x, warm_y, lw=1,color=\"lightgrey\", zorder=0)\n",
    "    plt.scatter(warm_x, warm_y,lw=0.5, c = 'red', s=2)\n",
    "    plt.plot(plt_x, plt_y, lw=1,color=\"lightgrey\", zorder=0)\n",
    "    plt.scatter(plt_x, plt_y,lw=0.5, c = t[:len(plt_x)],cmap=\"viridis\", s=2)\n",
    "    plt.xlabel(\"x (normalized)\")\n",
    "    plt.ylabel(\"y (normalized)\")\n",
    "\n",
    "    plt.subplot((122))\n",
    "    plt.title(f\"Prediction, first {length} frame\")\n",
    "    plt_x_res = [y[1] for y in Xgen[:,[axis1, axis2]][:length]]\n",
    "    plt_y_res = [y[0] for y in Xgen[:,[axis1, axis2]][:length]]\n",
    "\n",
    "    plt.plot(warm_x, warm_y, lw=1,color=\"lightgrey\", zorder=0)\n",
    "    plt.scatter(warm_x, warm_y,lw=0.5, c = 'red', s=2)\n",
    "    plt.plot(plt_x_res, plt_y_res, lw=1,color=\"lightgrey\", zorder=0)\n",
    "    plt.scatter(plt_x_res, plt_y_res,lw=0.5, c = t[:len(plt_x)],cmap=\"viridis\", s=2)\n",
    "    plt.xlabel(\"x (normalized)\")\n",
    "    plt.ylabel(\"y (normalized)\")"
   ]
  },
  {
   "cell_type": "code",
   "execution_count": 15,
   "metadata": {},
   "outputs": [],
   "source": [
    "def plot_sequence(seq, a1, a2):\n",
    "\n",
    "    length = seq.shape[0]\n",
    "    t = np.arange(length)\n",
    "    \n",
    "    plt.title(f\"Timeserie - {length} timesteps\")\n",
    "\n",
    "    plt.plot(seq[:,a2], seq[:,a1], color=\"lightgray\", zorder=0)\n",
    "    plt.scatter(seq[:,a2], seq[:,a1], c=t[:length], cmap=\"viridis\", s=1, zorder=1)\n",
    "\n",
    "    plt.xlabel(\"$x$\")\n",
    "    plt.ylabel(\"$y$\")\n",
    "\n",
    "    cbar = plt.colorbar()\n",
    "    cbar.ax.set_ylabel('$t$', rotation=270)\n",
    "\n",
    "    #plt.gca().invert_yaxis()\n",
    "\n",
    "    plt.tight_layout()\n",
    "    plt.show()"
   ]
  },
  {
   "cell_type": "markdown",
   "metadata": {},
   "source": [
    "## Training, testing and analysis Codes\n",
    "\n",
    "### Loading Training Data"
   ]
  },
  {
   "cell_type": "code",
   "execution_count": 16,
   "metadata": {},
   "outputs": [
    {
     "name": "stderr",
     "output_type": "stream",
     "text": [
      "100%|██████████| 40/40 [00:36<00:00,  1.11it/s]\n"
     ]
    }
   ],
   "source": [
    "Seq_train_p, Seq_train_name_p = get_seq_list(train_dir)\n",
    "dataset_p = Dataset(Seq_train_p, Seq_train_name_p)"
   ]
  },
  {
   "cell_type": "code",
   "execution_count": 17,
   "metadata": {},
   "outputs": [],
   "source": [
    "dataset_p.sample_List = [dataset_p.sample_List[0]]+dataset_p.sample_List[2:5]+dataset_p.sample_List[6:10]+dataset_p.sample_List[11:]"
   ]
  },
  {
   "cell_type": "markdown",
   "metadata": {},
   "source": [
    "### Hyperparameter and Model instantiate"
   ]
  },
  {
   "cell_type": "code",
   "execution_count": 18,
   "metadata": {},
   "outputs": [],
   "source": [
    "class ESNModel():\n",
    "    def __init__(self, units, dim, input_scaling, input_connectivity, input_bias, seed, spectral_radius, density, leak_rate, regularization):\n",
    "        self.units = units\n",
    "        self.dim = dim\n",
    "        self.input_scaling = input_scaling\n",
    "        self.input_connectivity = input_connectivity\n",
    "        self.input_bias = input_bias\n",
    "        self.seed = seed\n",
    "        self.spectral_radius = spectral_radius\n",
    "        self.density = density\n",
    "        self.leak_rate = leak_rate\n",
    "        self.regularization = regularization\n",
    "        \n",
    "        self.Win = mat_gen.generate_input_weights(self.units, self.dim,    input_scaling=self.input_scaling, proba=self.input_connectivity, input_bias=self.input_bias,seed=self.seed)\n",
    "        self. W = mat_gen.generate_internal_weights(self.units, sr=self.spectral_radius, proba=self.density, seed=self.seed)\n",
    "        self.reservior = ESN(self.leak_rate, self.W, self.Win, ridge = self.regularization)\n",
    "\n",
    "    def train_on_sequence(self, dataset: NormalizedDataset, index = 0, train_length = 400, forecast = 1):\n",
    "        '''\n",
    "        Given an index of of a sequence in the dataset (default to 0), train the reservoir on that sequence.\n",
    "        '''\n",
    "        seq = dataset.sample_List[index]\n",
    "        states = self.reservior.train(seq[:train_length], seq[forecast: forecast + train_length], verbose = False)\n",
    "        return states\n",
    "\n",
    "    def generate_on_sequence(self, dataset: NormalizedDataset, index = 0, warm_up_length = 100, nb_generations = 200, start = 0):\n",
    "        '''Given a sequence of a dataset, generate on that sequence'''\n",
    "        test_X = dataset.sample_List[index]\n",
    "        warming_inputs = test_X[start: start + warm_up_length]\n",
    "        Xgen_test = test_X[start + warm_up_length : start + nb_generations + warm_up_length]\n",
    "        Xgen, states, warming_out, warming_states = self.reservior.generate(nb_generations, warming_inputs=warming_inputs, verbose = False)\n",
    "        return Xgen, Xgen_test, warming_inputs, states, warming_out, warming_states\n",
    "\n",
    "    def reset(self):\n",
    "        '''reset the model'''\n",
    "        self.Win = mat_gen.generate_input_weights(self.units, self.dim,    input_scaling=self.input_scaling, proba=self.input_connectivity, input_bias=self.input_bias,seed=self.seed)\n",
    "        self. W = mat_gen.generate_internal_weights(self.units, sr=self.spectral_radius, proba=self.density, seed=self.seed)\n",
    "        self.reservior = ESN(self.leak_rate, self.W, self.Win, ridge = self.regularization)"
   ]
  },
  {
   "cell_type": "code",
   "execution_count": 19,
   "metadata": {},
   "outputs": [],
   "source": [
    "def plot_time_series(seq, a1, l):\n",
    "\n",
    "    #length = seq.shape[0]\n",
    "    t = np.linspace(0, l - 1, l)\n",
    "     \n",
    "    plt.title(f\"Timeserie - {l} timesteps\")\n",
    "\n",
    "    plt.plot(t, seq[:,a1][:l], color=\"lightgray\", zorder=0)\n",
    "    plt.scatter(t, seq[:,a1][:l], c=t[:l], cmap=\"viridis\", s=1, zorder=1)\n",
    "\n",
    "    plt.xlabel(\"$x$\")\n",
    "    plt.ylabel(\"$y$\")\n",
    "\n",
    "    cbar = plt.colorbar()\n",
    "    cbar.ax.set_ylabel('$t$', rotation=270)\n",
    "\n",
    "    plt.tight_layout()\n",
    "    plt.show()"
   ]
  },
  {
   "cell_type": "markdown",
   "metadata": {},
   "source": [
    "Task:\n",
    "- write a function quantifying error for each prediction.\n",
    "  let's use the Y distance\n",
    "- train with different number of sequences, and test. (Maybe test on #39)."
   ]
  },
  {
   "cell_type": "code",
   "execution_count": 20,
   "metadata": {},
   "outputs": [],
   "source": [
    "def error_seq(Xgen, Xgen_test):\n",
    "    '''\n",
    "    Given ground truth and prediction, calculate the mean distance between the endpoints and then the percentage error with respect to the range the endpoints can move (2.0).\n",
    "    '''\n",
    "    diff = Xgen - Xgen_test\n",
    "    dist = np.sqrt(np.square(diff[:,4])+np.square(diff[:,5]))\n",
    "    DIST_CENTER = 2.0\n",
    "    min_off_center_percentage = np.mean(dist) / DIST_CENTER\n",
    "    return min_off_center_percentage"
   ]
  },
  {
   "cell_type": "code",
   "execution_count": 21,
   "metadata": {},
   "outputs": [],
   "source": [
    "'''\n",
    "Defining our hyperparameters.\n",
    "'''\n",
    "\n",
    "units = 500\n",
    "leak_rate = 0.1\n",
    "spectral_radius = 25.0\n",
    "input_scaling = 0.5\n",
    "density = 0.1\n",
    "input_connectivity = 1.0\n",
    "regularization = 1e-7\n",
    "seed = 1000\n",
    "\n",
    "model = ESNModel(units=units, dim=4, input_scaling=input_scaling, input_connectivity=input_connectivity, input_bias= True, seed = seed, spectral_radius= spectral_radius, density=density, leak_rate=leak_rate, regularization= regularization)"
   ]
  },
  {
   "cell_type": "code",
   "execution_count": 23,
   "metadata": {},
   "outputs": [
    {
     "name": "stderr",
     "output_type": "stream",
     "text": [
      "100%|██████████| 36/36 [01:41<00:00,  2.82s/it]\n"
     ]
    }
   ],
   "source": [
    "model = ESNModel(units=units, dim=4, input_scaling=input_scaling, input_connectivity=input_connectivity, input_bias= True, seed = seed, spectral_radius= spectral_radius, density=density, leak_rate=leak_rate, regularization= regularization)\n",
    "error_list = []\n",
    "for i in tqdm(range(36)):\n",
    "    states = model.train_on_sequence(dataset_p, i, train_length = dataset_p.sample_List[i].shape[0]-1,forecast= 1)\n",
    "    Xgen, Xgen_test, warming_inputs, states, warming_out, warming_states = model.generate_on_sequence(dataset_p, 36, warm_up_length=20, nb_generations=50)\n",
    "    error_list.append(((Xgen - Xgen_test) ** 2).mean(axis=None))\n",
    "    model = ESNModel(units=units, dim=4, input_scaling=input_scaling, input_connectivity=input_connectivity, input_bias= True, seed = seed, spectral_radius= spectral_radius, density=density, leak_rate=leak_rate, regularization= regularization)"
   ]
  },
  {
   "cell_type": "markdown",
   "metadata": {},
   "source": [
    "### Analyzing\n",
    "\n",
    "This following graph is the MSE after training on each sequence."
   ]
  },
  {
   "cell_type": "code",
   "execution_count": 24,
   "metadata": {},
   "outputs": [
    {
     "name": "stderr",
     "output_type": "stream",
     "text": [
      "100%|██████████| 36/36 [01:23<00:00,  2.33s/it]\n"
     ]
    }
   ],
   "source": [
    "error_list_cummulative = []\n",
    "model = ESNModel(units=units, dim=4, input_scaling=input_scaling, input_connectivity=input_connectivity, input_bias= True, seed = seed, spectral_radius= spectral_radius, density=density, leak_rate=leak_rate, regularization= regularization)\n",
    "for i in tqdm(range(36)):\n",
    "    states = model.train_on_sequence(dataset_p, i, train_length = dataset_p.sample_List[i].shape[0]-1,forecast= 1)\n",
    "    Xgen, Xgen_test, warming_inputs, states, warming_out, warming_states = model.generate_on_sequence(dataset_p, 36, warm_up_length=20, nb_generations=50)\n",
    "    error_list_cummulative.append(((Xgen - Xgen_test) ** 2).mean(axis=None))"
   ]
  },
  {
   "cell_type": "code",
   "execution_count": 32,
   "metadata": {},
   "outputs": [
    {
     "data": {
      "image/png": "[encoded data removed]",
      "text/plain": [
       "<Figure size 720x216 with 2 Axes>"
      ]
     },
     "metadata": {
      "needs_background": "light"
     },
     "output_type": "display_data"
    }
   ],
   "source": [
    "c = []\n",
    "for e1, e2 in zip(error_list, error_list_cummulative):\n",
    "    c.append(e1-e2)\n",
    "\n",
    "f = plt.figure(figsize=(10,3))\n",
    "plt.subplot(1,2,1)\n",
    "plt.title(f\"Train Size Comparison\")\n",
    "plt.plot(error_list, color=\"Red\", zorder=0, label='MSE with Model Reset')\n",
    "plt.plot(error_list_cummulative, color=\"Blue\", zorder=0, label='MSE without Model Reset')\n",
    "plt.xlabel(\"Sequence Index (Train Progress)\")\n",
    "plt.ylabel(\"MSE Error\")\n",
    "plt.legend()\n",
    "plt.tight_layout()\n",
    "\n",
    "plt.subplot(1,2,2)\n",
    "plt.title(f\"Error difference w/ respect to MSE with Reset\")\n",
    "plt.plot(c, color = \"Red\", zorder = 0)\n",
    "plt.xlabel(\"Sequence Index (Train Progress)\")\n",
    "plt.ylabel(\"MSE Error\")\n",
    "plt.hlines(0,0,36,color=\"Blue\", linestyles=\"dotted\")\n",
    "plt.tight_layout()\n",
    "plt.show()"
   ]
  },
  {
   "cell_type": "markdown",
   "metadata": {},
   "source": [
    "it appears that sequence 1, 5, 10 induced the most MSE. Let's try purging the dataset."
   ]
  },
  {
   "cell_type": "markdown",
   "metadata": {},
   "source": [
    "We notice that in fact error does not grow with increasing training data. In fact, it fluctuates randomly. It is also very correlated with how far the first prediction jumps."
   ]
  },
  {
   "cell_type": "markdown",
   "metadata": {},
   "source": [
    "Suprisingly, the MSE for independent training and cummulative training are quite random, which means the size of training dataset does not affect the training result and model performance.\n",
    "\n",
    "Must be a hyperparam issue?."
   ]
  },
  {
   "cell_type": "markdown",
   "metadata": {},
   "source": [
    "### Comments on testing the ESN.\n",
    "\n",
    "We observe that the more data we train the ESN on, it appears, the more error it has. Often it ends in to a sort of circular motion.\n",
    "\n",
    "One hypothesis on why such is the case is that, as we observe, the overall motion of the endpoint is something like this:"
   ]
  },
  {
   "cell_type": "code",
   "execution_count": 34,
   "metadata": {},
   "outputs": [
    {
     "name": "stderr",
     "output_type": "stream",
     "text": [
      "100%|██████████| 37/37 [00:02<00:00, 12.94it/s]\n"
     ]
    },
    {
     "data": {
      "image/png": "[encoded data removed]",
      "text/plain": [
       "<Figure size 360x216 with 1 Axes>"
      ]
     },
     "metadata": {
      "needs_background": "light"
     },
     "output_type": "display_data"
    }
   ],
   "source": [
    "test_errors = []\n",
    "for i in tqdm(range(37)):\n",
    "    Xgen, Xgen_test, warming_inputs, states, warming_out, warming_states = model.generate_on_sequence(dataset_p, i, warm_up_length=100, nb_generations=200)\n",
    "    test_errors.append(((Xgen - Xgen_test)**2).mean(axis=None))\n",
    "plt.figure(figsize=(5,3))\n",
    "plt.title(f\"MSE from predicting each sequence with 100 warmup and 200 generation.\")\n",
    "plt.plot(test_errors, color=\"Red\", zorder=0, label='MSE')\n",
    "plt.xlabel(\"Sequence Index\")\n",
    "plt.ylabel(\"MSE Error\")\n",
    "plt.legend()\n",
    "plt.tight_layout()\n",
    "plt.show()"
   ]
  },
  {
   "cell_type": "code",
   "execution_count": 39,
   "metadata": {},
   "outputs": [
    {
     "name": "stderr",
     "output_type": "stream",
     "text": [
      "100%|██████████| 36/36 [04:22<00:00,  7.28s/it]\n",
      "100%|██████████| 36/36 [04:13<00:00,  7.03s/it]\n"
     ]
    }
   ],
   "source": [
    "model1 = ESNModel(units=units, dim=4, input_scaling=input_scaling, input_connectivity=input_connectivity, input_bias= True, seed = seed, spectral_radius= spectral_radius, density=density, leak_rate=0.1, regularization= regularization)\n",
    "model2 = ESNModel(units=units, dim=4, input_scaling=input_scaling, input_connectivity=input_connectivity, input_bias= True, seed = seed, spectral_radius= spectral_radius, density=density, leak_rate=0.01, regularization= regularization)\n",
    "model3 = ESNModel(units=units, dim=4, input_scaling=input_scaling, input_connectivity=input_connectivity, input_bias= True, seed = seed, spectral_radius= spectral_radius, density=density, leak_rate=0.05, regularization= regularization)\n",
    "ec1 = []\n",
    "ec2 = []\n",
    "ec3 = []\n",
    "for i in tqdm(range(36)):\n",
    "    states1 = model1.train_on_sequence(dataset_p, i, train_length = dataset_p.sample_List[i].shape[0]-1,forecast= 1)\n",
    "    states2 = model2.train_on_sequence(dataset_p, i, train_length = dataset_p.sample_List[i].shape[0]-1,forecast= 1)\n",
    "    states3 = model3.train_on_sequence(dataset_p, i, train_length = dataset_p.sample_List[i].shape[0]-1,forecast= 1)\n",
    "    Xgen1, Xgen_test1, warming_inputs1, states1, warming_out1, warming_states1 = model1.generate_on_sequence(dataset_p, 36, warm_up_length=20, nb_generations=50)\n",
    "    Xgen2, Xgen_test2, warming_inputs2, states2, warming_out2, warming_states2 = model2.generate_on_sequence(dataset_p, 36, warm_up_length=20, nb_generations=50)\n",
    "    Xgen3, Xgen_test3, warming_inputs3, states3, warming_out3, warming_states3 = model3.generate_on_sequence(dataset_p, 36, warm_up_length=20, nb_generations=50)\n",
    "    ec1.append(((Xgen1 - Xgen_test1) ** 2).mean(axis=None))\n",
    "    ec2.append(((Xgen2 - Xgen_test2) ** 2).mean(axis=None))\n",
    "    ec3.append(((Xgen3 - Xgen_test3) ** 2).mean(axis=None))\n",
    "model1 = ESNModel(units=units, dim=4, input_scaling=input_scaling, input_connectivity=input_connectivity, input_bias= True, seed = seed, spectral_radius= spectral_radius, density=density, leak_rate=0.1, regularization= regularization)\n",
    "model2 = ESNModel(units=units, dim=4, input_scaling=input_scaling, input_connectivity=input_connectivity, input_bias= True, seed = seed, spectral_radius= spectral_radius, density=density, leak_rate=0.01, regularization= regularization)\n",
    "model3 = ESNModel(units=units, dim=4, input_scaling=input_scaling, input_connectivity=input_connectivity, input_bias= True, seed = seed, spectral_radius= spectral_radius, density=density, leak_rate=0.05, regularization= regularization)\n",
    "eo1 = []\n",
    "eo2 = []\n",
    "eo3 = []\n",
    "for i in tqdm(range(36)):\n",
    "    states1 = model1.train_on_sequence(dataset_p, i, train_length = dataset_p.sample_List[i].shape[0]-1,forecast= 1)\n",
    "    states2 = model2.train_on_sequence(dataset_p, i, train_length = dataset_p.sample_List[i].shape[0]-1,forecast= 1)\n",
    "    states3 = model3.train_on_sequence(dataset_p, i, train_length = dataset_p.sample_List[i].shape[0]-1,forecast= 1)\n",
    "    Xgen1, Xgen_test1, warming_inputs1, states1, warming_out1, warming_states1 = model1.generate_on_sequence(dataset_p, 36, warm_up_length=20, nb_generations=50)\n",
    "    Xgen2, Xgen_test2, warming_inputs2, states2, warming_out2, warming_states2 = model2.generate_on_sequence(dataset_p, 36, warm_up_length=20, nb_generations=50)\n",
    "    Xgen3, Xgen_test3, warming_inputs3, states3, warming_out3, warming_states3 = model3.generate_on_sequence(dataset_p, 36, warm_up_length=20, nb_generations=50)\n",
    "    eo1.append(((Xgen1 - Xgen_test1) ** 2).mean(axis=None))\n",
    "    eo2.append(((Xgen2 - Xgen_test2) ** 2).mean(axis=None))\n",
    "    eo3.append(((Xgen3 - Xgen_test3) ** 2).mean(axis=None))\n",
    "    model1 = ESNModel(units=units, dim=4, input_scaling=input_scaling, input_connectivity=input_connectivity, input_bias= True, seed = seed, spectral_radius= spectral_radius, density=density, leak_rate=0.1, regularization= regularization)\n",
    "    model2 = ESNModel(units=units, dim=4, input_scaling=input_scaling, input_connectivity=input_connectivity, input_bias= True, seed = seed, spectral_radius= spectral_radius, density=density, leak_rate=0.01, regularization= regularization)\n",
    "    model3 = ESNModel(units=units, dim=4, input_scaling=input_scaling, input_connectivity=input_connectivity, input_bias= True, seed = seed, spectral_radius= spectral_radius, density=density, leak_rate=0.05, regularization= regularization)\n",
    "\n",
    "c1 = []\n",
    "for e1, e2 in zip(ec1, eo1):\n",
    "    c1.append(e1-e2)\n",
    "c2 = []\n",
    "for e1, e2 in zip(ec2, eo2):\n",
    "    c2.append(e1-e2)\n",
    "c3 = []\n",
    "for e1, e2 in zip(ec3, eo3):\n",
    "    c3.append(e1-e2)\n"
   ]
  },
  {
   "cell_type": "code",
   "execution_count": 54,
   "metadata": {},
   "outputs": [
    {
     "data": {
      "image/png": "[encoded data removed]",
      "text/plain": [
       "<Figure size 720x216 with 2 Axes>"
      ]
     },
     "metadata": {
      "needs_background": "light"
     },
     "output_type": "display_data"
    }
   ],
   "source": [
    "plt.figure(figsize=(10,3))\n",
    "plt.subplot(1,2,1)\n",
    "plt.title(f\"Error difference w/ respect to MSE with Reset\")\n",
    "plt.plot(c, color=\"Red\", zorder=0, label='Leak Rate = 0.1')\n",
    "plt.plot(c3, color=\"Blue\", zorder=0, label='Leak Rate = 0.05')\n",
    "plt.plot(c2, color=\"Green\", zorder=0, label='Leak Rate = 0.01')\n",
    "plt.xlabel(\"Sequence Index (Train Progress)\")\n",
    "plt.ylabel(\"MSE Error\\nOutlier deleted\")\n",
    "plt.legend()\n",
    "plt.tight_layout()\n",
    "\n",
    "plt.subplot(1,2,2)\n",
    "plt.title(f\"Error difference w/ respect to MSE with Reset\")\n",
    "plt.plot(c, color=\"Red\", zorder=0, label='Leak Rate = 0.1')\n",
    "plt.plot(c3, color=\"Blue\", zorder=0, label='Leak Rate = 0.05')\n",
    "#plt.plot(c2, color=\"Green\", zorder=0, label='Leak Rate = 0.01')\n",
    "plt.hlines(0,0,36,color=\"Grey\", linestyles=\"dotted\")\n",
    "plt.xlabel(\"Sequence Index (Train Progress)\")\n",
    "plt.ylabel(\"MSE Error\")\n",
    "plt.legend()\n",
    "plt.tight_layout()\n",
    "plt.show()"
   ]
  },
  {
   "cell_type": "markdown",
   "metadata": {},
   "source": [
    "Overall, the sequence does not show a significant difference in easyness to predict."
   ]
  },
  {
   "cell_type": "code",
   "execution_count": 35,
   "metadata": {},
   "outputs": [],
   "source": [
    "def polar_to_cartesian_np(arr: np.ndarray):\n",
    "    '''Convert the polar coordinates back to cartesian coordinates.'''\n",
    "    sin_angle_green_red, cos_angle_green_red, sin_angle_blue_green, cos_angle_blue_green = arr[:,0],arr[:,1],arr[:,2],arr[:,3]\n",
    "    \n",
    "    y_green = PIXEL_DISTANCE_GREEN_TO_RED * sin_angle_green_red + DEFAULT_Y_RED\n",
    "    x_green = PIXEL_DISTANCE_GREEN_TO_RED * cos_angle_green_red + DEFAULT_X_RED\n",
    "\n",
    "    y_blue = PIXEL_DISTANCE_BLUE_TO_GREEN * sin_angle_blue_green + y_green\n",
    "    x_blue = PIXEL_DISTANCE_BLUE_TO_GREEN * cos_angle_blue_green + x_green\n",
    "\n",
    "    x_red = np.ones_like(x_green) * DEFAULT_X_RED\n",
    "    y_red = np.ones_like(y_green) * DEFAULT_Y_RED\n",
    "    \n",
    "    return np.column_stack((x_red,y_red,x_green, y_green,x_blue, y_blue))*5.0"
   ]
  }
 ],
 "metadata": {
  "interpreter": {
   "hash": "9950993fed0fd9aed4b27a856c953e397ab7787bcf7b4a95697366d9a811f382"
  },
  "kernelspec": {
   "display_name": "Python 3 (ipykernel)",
   "language": "python",
   "name": "python3"
  },
  "language_info": {
   "codemirror_mode": {
    "name": "ipython",
    "version": 3
   },
   "file_extension": ".py",
   "mimetype": "text/x-python",
   "name": "python",
   "nbconvert_exporter": "python",
   "pygments_lexer": "ipython3",
   "version": "3.8.5"
  }
 },
 "nbformat": 4,
 "nbformat_minor": 2
}
