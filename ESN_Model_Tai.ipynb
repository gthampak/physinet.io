{
 "cells": [
  {
   "cell_type": "code",
   "execution_count": 12,
   "id": "20333e20",
   "metadata": {
    "scrolled": true
   },
   "outputs": [
    {
     "name": "stdout",
     "output_type": "stream",
     "text": [
      "Defaulting to user installation because normal site-packages is not writeable\n",
      "Collecting reservoirpy\n",
      "  Downloading reservoirpy-0.2.4.tar.gz (44 kB)\n",
      "     |████████████████████████████████| 44 kB 6.4 MB/s             \n",
      "\u001b[?25h  Preparing metadata (setup.py) ... \u001b[?25ldone\n",
      "\u001b[?25hRequirement already satisfied: tqdm>=4.43.0 in /opt/mambaforge/envs/cs152/lib/python3.8/site-packages (from reservoirpy) (4.62.2)\n",
      "Requirement already satisfied: joblib>=0.12 in /opt/mambaforge/envs/cs152/lib/python3.8/site-packages (from reservoirpy) (1.0.1)\n",
      "Collecting dill>=0.3.0numpy>=1.15.0\n",
      "  Downloading dill-0.3.4-py2.py3-none-any.whl (86 kB)\n",
      "     |████████████████████████████████| 86 kB 13.3 MB/s            \n",
      "\u001b[?25hRequirement already satisfied: scipy>=1.0.0 in /opt/mambaforge/envs/cs152/lib/python3.8/site-packages (from reservoirpy) (1.5.3)\n",
      "Requirement already satisfied: numpy>=1.14.5 in /opt/mambaforge/envs/cs152/lib/python3.8/site-packages (from scipy>=1.0.0->reservoirpy) (1.19.5)\n",
      "Building wheels for collected packages: reservoirpy\n",
      "  Building wheel for reservoirpy (setup.py) ... \u001b[?25ldone\n",
      "\u001b[?25h  Created wheel for reservoirpy: filename=reservoirpy-0.2.4-py3-none-any.whl size=53043 sha256=beda861e6ad8b07eeb7ae81501c2cab258462caffa3b25ea2ac7cebf7a74f4d1\n",
      "  Stored in directory: /home/CAMPUS/txaa2019/.cache/pip/wheels/4d/46/8b/5290cda9a86d365da35373139cca383e51c3c4c272aa66aa74\n",
      "Successfully built reservoirpy\n",
      "Installing collected packages: dill, reservoirpy\n",
      "Successfully installed dill-0.3.4 reservoirpy-0.2.4\n"
     ]
    }
   ],
   "source": [
    "!pip install reservoirpy"
   ]
  },
  {
   "cell_type": "code",
   "execution_count": 14,
   "id": "9064c169",
   "metadata": {},
   "outputs": [
    {
     "data": {
      "text/html": [
       "\n",
       "<style>\n",
       ".output_png {\n",
       "    display: table-cell;\n",
       "    text-align: center;\n",
       "    vertical-align: middle;\n",
       "}\n",
       "</style>\n"
      ],
      "text/plain": [
       "<IPython.core.display.HTML object>"
      ]
     },
     "execution_count": 14,
     "metadata": {},
     "output_type": "execute_result"
    }
   ],
   "source": [
    "import numpy as np\n",
    "import matplotlib.pyplot as plt\n",
    "import matplotlib\n",
    "\n",
    "from reservoirpy import mat_gen, ESN\n",
    "from lagrangian.simulate_data import generate_train_ideal\n",
    "\n",
    "# just a little tweak to center the plots, nothing to worry about\n",
    "from IPython.core.display import HTML\n",
    "HTML(\"\"\"\n",
    "<style>\n",
    ".output_png {\n",
    "    display: table-cell;\n",
    "    text-align: center;\n",
    "    vertical-align: middle;\n",
    "}\n",
    "</style>\n",
    "\"\"\")"
   ]
  },
  {
   "cell_type": "code",
   "execution_count": 2,
   "id": "f9019d7e",
   "metadata": {},
   "outputs": [
    {
     "name": "stdout",
     "output_type": "stream",
     "text": [
      "generating data...\n"
     ]
    }
   ],
   "source": [
    "x_train, xt_train, y_train, x_test, xt_test, y_test = generate_train_ideal()"
   ]
  },
  {
   "cell_type": "code",
   "execution_count": 3,
   "id": "d87e58a8",
   "metadata": {},
   "outputs": [
    {
     "name": "stdout",
     "output_type": "stream",
     "text": [
      "[[  0.           0.          -8.982129    -2.1508672 ]\n",
      " [ -4.6661725   -0.63316566  -6.55462     28.74602   ]\n",
      " [  4.414217    -0.6399282   16.750904   -21.7572    ]\n",
      " ...\n",
      " [  6.8459344   -6.4956493  -37.44392     65.28069   ]\n",
      " [ -4.729326     2.3417275    4.175431   -29.827314  ]\n",
      " [ -2.3600051   -4.6696014    4.8004866   -1.0227684 ]]\n"
     ]
    }
   ],
   "source": [
    "print(xt_train)"
   ]
  },
  {
   "cell_type": "code",
   "execution_count": 4,
   "id": "a365f23f",
   "metadata": {},
   "outputs": [
    {
     "name": "stdout",
     "output_type": "stream",
     "text": [
      "[[ 1.3459477e+00  2.3560867e+00 -8.9807421e-02 -2.1549953e-02]\n",
      " [-4.7437480e-01 -1.1860635e+00 -4.7307191e+00 -3.4675455e-01]\n",
      " [-1.2014768e+00 -4.2006630e-01  4.5864191e+00 -8.6562562e-01]\n",
      " ...\n",
      " [-6.3968755e-02  2.0020955e+02  6.4934750e+00 -5.8657670e+00]\n",
      " [ 7.7952999e-01  2.0281383e+02 -4.6925735e+00  2.0445077e+00]\n",
      " [-1.2846169e+00  1.9699382e+02 -2.3113575e+00 -4.6814666e+00]]\n"
     ]
    }
   ],
   "source": [
    "print(y_train)"
   ]
  },
  {
   "cell_type": "code",
   "execution_count": 5,
   "id": "c9d9625f",
   "metadata": {},
   "outputs": [
    {
     "name": "stdout",
     "output_type": "stream",
     "text": [
      "[[ 1.3463968e+00  2.3561945e+00  0.0000000e+00  0.0000000e+00]\n",
      " [-4.2738873e-01 -1.1811658e+00 -4.6661725e+00 -6.3316566e-01]\n",
      " [-1.2464720e+00 -4.1255212e-01  4.4142170e+00 -6.3992822e-01]\n",
      " ...\n",
      " [-1.3062775e-01  2.0027132e+02  6.8459344e+00 -6.4956493e+00]\n",
      " [ 8.2663119e-01  2.0279190e+02 -4.7293258e+00  2.3417275e+00]\n",
      " [-1.2612591e+00  1.9704057e+02 -2.3600051e+00 -4.6696014e+00]]\n"
     ]
    }
   ],
   "source": [
    "print(x_train)"
   ]
  },
  {
   "cell_type": "code",
   "execution_count": 15,
   "id": "af42b12c",
   "metadata": {},
   "outputs": [],
   "source": [
    "units = 100\n",
    "leak_rate = 0.3\n",
    "spectral_radius = 1.25\n",
    "input_scaling = 1.0\n",
    "density = 0.1\n",
    "input_connectivity = 0.2\n",
    "regularization = 1e-8\n",
    "seed = 1234"
   ]
  },
  {
   "cell_type": "code",
   "execution_count": 23,
   "id": "01a2f605",
   "metadata": {},
   "outputs": [],
   "source": [
    "def reset_esn():\n",
    "    Win = mat_gen.generate_input_weights(units, 4, input_scaling=input_scaling,\n",
    "                                     proba=input_connectivity, input_bias=True,\n",
    "                                     seed=seed)\n",
    "\n",
    "    W = mat_gen.generate_internal_weights(units, sr=spectral_radius,\n",
    "                                  proba=density, seed=seed)\n",
    "\n",
    "    reservoir = ESN(leak_rate, W, Win, ridge=regularization)\n",
    "\n",
    "    return reservoir"
   ]
  },
  {
   "cell_type": "code",
   "execution_count": 24,
   "id": "ed026a49",
   "metadata": {},
   "outputs": [],
   "source": [
    "Win = mat_gen.generate_input_weights(units, 4, input_scaling=input_scaling,\n",
    "                                     proba=input_connectivity, input_bias=True,\n",
    "                                     seed=seed)\n",
    "\n",
    "W = mat_gen.generate_internal_weights(units, sr=spectral_radius,\n",
    "                              proba=density, seed=seed)\n",
    "\n",
    "reservoir = ESN(leak_rate, W, Win, ridge=regularization)"
   ]
  },
  {
   "cell_type": "code",
   "execution_count": 26,
   "id": "43a51a60",
   "metadata": {},
   "outputs": [
    {
     "name": "stdout",
     "output_type": "stream",
     "text": [
      "Training on 1 inputs (2000 steps) -- wash: 0 steps\n"
     ]
    },
    {
     "name": "stderr",
     "output_type": "stream",
     "text": [
      "Train: 100%|██████████████████████████████████████████████████████████████████████████████████████████████████████████| 2000/2000 [00:01<00:00, 1792.07it/s]\n"
     ]
    },
    {
     "name": "stdout",
     "output_type": "stream",
     "text": [
      "Running on 1 inputs (2000 steps)\n"
     ]
    },
    {
     "name": "stderr",
     "output_type": "stream",
     "text": [
      "Run: 100%|████████████████████████████████████████████████████████████████████████████████████████████████████████████| 2000/2000 [00:01<00:00, 1787.14it/s]\n"
     ]
    }
   ],
   "source": [
    "states = reservoir.train([x_train], [y_train], return_states=True, verbose=True)\n",
    "\n",
    "y_pred, states1 = reservoir.run([x_test], init_state=states[0][-1], return_states=True, verbose=True)\n",
    "\n",
    "states1 = states1[0]"
   ]
  },
  {
   "cell_type": "code",
   "execution_count": 32,
   "id": "a633e78a",
   "metadata": {},
   "outputs": [],
   "source": [
    "y_pred = y_pred[0]"
   ]
  },
  {
   "cell_type": "code",
   "execution_count": 30,
   "id": "012825ab",
   "metadata": {},
   "outputs": [
    {
     "name": "stdout",
     "output_type": "stream",
     "text": [
      "[[ 1.3459477e+00  2.3560867e+00 -8.9807421e-02 -2.1549953e-02]\n",
      " [-4.7277421e-01 -1.1859441e+00 -4.7285657e+00 -3.5640651e-01]\n",
      " [-1.2092955e+00 -4.1861990e-01  4.5562797e+00 -8.2587337e-01]\n",
      " ...\n",
      " [-1.5976549e+00  5.2403103e+01 -1.0847894e+00 -1.0407369e+00]\n",
      " [ 1.2600939e+00  4.9110470e+01  1.8505059e+00 -3.9182303e+00]\n",
      " [ 7.8160000e-01  4.3939690e+01 -4.0248173e-01 -7.4918451e+00]]\n"
     ]
    }
   ],
   "source": [
    "print(y_test)"
   ]
  },
  {
   "cell_type": "code",
   "execution_count": 31,
   "id": "38897188",
   "metadata": {},
   "outputs": [],
   "source": [
    "def radial2cartesian(t1, t2, l1, l2):\n",
    "  # Convert from radial to Cartesian coordinates.\n",
    "  x1 = l1 * np.sin(t1)\n",
    "  y1 = -l1 * np.cos(t1)\n",
    "  x2 = x1 + l2 * np.sin(t2)\n",
    "  y2 = y1 - l2 * np.cos(t2)\n",
    "  return x1, y1, x2, y2"
   ]
  },
  {
   "cell_type": "code",
   "execution_count": 33,
   "id": "04e06520",
   "metadata": {},
   "outputs": [],
   "source": [
    "L1, L2 = 1, 1\n",
    "theta1_pred, theta2_pred = y_pred[:, 0], y_pred[:, 1]\n",
    "cart_coords_pred = radial2cartesian(theta1_pred, theta1_pred, L1, L2)"
   ]
  },
  {
   "cell_type": "code",
   "execution_count": 34,
   "id": "7d35bd5a",
   "metadata": {},
   "outputs": [],
   "source": [
    "L1, L2 = 1, 1\n",
    "theta1_act, theta2_act = y_test[:, 0], y_test[:, 1]\n",
    "cart_coords_act = radial2cartesian(theta1_act, theta1_act, L1, L2)"
   ]
  },
  {
   "cell_type": "code",
   "execution_count": 35,
   "id": "2b00ee60",
   "metadata": {},
   "outputs": [],
   "source": [
    "def cart_error_over_time(cart_coords_model, cart_coords_ana):\n",
    "    x11, y11, x21, y21 = cart_coords_ana\n",
    "    x12, y12, x22, y22 = cart_coords_model\n",
    "    \n",
    "    distance_1 = np.sqrt((np.square(np.absolute(x11 - x12)) + np.square(np.absolute(y11 - y12))))\n",
    "    distance_2 = np.sqrt((np.square(np.absolute(x21 - x22)) + np.square(np.absolute(y21 - y22))))\n",
    "    \n",
    "    index = np.arange(np.size(distance_1))\n",
    "    \n",
    "    plt.plot(index, distance_1, label='first')\n",
    "    plt.plot(index, distance_2, label='second')\n",
    "    \n",
    "    plt.show\n",
    "\n",
    "    plt.show()"
   ]
  },
  {
   "cell_type": "code",
   "execution_count": 37,
   "id": "cd31821c",
   "metadata": {},
   "outputs": [
    {
     "data": {
      "image/png": "[encoded data removed]",
      "text/plain": [
       "<Figure size 432x288 with 1 Axes>"
      ]
     },
     "metadata": {
      "needs_background": "light"
     },
     "output_type": "display_data"
    }
   ],
   "source": [
    "cart_error_over_time(cart_coords_pred[:200], cart_coords_act[:200])"
   ]
  },
  {
   "cell_type": "code",
   "execution_count": null,
   "id": "302216a4",
   "metadata": {},
   "outputs": [],
   "source": []
  }
 ],
 "metadata": {
  "kernelspec": {
   "display_name": "Python 3 (ipykernel)",
   "language": "python",
   "name": "python3"
  },
  "language_info": {
   "codemirror_mode": {
    "name": "ipython",
    "version": 3
   },
   "file_extension": ".py",
   "mimetype": "text/x-python",
   "name": "python",
   "nbconvert_exporter": "python",
   "pygments_lexer": "ipython3",
   "version": "3.8.5"
  }
 },
 "nbformat": 4,
 "nbformat_minor": 5
}
