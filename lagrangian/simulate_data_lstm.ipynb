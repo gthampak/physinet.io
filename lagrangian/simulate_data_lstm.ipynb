{
 "cells": [
  {
   "cell_type": "code",
   "execution_count": 2,
   "id": "c68c1b7c",
   "metadata": {},
   "outputs": [],
   "source": [
    "import jax\n",
    "import jax.numpy as jnp\n",
    "import numpy as np\n",
    "from jax.experimental.ode import odeint\n",
    "import matplotlib.pyplot as plt\n",
    "from functools import partial # reduces arguments to function by making some subset implicit\n",
    "\n",
    "from jax.experimental import stax\n",
    "from jax.experimental import optimizers"
   ]
  },
  {
   "cell_type": "code",
   "execution_count": null,
   "id": "e368fc6d",
   "metadata": {},
   "outputs": [],
   "source": [
    "from jax.lib import xla_bridge\n",
    "print(xla_bridge.get_backend().platform)"
   ]
  },
  {
   "cell_type": "code",
   "execution_count": null,
   "id": "8a139e80",
   "metadata": {},
   "outputs": [],
   "source": [
    "# general form of lagrangian\n",
    "def lagrangian(q, q_dot, m1, m2, l1, l2, g):\n",
    "  t1, t2 = q     # theta 1 and theta 2\n",
    "  w1, w2 = q_dot # omega 1 and omega 2\n",
    "\n",
    "  # kinetic energy (T)\n",
    "  T1 = 0.5 * m1 * (l1 * w1)**2\n",
    "  T2 = 0.5 * m2 * ((l1 * w1)**2 + (l2 * w2)**2 +\n",
    "                    2 * l1 * l2 * w1 * w2 * jnp.cos(t1 - t2))\n",
    "  T = T1 + T2\n",
    "  \n",
    "  # potential energy (V)\n",
    "  y1 = -l1 * jnp.cos(t1)\n",
    "  y2 = y1 - l2 * jnp.cos(t2)\n",
    "  V = m1 * g * y1 + m2 * g * y2\n",
    "\n",
    "  return T - V"
   ]
  },
  {
   "cell_type": "code",
   "execution_count": null,
   "id": "90c05b3c",
   "metadata": {},
   "outputs": [],
   "source": [
    "# analytical solution for dbl pendulum\n",
    "def f_analytical(state, t=0, m1=1, m2=1, l1=1, l2=1, g=9.8):\n",
    "  t1, t2, w1, w2 = state\n",
    "  a1 = (l2 / l1) * (m2 / (m1 + m2)) * jnp.cos(t1 - t2)\n",
    "  a2 = (l1 / l2) * jnp.cos(t1 - t2)\n",
    "  f1 = -(l2 / l1) * (m2 / (m1 + m2)) * (w2**2) * jnp.sin(t1 - t2) - \\\n",
    "      (g / l1) * jnp.sin(t1)\n",
    "  f2 = (l1 / l2) * (w1**2) * jnp.sin(t1 - t2) - (g / l2) * jnp.sin(t2)\n",
    "  g1 = (f1 - a1 * f2) / (1 - a1 * a2)\n",
    "  g2 = (f2 - a2 * f1) / (1 - a1 * a2)\n",
    "  return jnp.stack([w1, w2, g1, g2])"
   ]
  },
  {
   "cell_type": "code",
   "execution_count": null,
   "id": "2fdd84a7",
   "metadata": {},
   "outputs": [],
   "source": [
    "# equations of motion\n",
    "def equation_of_motion(lagrangian, state, t=None):\n",
    "  q, q_t = jnp.split(state, 2)\n",
    "  q_tt = (jnp.linalg.pinv(jax.hessian(lagrangian, 1)(q, q_t))\n",
    "          @ (jax.grad(lagrangian, 0)(q, q_t)\n",
    "             - jax.jacobian(jax.jacobian(lagrangian, 1), 0)(q, q_t) @ q_t))\n",
    "  return jnp.concatenate([q_t, q_tt])"
   ]
  },
  {
   "cell_type": "code",
   "execution_count": 1,
   "id": "2f9cf284",
   "metadata": {},
   "outputs": [],
   "source": [
    "# solving the lagrangian\n",
    "def solve_lagrangian(lagrangian, initial_state, **kwargs):\n",
    "  @partial(jax.jit, backend='cpu')\n",
    "  def f(initial_state):\n",
    "    return odeint(partial(equation_of_motion, lagrangian),\n",
    "                  initial_state, **kwargs)\n",
    "  return f(initial_state)"
   ]
  },
  {
   "cell_type": "code",
   "execution_count": null,
   "id": "7b210439",
   "metadata": {},
   "outputs": [],
   "source": [
    "# Double pendulum dynamics via the rewritten Euler-Lagrange\n",
    "@partial(jax.jit, backend='cpu')\n",
    "def solve_autograd(initial_state, times, m1=1, m2=1, l1=1, l2=1, g=9.8):\n",
    "  L = partial(lagrangian, m1=m1, m2=m2, l1=l1, l2=l2, g=g)\n",
    "  return solve_lagrangian(L, initial_state, t=times, rtol=1e-10, atol=1e-10)\n",
    "\n",
    "# Double pendulum dynamics via analytical forces taken from Diego's blog\n",
    "@partial(jax.jit, backend='cpu')\n",
    "def solve_analytical(initial_state, times):\n",
    "  return odeint(f_analytical, initial_state, t=times, rtol=1e-10, atol=1e-10)\n",
    "\n",
    "# used to keep polar coordinates from getting big and weird\n",
    "def normalize_dp(state):\n",
    "  # wrap generalized coordinates to [-pi, pi]\n",
    "  return jnp.concatenate([(state[:2] + np.pi) % (2 * np.pi) - np.pi, state[2:]])\n",
    "\n",
    "# used to get solutions of differential equations\n",
    "def rk4_step(f, x, t, h):\n",
    "  # one step of runge-kutta integration\n",
    "  k1 = h * f(x, t)\n",
    "  k2 = h * f(x + k1/2, t + h/2)\n",
    "  k3 = h * f(x + k2/2, t + h/2)\n",
    "  k4 = h * f(x + k3, t + h)\n",
    "  return x + 1/6 * (k1 + 2 * k2 + 2 * k3 + k4)"
   ]
  },
  {
   "cell_type": "code",
   "execution_count": null,
   "id": "3581cdac",
   "metadata": {},
   "outputs": [],
   "source": [
    "def generate_train_ideal():\n",
    "    print(\"generating data...\")\n",
    "    \n",
    "    time_step = 0.01\n",
    "    N = 1500\n",
    "    analytical_step = jax.jit(jax.vmap(partial(rk4_step, f_analytical, t=0.0, h=time_step)))\n",
    "\n",
    "    x0 = np.array([3*np.pi/7, 3*np.pi/4, 0, 0], dtype=np.float32)\n",
    "    t = np.arange(N, dtype=np.float32) # time steps 0 to N\n",
    "    x_train = jax.device_get(solve_analytical(x0, t)) # dynamics for first N time steps\n",
    "    xt_train = jax.device_get(jax.vmap(f_analytical)(x_train)) # time derivatives of each state\n",
    "    y_train = jax.device_get(analytical_step(x_train)) # analytical next step\n",
    "\n",
    "    t_test = np.arange(N, 2*N, dtype=np.float32) # time steps N to 2N\n",
    "    x_test = jax.device_get(solve_analytical(x0, t_test)) # dynamics for next N time steps\n",
    "    xt_test = jax.device_get(jax.vmap(f_analytical)(x_test)) # time derivatives of each state\n",
    "    y_test = jax.device_get(analytical_step(x_test)) # analytical next step\n",
    "\n",
    "    \n",
    "    # x_train are the actual dynamics, xt_train are the time derivatives, and y_train are the next steps\n",
    "    return x_train, xt_train, y_train, x_test, xt_test, y_test"
   ]
  },
  {
   "cell_type": "code",
   "execution_count": null,
   "id": "9aa47bc6",
   "metadata": {},
   "outputs": [],
   "source": [
    "def generate_train_noisy():\n",
    "    print(\"generating noisy data...\")\n",
    "    \n",
    "    time_step = 0.01\n",
    "    N = 1500\n",
    "    analytical_step = jax.jit(jax.vmap(partial(rk4_step, f_analytical, t=0.0, h=time_step)))\n",
    "    \n",
    "    # initialize some state with some theta and 0 angular velocities\n",
    "    x0 = np.array([3*np.pi/7, 3*np.pi/4, 0, 0], dtype=np.float32)\n",
    "    t = np.arange(N, dtype=np.float32) # time steps 0 to N\n",
    "    \n",
    "    noise = np.random.RandomState(0).randn(x0.size)\n",
    "    noise_coeff = 1e-3\n",
    "    \n",
    "    # dynamics for first N time steps that describes how the pendulum moves\n",
    "    x_train = jax.device_get(solve_analytical(x0 + noise_coeff * noise, t))\n",
    "    xt_train = jax.device_get(jax.vmap(f_analytical)(x_train))\n",
    "    # the next part of the time step that you get by performing a step of runge kutta integration\n",
    "    # this time evolves the double pendulum and basically gets where it will be next\n",
    "    y_train = jax.device_get(analytical_step(x_train))\n",
    "    \n",
    "    # same thing, now testing data but for further time\n",
    "    t_test = np.arange(N, 2*N, dtype=np.float32) # time steps N to 2N\n",
    "    x_test = jax.device_get(solve_analytical(x0 + noise_coeff * noise, t_test)) # dynamics for next N time steps\n",
    "    xt_test = jax.device_get(jax.vmap(f_analytical)(x_test)) # time derivatives of each state\n",
    "    y_test = jax.device_get(analytical_step(x_test)) # analytical next step\n",
    "    \n",
    "    # x_train are the actual dynamics, xt_train are the time derivatives, and y_train are the next steps\n",
    "    return x_train, xt_train, y_train, x_test, xt_test, y_test"
   ]
  }
 ],
 "metadata": {
  "kernelspec": {
   "display_name": "Python 3 (ipykernel)",
   "language": "python",
   "name": "python3"
  },
  "language_info": {
   "codemirror_mode": {
    "name": "ipython",
    "version": 3
   },
   "file_extension": ".py",
   "mimetype": "text/x-python",
   "name": "python",
   "nbconvert_exporter": "python",
   "pygments_lexer": "ipython3",
   "version": "3.8.5"
  }
 },
 "nbformat": 4,
 "nbformat_minor": 5
}
