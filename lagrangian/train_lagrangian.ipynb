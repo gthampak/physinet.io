{
 "cells": [
  {
   "cell_type": "code",
   "execution_count": 1,
   "id": "a477d310",
   "metadata": {},
   "outputs": [],
   "source": [
    "import jax\n",
    "import jax.numpy as jnp\n",
    "import numpy as np\n",
    "from jax.experimental.ode import odeint\n",
    "import matplotlib.pyplot as plt\n",
    "from functools import partial # reduces arguments to function by making some subset implicit\n",
    "\n",
    "from jax.experimental import stax\n",
    "from jax.experimental import optimizers\n",
    "\n",
    "# visualization\n",
    "import matplotlib.pyplot as plt\n",
    "from matplotlib.patches import Circle\n",
    "from moviepy.editor import ImageSequenceClip\n",
    "from functools import partial\n",
    "import proglog\n",
    "from PIL import Image\n",
    "\n",
    "from LNN_functions import *\n",
    "from get_data import *"
   ]
  },
  {
   "cell_type": "code",
   "execution_count": 3,
   "id": "c1941e15",
   "metadata": {},
   "outputs": [
    {
     "data": {
      "text/plain": [
       "<function LNN_functions.lagrangian(q, q_dot, m1, m2, l1, l2, g)>"
      ]
     },
     "execution_count": 3,
     "metadata": {},
     "output_type": "execute_result"
    }
   ],
   "source": [
    "lagrangian"
   ]
  },
  {
   "cell_type": "code",
   "execution_count": 2,
   "id": "2351b5cc",
   "metadata": {},
   "outputs": [
    {
     "data": {
      "text/plain": [
       "<function get_data.parse_testing_annotations(csv_file_X, csv_file_Y)>"
      ]
     },
     "execution_count": 2,
     "metadata": {},
     "output_type": "execute_result"
    }
   ],
   "source": [
    "parse_testing_annotations"
   ]
  },
  {
   "cell_type": "code",
   "execution_count": 8,
   "id": "c1a7e524",
   "metadata": {},
   "outputs": [
    {
     "name": "stdout",
     "output_type": "stream",
     "text": [
      "CPU times: user 7.71 s, sys: 878 ms, total: 8.59 s\n",
      "Wall time: 8.14 s\n",
      "CPU times: user 424 ms, sys: 394 ms, total: 817 ms\n",
      "Wall time: 1.71 s\n",
      "CPU times: user 836 ms, sys: 20.1 ms, total: 856 ms\n",
      "Wall time: 1.16 s\n",
      "[[ 1.3463968   2.3561945   0.          0.        ]\n",
      " [-0.42738873 -1.1811658  -4.6661725  -0.63316566]\n",
      " [-1.246472   -0.41255212  4.414217   -0.6399282 ]\n",
      " ...\n",
      " [-1.5063784  42.331657    2.8762856  -5.039038  ]\n",
      " [ 0.21640965 45.60818    -2.4176426   6.5494537 ]\n",
      " [-0.4651543  52.325962    4.988856    6.28838   ]]\n",
      "CPU times: user 6.62 s, sys: 0 ns, total: 6.62 s\n",
      "Wall time: 6.58 s\n",
      "CPU times: user 24 ms, sys: 0 ns, total: 24 ms\n",
      "Wall time: 18.8 ms\n",
      "CPU times: user 938 µs, sys: 0 ns, total: 938 µs\n",
      "Wall time: 494 µs\n"
     ]
    }
   ],
   "source": [
    "time_step = 0.01\n",
    "N = 1500\n",
    "analytical_step = jax.jit(jax.vmap(partial(rk4_step, f_analytical, t=0.0, h=time_step)))\n",
    "\n",
    "# x0 = np.array([-0.3*np.pi, 0.2*np.pi, 0.35*np.pi, 0.5*np.pi], dtype=np.float32)\n",
    "x0 = np.array([3*np.pi/7, 3*np.pi/4, 0, 0], dtype=np.float32)\n",
    "t = np.arange(N, dtype=np.float32) # time steps 0 to N\n",
    "%time x_train = jax.device_get(solve_analytical(x0, t)) # dynamics for first N time steps\n",
    "%time xt_train = jax.device_get(jax.vmap(f_analytical)(x_train)) # time derivatives of each state\n",
    "%time y_train = jax.device_get(analytical_step(x_train)) # analytical next step\n",
    "print(x_train)\n",
    "\n",
    "noise = np.random.RandomState(0).randn(x0.size)\n",
    "t_test = np.arange(N, 2*N, dtype=np.float32) # time steps N to 2N\n",
    "%time x_test = jax.device_get(solve_analytical(x0, t_test)) # dynamics for next N time steps\n",
    "%time xt_test = jax.device_get(jax.vmap(f_analytical)(x_test)) # time derivatives of each state\n",
    "%time y_test = jax.device_get(analytical_step(x_test)) # analytical next step"
   ]
  },
  {
   "cell_type": "code",
   "execution_count": 3,
   "id": "3a6e68a7",
   "metadata": {},
   "outputs": [],
   "source": [
    "# training data\n",
    "train_dir = '/raid/cs152/zxaa2018/penndulum/train_and_test_split/dpc_dataset_traintest_4_200_csv/train'\n",
    "train_dir_video = '/raid/cs152/zxaa2018/penndulum//train_and_test_split/dpc_dataset_traintest_4_200_h264/train'\n",
    "\n",
    "# test data\n",
    "test_inputs_dir = '/raid/cs152/zxaa2018/penndulum/train_and_test_split/dpc_dataset_traintest_4_200_csv/test_inputs/'\n",
    "test_targets_dir = '/raid/cs152/zxaa2018/penndulum/train_and_test_split/dpc_dataset_traintest_4_200_csv/test_targets/'\n",
    "test_targets_video = '/raid/cs152/zxaa2018/penndulum/train_and_test_split/dpc_dataset_traintest_4_200_h264/test_targets/'\n",
    "\n",
    "# validation data\n",
    "validation_inputs_dir = '/raid/cs152/zxaa2018/penndulum/train_and_test_split/dpc_dataset_traintest_4_200_csv/validation_inputs/'\n",
    "validation_targets_dir = '/raid/cs152/zxaa2018/penndulum/rain_and_test_split/dpc_dataset_traintest_4_200_csv/validation_targets/'\n",
    "validation_targets_video = '/raid/cs152/zxaa2018/penndulum/train_and_test_split/dpc_dataset_traintest_4_200_h264/validation_targets/'"
   ]
  },
  {
   "cell_type": "code",
   "execution_count": 4,
   "id": "249b555e",
   "metadata": {},
   "outputs": [],
   "source": [
    "# some constants\n",
    "DEFAULT_X_RED, DEFAULT_Y_RED = (240, 232)\n",
    "\n",
    "PIXEL_DISTANCE_GREEN_TO_RED = 118 # approx. value | calculated with the Pythagorean theorem and averaged: np.sqrt((y_green-y_red)**2 + (x_green-x_red)**2)\n",
    "PIXEL_DISTANCE_BLUE_TO_GREEN = 90 # approx. value | calculated with the Pythagorean theorem and averaged: np.sqrt((y_blue-y_green)**2 + (x_blue-x_green)**2)\n"
   ]
  },
  {
   "cell_type": "code",
   "execution_count": 5,
   "id": "7c05edd3",
   "metadata": {},
   "outputs": [
    {
     "name": "stderr",
     "output_type": "stream",
     "text": [
      "100%|████████████████████████████████████████████████████████████████████████████████████████████████████████████████████████████████████████████████████████████████████████████| 40/40 [00:35<00:00,  1.12it/s]\n"
     ]
    }
   ],
   "source": [
    "BATCH_SIZE = 1000\n",
    "\n",
    "# load in all separate files\n",
    "X_train = []\n",
    "y_train = []\n",
    "for filename in tqdm([x for x in os.listdir(train_dir) if not x.startswith('.')]):\n",
    "    # load in a file\n",
    "    X_data, y_data = parse_training_annotations(os.path.join(train_dir, filename))\n",
    "\n",
    "    X_train = X_train + X_data\n",
    "    y_train = y_train + y_data"
   ]
  },
  {
   "cell_type": "code",
   "execution_count": 6,
   "id": "930d0de1",
   "metadata": {},
   "outputs": [
    {
     "name": "stdout",
     "output_type": "stream",
     "text": [
      "[[[-0.5921029675006285, 0.8058623181890003, 0.28084609155505114, 0.9597528186248019], [-0.6234520062909286, 0.7818616219330733, 0.20891963585531031, 0.9779328124948485], [-0.6507955605498628, 0.7592530134076453, 0.13955877171118825, 0.9902137896628508], [-0.6784961933963939, 0.7346039174593362, 0.07093120900555809, 0.9974812096420713]], [[-0.6234520062909286, 0.7818616219330733, 0.20891963585531031, 0.9779328124948485], [-0.6507955605498628, 0.7592530134076453, 0.13955877171118825, 0.9902137896628508], [-0.6784961933963939, 0.7346039174593362, 0.07093120900555809, 0.9974812096420713], [-0.7062616489257983, 0.7079509045524359, 0.0, 1.0]], [[-0.6507955605498628, 0.7592530134076453, 0.13955877171118825, 0.9902137896628508], [-0.6784961933963939, 0.7346039174593362, 0.07093120900555809, 0.9974812096420713], [-0.7062616489257983, 0.7079509045524359, 0.0, 1.0], [-0.7346120694155456, 0.6784873672140179, -0.06651827470213303, 0.9977852069111125]], [[-0.6784961933963939, 0.7346039174593362, 0.07093120900555809, 0.9974812096420713], [-0.7062616489257983, 0.7079509045524359, 0.0, 1.0], [-0.7346120694155456, 0.6784873672140179, -0.06651827470213303, 0.9977852069111125], [-0.761775670804913, 0.647840896648031, -0.13768789860676126, 0.9904756648082043]], [[-0.7062616489257983, 0.7079509045524359, 0.0, 1.0], [-0.7346120694155456, 0.6784873672140179, -0.06651827470213303, 0.9977852069111125], [-0.761775670804913, 0.647840896648031, -0.13768789860676126, 0.9904756648082043], [-0.7861456754184073, 0.6180412421683008, -0.20377513849902693, 0.9790177183941577]], [[-0.7346120694155456, 0.6784873672140179, -0.06651827470213303, 0.9977852069111125], [-0.761775670804913, 0.647840896648031, -0.13768789860676126, 0.9904756648082043], [-0.7861456754184073, 0.6180412421683008, -0.20377513849902693, 0.9790177183941577], [-0.8110866085051398, 0.5849260752468043, -0.26592615766109656, 0.9639934017780442]], [[-0.761775670804913, 0.647840896648031, -0.13768789860676126, 0.9904756648082043], [-0.7861456754184073, 0.6180412421683008, -0.20377513849902693, 0.9790177183941577], [-0.8110866085051398, 0.5849260752468043, -0.26592615766109656, 0.9639934017780442], [-0.8343949310163379, 0.5511670337513309, -0.32946040339239935, 0.9441693929568558]], [[-0.7861456754184073, 0.6180412421683008, -0.20377513849902693, 0.9790177183941577], [-0.8110866085051398, 0.5849260752468043, -0.26592615766109656, 0.9639934017780442], [-0.8343949310163379, 0.5511670337513309, -0.32946040339239935, 0.9441693929568558], [-0.8567473009245485, 0.5157364272169468, -0.3923096750466468, 0.9198332016538621]], [[-0.8110866085051398, 0.5849260752468043, -0.26592615766109656, 0.9639934017780442], [-0.8343949310163379, 0.5511670337513309, -0.32946040339239935, 0.9441693929568558], [-0.8567473009245485, 0.5157364272169468, -0.3923096750466468, 0.9198332016538621], [-0.8771849199179047, 0.4801527009906527, -0.44543540316002916, 0.8953140798689934]], [[-0.8343949310163379, 0.5511670337513309, -0.32946040339239935, 0.9441693929568558], [-0.8567473009245485, 0.5157364272169468, -0.3923096750466468, 0.9198332016538621], [-0.8771849199179047, 0.4801527009906527, -0.44543540316002916, 0.8953140798689934], [-0.8974634360552572, 0.4410888583311656, -0.5004203572821716, 0.8657825743323688]]]\n"
     ]
    }
   ],
   "source": [
    "print(X_train[0:10])"
   ]
  },
  {
   "cell_type": "code",
   "execution_count": 9,
   "id": "0f6b8988",
   "metadata": {},
   "outputs": [
    {
     "ename": "ValueError",
     "evalue": "vmap was requested to map its argument along axis 0, which implies that its rank should be at least 1, but is only 0 (its shape is ())",
     "output_type": "error",
     "traceback": [
      "\u001b[0;31m---------------------------------------------------------------------------\u001b[0m",
      "\u001b[0;31mIndexError\u001b[0m                                Traceback (most recent call last)",
      "\u001b[0;32m~/.local/lib/python3.8/site-packages/jax/_src/api.py\u001b[0m in \u001b[0;36m_get_axis_size\u001b[0;34m(name, shape, axis)\u001b[0m\n\u001b[1;32m   1462\u001b[0m     \u001b[0;32mtry\u001b[0m\u001b[0;34m:\u001b[0m\u001b[0;34m\u001b[0m\u001b[0;34m\u001b[0m\u001b[0m\n\u001b[0;32m-> 1463\u001b[0;31m       \u001b[0;32mreturn\u001b[0m \u001b[0mshape\u001b[0m\u001b[0;34m[\u001b[0m\u001b[0maxis\u001b[0m\u001b[0;34m]\u001b[0m\u001b[0;34m\u001b[0m\u001b[0;34m\u001b[0m\u001b[0m\n\u001b[0m\u001b[1;32m   1464\u001b[0m     \u001b[0;32mexcept\u001b[0m \u001b[0;34m(\u001b[0m\u001b[0mIndexError\u001b[0m\u001b[0;34m,\u001b[0m \u001b[0mTypeError\u001b[0m\u001b[0;34m)\u001b[0m \u001b[0;32mas\u001b[0m \u001b[0me\u001b[0m\u001b[0;34m:\u001b[0m\u001b[0;34m\u001b[0m\u001b[0;34m\u001b[0m\u001b[0m\n",
      "\u001b[0;31mIndexError\u001b[0m: tuple index out of range",
      "\nThe above exception was the direct cause of the following exception:\n",
      "\u001b[0;31mValueError\u001b[0m                                Traceback (most recent call last)",
      "\u001b[0;32m<timed exec>\u001b[0m in \u001b[0;36m<module>\u001b[0;34m\u001b[0m\n",
      "    \u001b[0;31m[... skipping hidden 4 frame]\u001b[0m\n",
      "\u001b[0;32m~/.local/lib/python3.8/site-packages/jax/_src/api.py\u001b[0m in \u001b[0;36m_get_axis_size\u001b[0;34m(name, shape, axis)\u001b[0m\n\u001b[1;32m   1464\u001b[0m     \u001b[0;32mexcept\u001b[0m \u001b[0;34m(\u001b[0m\u001b[0mIndexError\u001b[0m\u001b[0;34m,\u001b[0m \u001b[0mTypeError\u001b[0m\u001b[0;34m)\u001b[0m \u001b[0;32mas\u001b[0m \u001b[0me\u001b[0m\u001b[0;34m:\u001b[0m\u001b[0;34m\u001b[0m\u001b[0;34m\u001b[0m\u001b[0m\n\u001b[1;32m   1465\u001b[0m       \u001b[0mmin_rank\u001b[0m \u001b[0;34m=\u001b[0m \u001b[0maxis\u001b[0m \u001b[0;34m+\u001b[0m \u001b[0;36m1\u001b[0m \u001b[0;32mif\u001b[0m \u001b[0maxis\u001b[0m \u001b[0;34m>=\u001b[0m \u001b[0;36m0\u001b[0m \u001b[0;32melse\u001b[0m \u001b[0;34m-\u001b[0m\u001b[0maxis\u001b[0m\u001b[0;34m\u001b[0m\u001b[0;34m\u001b[0m\u001b[0m\n\u001b[0;32m-> 1466\u001b[0;31m       raise ValueError(f\"{name} was requested to map its argument along axis {axis}, \"\n\u001b[0m\u001b[1;32m   1467\u001b[0m                        \u001b[0;34mf\"which implies that its rank should be at least {min_rank}, \"\u001b[0m\u001b[0;34m\u001b[0m\u001b[0;34m\u001b[0m\u001b[0m\n\u001b[1;32m   1468\u001b[0m                        f\"but is only {len(shape)} (its shape is {shape})\") from e\n",
      "\u001b[0;31mValueError\u001b[0m: vmap was requested to map its argument along axis 0, which implies that its rank should be at least 1, but is only 0 (its shape is ())"
     ]
    },
    {
     "name": "stdout",
     "output_type": "stream",
     "text": [
      "CPU times: user 1.01 ms, sys: 134 µs, total: 1.15 ms\n",
      "Wall time: 580 µs\n"
     ]
    }
   ],
   "source": [
    "%time xt_train = jax.device_get(jax.vmap(f_analytical)(X_train)) # time derivatives of each state\n",
    "%time y_train = jax.device_get(analytical_step(y_train))"
   ]
  },
  {
   "cell_type": "code",
   "execution_count": null,
   "id": "6a49f965",
   "metadata": {},
   "outputs": [],
   "source": []
  }
 ],
 "metadata": {
  "kernelspec": {
   "display_name": "Python 3 (ipykernel)",
   "language": "python",
   "name": "python3"
  },
  "language_info": {
   "codemirror_mode": {
    "name": "ipython",
    "version": 3
   },
   "file_extension": ".py",
   "mimetype": "text/x-python",
   "name": "python",
   "nbconvert_exporter": "python",
   "pygments_lexer": "ipython3",
   "version": "3.8.5"
  }
 },
 "nbformat": 4,
 "nbformat_minor": 5
}
