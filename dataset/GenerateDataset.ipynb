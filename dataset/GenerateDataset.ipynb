{
 "cells": [
  {
   "cell_type": "code",
   "execution_count": 1,
   "id": "723f9ccb",
   "metadata": {},
   "outputs": [
    {
     "name": "stderr",
     "output_type": "stream",
     "text": [
      "ALSA lib pulse.c:242:(pulse_connect) PulseAudio: Unable to connect: Timeout\n",
      "\n",
      "ALSA lib pulse.c:242:(pulse_connect) PulseAudio: Unable to connect: Connection refused\n",
      "\n"
     ]
    }
   ],
   "source": [
    "import jax\n",
    "import jax.numpy as jnp\n",
    "import numpy as np\n",
    "from jax.experimental.ode import odeint\n",
    "import matplotlib.pyplot as plt\n",
    "from functools import partial # reduces arguments to function by making some subset implicit\n",
    "\n",
    "from jax.experimental import stax\n",
    "from jax.experimental import optimizers\n",
    "\n",
    "# visualization\n",
    "import matplotlib.pyplot as plt\n",
    "from matplotlib.patches import Circle\n",
    "from moviepy.editor import ImageSequenceClip\n",
    "from functools import partial\n",
    "import proglog\n",
    "from PIL import Image"
   ]
  },
  {
   "cell_type": "code",
   "execution_count": 2,
   "id": "e2928ce1",
   "metadata": {},
   "outputs": [
    {
     "name": "stdout",
     "output_type": "stream",
     "text": [
      "gpu\n"
     ]
    }
   ],
   "source": [
    "from jax.lib import xla_bridge\n",
    "print(xla_bridge.get_backend().platform)"
   ]
  },
  {
   "cell_type": "code",
   "execution_count": 3,
   "id": "9369d5da",
   "metadata": {},
   "outputs": [],
   "source": [
    "def lagrangian(q, q_dot, m1, m2, l1, l2, g):\n",
    "  t1, t2 = q     # theta 1 and theta 2\n",
    "  w1, w2 = q_dot # omega 1 and omega 2\n",
    "\n",
    "  # kinetic energy (T)\n",
    "  T1 = 0.5 * m1 * (l1 * w1)**2\n",
    "  T2 = 0.5 * m2 * ((l1 * w1)**2 + (l2 * w2)**2 +\n",
    "                    2 * l1 * l2 * w1 * w2 * jnp.cos(t1 - t2))\n",
    "  T = T1 + T2\n",
    "  \n",
    "  # potential energy (V)\n",
    "  y1 = -l1 * jnp.cos(t1)\n",
    "  y2 = y1 - l2 * jnp.cos(t2)\n",
    "  V = m1 * g * y1 + m2 * g * y2\n",
    "\n",
    "  return T - V"
   ]
  },
  {
   "cell_type": "code",
   "execution_count": 4,
   "id": "2279c45c",
   "metadata": {},
   "outputs": [],
   "source": [
    "def f_analytical(state, t=0, m1=1, m2=1, l1=1, l2=1, g=9.8):\n",
    "  t1, t2, w1, w2 = state\n",
    "  a1 = (l2 / l1) * (m2 / (m1 + m2)) * jnp.cos(t1 - t2)\n",
    "  a2 = (l1 / l2) * jnp.cos(t1 - t2)\n",
    "  f1 = -(l2 / l1) * (m2 / (m1 + m2)) * (w2**2) * jnp.sin(t1 - t2) - \\\n",
    "      (g / l1) * jnp.sin(t1)\n",
    "  f2 = (l1 / l2) * (w1**2) * jnp.sin(t1 - t2) - (g / l2) * jnp.sin(t2)\n",
    "  g1 = (f1 - a1 * f2) / (1 - a1 * a2)\n",
    "  g2 = (f2 - a2 * f1) / (1 - a1 * a2)\n",
    "  return jnp.stack([w1, w2, g1, g2])"
   ]
  },
  {
   "cell_type": "code",
   "execution_count": 5,
   "id": "8cfee046",
   "metadata": {},
   "outputs": [],
   "source": [
    "def equation_of_motion(lagrangian, state, t=None):\n",
    "  q, q_t = jnp.split(state, 2)\n",
    "  q_tt = (jnp.linalg.pinv(jax.hessian(lagrangian, 1)(q, q_t))\n",
    "          @ (jax.grad(lagrangian, 0)(q, q_t)\n",
    "             - jax.jacobian(jax.jacobian(lagrangian, 1), 0)(q, q_t) @ q_t))\n",
    "  return jnp.concatenate([q_t, q_tt])\n",
    "\n",
    "def solve_lagrangian(lagrangian, initial_state, **kwargs):\n",
    "  # We currently run odeint on CPUs only, because its cost is dominated by\n",
    "  # control flow, which is slow on GPUs.\n",
    "  @partial(jax.jit, backend='cpu')\n",
    "  def f(initial_state):\n",
    "    return odeint(partial(equation_of_motion, lagrangian),\n",
    "                  initial_state, **kwargs)\n",
    "  return f(initial_state)"
   ]
  },
  {
   "cell_type": "code",
   "execution_count": 6,
   "id": "6ebaf984",
   "metadata": {},
   "outputs": [],
   "source": [
    "# Double pendulum dynamics via the rewritten Euler-Lagrange\n",
    "@partial(jax.jit, backend='cpu')\n",
    "def solve_autograd(initial_state, times, m1=1, m2=1, l1=1, l2=1, g=9.8):\n",
    "  L = partial(lagrangian, m1=m1, m2=m2, l1=l1, l2=l2, g=g)\n",
    "  return solve_lagrangian(L, initial_state, t=times, rtol=1e-10, atol=1e-10)\n",
    "\n",
    "# Double pendulum dynamics via analytical forces taken from Diego's blog\n",
    "@partial(jax.jit, backend='cpu')\n",
    "def solve_analytical(initial_state, times):\n",
    "  return odeint(f_analytical, initial_state, t=times, rtol=1e-10, atol=1e-10)\n",
    "\n",
    "def normalize_dp(state):\n",
    "  # wrap generalized coordinates to [-pi, pi]\n",
    "  return jnp.concatenate([(state[:2] + np.pi) % (2 * np.pi) - np.pi, state[2:]])\n",
    "\n",
    "def rk4_step(f, x, t, h):\n",
    "  # one step of runge-kutta integration\n",
    "  k1 = h * f(x, t)\n",
    "  k2 = h * f(x + k1/2, t + h/2)\n",
    "  k3 = h * f(x + k2/2, t + h/2)\n",
    "  k4 = h * f(x + k3, t + h)\n",
    "  return x + 1/6 * (k1 + 2 * k2 + 2 * k3 + k4)"
   ]
  },
  {
   "cell_type": "code",
   "execution_count": 7,
   "id": "39ab23a7",
   "metadata": {},
   "outputs": [
    {
     "name": "stdout",
     "output_type": "stream",
     "text": [
      "CPU times: user 12.8 s, sys: 61.7 ms, total: 12.8 s\n",
      "Wall time: 17.1 s\n",
      "CPU times: user 670 ms, sys: 399 ms, total: 1.07 s\n",
      "Wall time: 3.84 s\n",
      "CPU times: user 1.26 s, sys: 7.88 ms, total: 1.27 s\n",
      "Wall time: 2.51 s\n",
      "CPU times: user 11.8 s, sys: 0 ns, total: 11.8 s\n",
      "Wall time: 18.2 s\n",
      "CPU times: user 33 ms, sys: 0 ns, total: 33 ms\n",
      "Wall time: 31.5 ms\n",
      "CPU times: user 572 µs, sys: 0 ns, total: 572 µs\n",
      "Wall time: 1.07 ms\n"
     ]
    }
   ],
   "source": [
    "time_step = 0.01\n",
    "N = 1500\n",
    "analytical_step = jax.jit(jax.vmap(partial(rk4_step, f_analytical, t=0.0, h=time_step)))\n",
    "\n",
    "# x0 = np.array([-0.3*np.pi, 0.2*np.pi, 0.35*np.pi, 0.5*np.pi], dtype=np.float32)\n",
    "x0 = np.array([3*np.pi/7, 3*np.pi/4, 0, 0], dtype=np.float32)\n",
    "t = np.arange(N, dtype=np.float32) # time steps 0 to N\n",
    "%time x_train = jax.device_get(solve_analytical(x0, t)) # dynamics for first N time steps\n",
    "%time xt_train = jax.device_get(jax.vmap(f_analytical)(x_train)) # time derivatives of each state\n",
    "%time y_train = jax.device_get(analytical_step(x_train)) # analytical next step\n",
    "\n",
    "noise = np.random.RandomState(0).randn(x0.size)\n",
    "t_test = np.arange(N, 2*N, dtype=np.float32) # time steps N to 2N\n",
    "%time x_test = jax.device_get(solve_analytical(x0, t_test)) # dynamics for next N time steps\n",
    "%time xt_test = jax.device_get(jax.vmap(f_analytical)(x_test)) # time derivatives of each state\n",
    "%time y_test = jax.device_get(analytical_step(x_test)) # analytical next step\n"
   ]
  },
  {
   "cell_type": "code",
   "execution_count": 10,
   "id": "5b033585",
   "metadata": {},
   "outputs": [],
   "source": [
    "train_arr = [x_train, xt_train, y_train]\n",
    "test_arr = [x_test, xt_test, y_test]"
   ]
  },
  {
   "cell_type": "code",
   "execution_count": 11,
   "id": "1986569e",
   "metadata": {},
   "outputs": [],
   "source": [
    "import pickle"
   ]
  },
  {
   "cell_type": "code",
   "execution_count": null,
   "id": "e69be019",
   "metadata": {},
   "outputs": [],
   "source": [
    "train_out = open('train_set', 'wb')    \n",
    "test_out = open('test_set', 'wb')  \n",
    "pickle.dump(train_arr, train_out)\n",
    "pickle.dump(test_arr,)"
   ]
  }
 ],
 "metadata": {
  "kernelspec": {
   "display_name": "Python 3 (ipykernel)",
   "language": "python",
   "name": "python3"
  },
  "language_info": {
   "codemirror_mode": {
    "name": "ipython",
    "version": 3
   },
   "file_extension": ".py",
   "mimetype": "text/x-python",
   "name": "python",
   "nbconvert_exporter": "python",
   "pygments_lexer": "ipython3",
   "version": "3.8.5"
  }
 },
 "nbformat": 4,
 "nbformat_minor": 5
}
