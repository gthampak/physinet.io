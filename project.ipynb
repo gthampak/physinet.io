{
 "cells": [
  {
   "cell_type": "markdown",
   "metadata": {},
   "source": [
    "# Penndulum Model Codes"
   ]
  },
  {
   "cell_type": "markdown",
   "metadata": {},
   "source": [
    "## Dependencies"
   ]
  },
  {
   "cell_type": "code",
   "execution_count": 1,
   "metadata": {},
   "outputs": [],
   "source": [
    "import os\n",
    "import shutil\n",
    "import random; random.seed(42)\n",
    "\n",
    "import pandas as pd\n",
    "import numpy as np\n",
    "from tqdm import tqdm\n",
    "from matplotlib import pyplot as plt\n",
    "import torch\n",
    "from torch import nn\n",
    "#import tensorflow as tf # tensorflow-gpu==2.0.0\n",
    "#from tensorflow.python.client import device_lib \n",
    "#print(device_lib.list_local_devices())\n",
    "#import cv2"
   ]
  },
  {
   "cell_type": "markdown",
   "metadata": {},
   "source": [
    "## Directories:"
   ]
  },
  {
   "cell_type": "code",
   "execution_count": 2,
   "metadata": {},
   "outputs": [],
   "source": [
    "# training data\n",
    "train_dir = '/raid/cs152/zxaa2018/penndulum/train_and_test_split/dpc_dataset_traintest_4_200_csv/train'\n",
    "train_dir_video = '/raid/cs152/zxaa2018/penndulum//train_and_test_split/dpc_dataset_traintest_4_200_h264/train'\n",
    "\n",
    "# test data\n",
    "test_inputs_dir = '/raid/cs152/zxaa2018/penndulum/train_and_test_split/dpc_dataset_traintest_4_200_csv/test_inputs/'\n",
    "test_targets_dir = '/raid/cs152/zxaa2018/penndulum/train_and_test_split/dpc_dataset_traintest_4_200_csv/test_targets/'\n",
    "test_targets_video = '/raid/cs152/zxaa2018/penndulum/train_and_test_split/dpc_dataset_traintest_4_200_h264/test_targets/'\n",
    "\n",
    "# validation data\n",
    "validation_inputs_dir = '/raid/cs152/zxaa2018/penndulum/train_and_test_split/dpc_dataset_traintest_4_200_csv/validation_inputs/'\n",
    "validation_targets_dir = '/raid/cs152/zxaa2018/penndulum/rain_and_test_split/dpc_dataset_traintest_4_200_csv/validation_targets/'\n",
    "validation_targets_video = '/raid/cs152/zxaa2018/penndulum/train_and_test_split/dpc_dataset_traintest_4_200_h264/validation_targets/'"
   ]
  },
  {
   "cell_type": "markdown",
   "metadata": {},
   "source": [
    "## Functions and Class Definitions\n",
    "\n",
    "### Data Transformation Functions"
   ]
  },
  {
   "cell_type": "code",
   "execution_count": 3,
   "metadata": {},
   "outputs": [],
   "source": [
    "# some constants\n",
    "DEFAULT_X_RED, DEFAULT_Y_RED = (240, 232)\n",
    "\n",
    "PIXEL_DISTANCE_GREEN_TO_RED = 118 # approx. value | calculated with the Pythagorean theorem and averaged: np.sqrt((y_green-y_red)**2 + (x_green-x_red)**2)\n",
    "PIXEL_DISTANCE_BLUE_TO_GREEN = 90 # approx. value | calculated with the Pythagorean theorem and averaged: np.sqrt((y_blue-y_green)**2 + (x_blue-x_green)**2)\n",
    "\n",
    "def raw_to_pixel(l):\n",
    "    '''Convert the raw coordinates to pixel coordinates.'''\n",
    "    assert isinstance(l, list)\n",
    "    return [x/5 for x in l]\n",
    "\n",
    "\n",
    "def pixel_to_raw(l):\n",
    "    '''Convert the pixel coordinates to raw coordinates.'''\n",
    "    assert isinstance(l, list)\n",
    "    return [x*5 for x in l]\n",
    "\n",
    "\n",
    "def raw_cartesian_to_polar_angles(l):\n",
    "    '''Convert the cartesian coordinates to polar coordinates.'''\n",
    "    assert isinstance(l, list)\n",
    "    x_red, y_red, x_green, y_green, x_blue, y_blue = raw_to_pixel(l)\n",
    "\n",
    "    angle_green_red = np.arctan((y_green-y_red)/(x_green-x_red+0.001))\n",
    "    angle_blue_green = np.arctan((y_blue-y_green)/(x_blue-x_green+0.001))\n",
    "    \n",
    "    return [np.sin(angle_green_red), np.cos(angle_green_red), np.sin(angle_blue_green), np.cos(angle_blue_green)]\n",
    "\n",
    "def polar_angles_to_raw_cartesian(l):\n",
    "    '''Convert the polar coordinates back to cartesian coordinates.'''\n",
    "    assert isinstance(l, list)\n",
    "    sin_angle_green_red, cos_angle_green_red, sin_angle_blue_green, cos_angle_blue_green = l\n",
    "    \n",
    "    y_green = PIXEL_DISTANCE_GREEN_TO_RED * sin_angle_green_red + DEFAULT_Y_RED\n",
    "    x_green = PIXEL_DISTANCE_GREEN_TO_RED * cos_angle_green_red + DEFAULT_X_RED\n",
    "\n",
    "    y_blue = PIXEL_DISTANCE_BLUE_TO_GREEN * sin_angle_blue_green + y_green\n",
    "    x_blue = PIXEL_DISTANCE_BLUE_TO_GREEN * cos_angle_blue_green + x_green\n",
    "    \n",
    "    return pixel_to_raw([DEFAULT_X_RED, DEFAULT_Y_RED, x_green, y_green, x_blue, y_blue])"
   ]
  },
  {
   "cell_type": "markdown",
   "metadata": {},
   "source": [
    "### Data reading functions"
   ]
  },
  {
   "cell_type": "markdown",
   "metadata": {},
   "source": [
    "Parsing training data:\n",
    "training data x-y matching is like this:\n",
    "x: a list of 4 frames\n",
    "y: the frame that follows"
   ]
  },
  {
   "cell_type": "code",
   "execution_count": 28,
   "metadata": {},
   "outputs": [],
   "source": [
    "def parse_training_annotations(csv_file):\n",
    "    '''Parse the training annotations from a CSV file.'''\n",
    "    X_data = []\n",
    "    y_data = []\n",
    "    f = pd.read_csv(csv_file, header=None, delim_whitespace=True, engine='python')\n",
    "    temp = []\n",
    "    for i, row in f.iterrows():\n",
    "        if len(temp) < 4:\n",
    "            # convert the cartesian pixel coordinates to polar coordinates\n",
    "            temp.append(raw_cartesian_to_polar_angles(row.to_list()))\n",
    "        else:\n",
    "            # the output frame\n",
    "            # convert the cartesian pixel coordinates to polar coordinates\n",
    "            next_frame = raw_cartesian_to_polar_angles(row.to_list())\n",
    "\n",
    "            # save\n",
    "            X_data.append(temp.copy())\n",
    "            y_data.append(next_frame.copy())\n",
    "\n",
    "            # add output frame to the inputs and remove the first\n",
    "            temp.pop(0)\n",
    "            temp.append(next_frame)\n",
    "    return X_data, y_data"
   ]
  },
  {
   "cell_type": "code",
   "execution_count": 5,
   "metadata": {},
   "outputs": [],
   "source": [
    "def parse_testing_annotations(csv_file_X,csv_file_Y):\n",
    "    '''\n",
    "    Parse the testing annotations from a CSV file.\n",
    "    Return a x-y pair\n",
    "    '''\n",
    "    X_data = [] #a list containing 4 frames\n",
    "    y_data = [] #a list containing 200 frames\n",
    "    # load X file\n",
    "    f = pd.read_csv(csv_file_X, header=None, delim_whitespace=True, engine='python')\n",
    "    for i, row in f.iterrows():\n",
    "        X_data.append(raw_cartesian_to_polar_angles(row.to_list()))\n",
    "    f = pd.read_csv(csv_file_Y, header=None, delim_whitespace=True, engine='python')\n",
    "    for i, row in f.iterrows():\n",
    "        y_data.append(raw_cartesian_to_polar_angles(row.to_list()))\n",
    "        #print(row)\n",
    "\n",
    "    return X_data, y_data"
   ]
  },
  {
   "cell_type": "markdown",
   "metadata": {},
   "source": [
    "### Dataset Definition"
   ]
  },
  {
   "cell_type": "code",
   "execution_count": 6,
   "metadata": {},
   "outputs": [],
   "source": [
    "class DoublePendulumDataset(torch.utils.data.Dataset):\n",
    "    def __init__(self,X_list,y_list):\n",
    "        self.sample_list = list(zip(X_list, y_list))\n",
    "    \n",
    "    def __getitem__(self,index):\n",
    "        X_sample,y_sample = self.sample_list[index]\n",
    "        return torch.from_numpy(np.array(X_sample)).float(),torch.from_numpy(np.array(y_sample)).float()\n",
    "    \n",
    "    def __len__(self):\n",
    "        return len(self.sample_list)"
   ]
  },
  {
   "cell_type": "markdown",
   "metadata": {},
   "source": [
    "### Model Definition"
   ]
  },
  {
   "cell_type": "code",
   "execution_count": 7,
   "metadata": {},
   "outputs": [],
   "source": [
    "class LSTMModel(nn.Module):\n",
    "    def __init__(self):\n",
    "        # We want a model of 4 layer LSTM with 32 features output, and a dense layer to form the 4 feature output.\n",
    "        super(LSTMModel, self).__init__()\n",
    "\n",
    "        # Defining some parameters\n",
    "        #self.hidden_size = 32\n",
    "        #self.n_layers = 4\n",
    "\n",
    "        #Defining the layers\n",
    "        # LSTM layer\n",
    "        self.lstm1 = nn.LSTM(input_size = 4, hidden_size = 32, num_layers = 1, batch_first = True)\n",
    "        #self.lstm2 = nn.LSTM(input_size = 32, hidden_size = 32, num_layers = 1, batch_first = True)\n",
    "        #self.lstm3 = nn.LSTM(input_size = 32, hidden_size = 32, num_layers = 1, batch_first = True)\n",
    "        # Fully connected layer\n",
    "        self.fc = nn.Linear(32, 4)\n",
    "    \n",
    "    def forward(self, x):\n",
    "        out3, _= self.lstm1(x) # (h0.detach(), c0.detach())\n",
    "        #out2, _= self.lstm2(out1)\n",
    "        #out3, _= self.lstm3(out2)\n",
    "        out3 = out3[:, -1, :]\n",
    "        out = self.fc(out3)\n",
    "        return out"
   ]
  },
  {
   "cell_type": "markdown",
   "metadata": {},
   "source": [
    "Data Visualization Functions"
   ]
  },
  {
   "cell_type": "code",
   "execution_count": 8,
   "metadata": {},
   "outputs": [],
   "source": [
    "def plot_trajectory_from_tensor(coords: torch.Tensor):\n",
    "    blue_x = coords.index_select(1,torch.tensor([4])).numpy()\n",
    "    blue_y = coords.index_select(1,torch.tensor([5])).numpy()\n",
    "    plt.scatter(blue_x,blue_y)"
   ]
  },
  {
   "cell_type": "markdown",
   "metadata": {},
   "source": [
    "## Training, testing and analysis Codes\n",
    "\n",
    "### Loading Training Data"
   ]
  },
  {
   "cell_type": "code",
   "execution_count": 29,
   "metadata": {},
   "outputs": [
    {
     "name": "stderr",
     "output_type": "stream",
     "text": [
      "100%|██████████| 40/40 [00:37<00:00,  1.06it/s]\n"
     ]
    }
   ],
   "source": [
    "BATCH_SIZE = 1000\n",
    "\n",
    "# load in all separate files\n",
    "X_train = []\n",
    "y_train = []\n",
    "for filename in tqdm([x for x in os.listdir(train_dir) if not x.startswith('.')]):\n",
    "    # load in a file\n",
    "    X_data, y_data = parse_training_annotations(os.path.join(train_dir, filename))\n",
    "\n",
    "    X_train = X_train + X_data\n",
    "    y_train = y_train + y_data\n",
    "trainDataSet = DoublePendulumDataset(X_train,y_train)\n",
    "trainDataLoader = torch.utils.data.DataLoader(trainDataSet,batch_size=BATCH_SIZE)\n"
   ]
  },
  {
   "cell_type": "markdown",
   "metadata": {},
   "source": [
    "### Hyperparameter and Model instantiate"
   ]
  },
  {
   "cell_type": "code",
   "execution_count": 33,
   "metadata": {},
   "outputs": [],
   "source": [
    "# Instantiate the model with hyperparameters\n",
    "model = LSTMModel()\n",
    "model.train()\n",
    "\n",
    "# Define hyperparameters\n",
    "n_epochs = 5\n",
    "lr=0.001\n",
    "\n",
    "# Define Loss, Optimizer\n",
    "criterion = nn.MSELoss()\n",
    "optimizer = torch.optim.Adam(model.parameters(), lr=lr)"
   ]
  },
  {
   "cell_type": "markdown",
   "metadata": {},
   "source": [
    "### Training"
   ]
  },
  {
   "cell_type": "code",
   "execution_count": 36,
   "metadata": {},
   "outputs": [
    {
     "name": "stdout",
     "output_type": "stream",
     "text": [
      "Training Start\n",
      "[1,   100] loss: 0.074\n",
      "[1,   200] loss: 0.032\n",
      "[1,   300] loss: 0.027\n",
      "[2,   100] loss: 0.027\n",
      "[2,   200] loss: 0.021\n",
      "[2,   300] loss: 0.019\n",
      "[3,   100] loss: 0.021\n",
      "[3,   200] loss: 0.017\n",
      "[3,   300] loss: 0.017\n",
      "[4,   100] loss: 0.020\n",
      "[4,   200] loss: 0.016\n",
      "[4,   300] loss: 0.016\n",
      "[5,   100] loss: 0.019\n",
      "[5,   200] loss: 0.016\n",
      "[5,   300] loss: 0.016\n",
      "Finished Training\n"
     ]
    }
   ],
   "source": [
    "print('Training Start')\n",
    "for epoch in range(n_epochs):  # loop over the dataset multiple times\n",
    "\n",
    "    running_loss = 0.0\n",
    "    for i, data in enumerate(trainDataLoader, 0):\n",
    "        # get the inputs; data is a list of [inputs, labels]\n",
    "        inputs, labels = data\n",
    "\n",
    "        # zero the parameter gradients\n",
    "        optimizer.zero_grad()\n",
    "\n",
    "        # forward + backward + optimize\n",
    "        outputs = model(inputs)\n",
    "        loss = criterion(outputs,labels)\n",
    "        loss.backward()\n",
    "        optimizer.step()\n",
    "\n",
    "        # print statistics\n",
    "        running_loss += loss.item()\n",
    "        if i % 100 == 99:    # print every 100 mini-batches\n",
    "            print('[%d, %5d] loss: %.3f' %\n",
    "                  (epoch + 1, i + 1, running_loss / 100))\n",
    "            running_loss = 0.0\n",
    "\n",
    "print('Finished Training')"
   ]
  },
  {
   "cell_type": "markdown",
   "metadata": {},
   "source": [
    "### Testing Data Loading"
   ]
  },
  {
   "cell_type": "code",
   "execution_count": 37,
   "metadata": {},
   "outputs": [],
   "source": [
    "# load in all separate files\n",
    "X_test = []\n",
    "y_test = []\n",
    "isPrint = True\n",
    "#for filename in tqdm([x for x in os.listdir(test_inputs_dir) if not x.startswith('.')]):\n",
    "for i in range(60):\n",
    "    # load in a file\n",
    "    X_data, y_data = parse_testing_annotations(test_inputs_dir + str(i)+'.csv',test_targets_dir + str(i)+'.csv')\n",
    "    X_test.append(X_data)\n",
    "    y_test.append(y_data)\n",
    "testDataSet = DoublePendulumDataset(X_test,y_test)\n",
    "testDataLoader = torch.utils.data.DataLoader(testDataSet,batch_size=1) # Do we need the data loader here?"
   ]
  },
  {
   "cell_type": "code",
   "execution_count": 38,
   "metadata": {},
   "outputs": [],
   "source": [
    "def predict(model: LSTMModel, testDataSet, index):\n",
    "    '''\n",
    "    Use the testing file on coordinates to get a tensor of the 200 outputs.\n",
    "    '''\n",
    "    result = torch.empty(1,1,4).float()\n",
    "    X_frames = testDataSet[index][0][None,:,:]\n",
    "    for i in range(200):\n",
    "        output_frame = model(X_frames).detach()\n",
    "        result = torch.cat((result,output_frame[None,:,:]),1) if i != 0 else output_frame[None,:,:]\n",
    "        X_frames = X_frames.index_select(1,torch.tensor([1,2,3]))\n",
    "        X_frames = torch.cat((X_frames,output_frame[None,:,:]),1)\n",
    "    return result.squeeze()"
   ]
  },
  {
   "cell_type": "code",
   "execution_count": 39,
   "metadata": {},
   "outputs": [],
   "source": [
    "def polar_angles_to_raw_cartesian_tensor(t):\n",
    "    '''Convert the polar coordinates back to cartesian coordinates.'''\n",
    "    assert isinstance(t, torch.Tensor)\n",
    "\n",
    "    sin_angle_green_red = t.index_select(1,torch.tensor([0]))\n",
    "    cos_angle_green_red = t.index_select(1,torch.tensor([1]))\n",
    "    sin_angle_blue_green = t.index_select(1,torch.tensor([2]))\n",
    "    cos_angle_blue_green = t.index_select(1,torch.tensor([3]))\n",
    "    \n",
    "    y_green = PIXEL_DISTANCE_GREEN_TO_RED * sin_angle_green_red + DEFAULT_Y_RED\n",
    "    x_green = PIXEL_DISTANCE_GREEN_TO_RED * cos_angle_green_red + DEFAULT_X_RED\n",
    "\n",
    "    y_blue = PIXEL_DISTANCE_BLUE_TO_GREEN * sin_angle_blue_green + y_green\n",
    "    x_blue = PIXEL_DISTANCE_BLUE_TO_GREEN * cos_angle_blue_green + x_green\n",
    "\n",
    "    x_red = torch.full_like(y_green,DEFAULT_X_RED)\n",
    "    y_red = torch.full_like(y_green,DEFAULT_Y_RED)\n",
    "\n",
    "    result = torch.cat((x_red,y_red,x_green, y_green, x_blue, y_blue),1) * 5\n",
    "    \n",
    "    return result"
   ]
  },
  {
   "cell_type": "code",
   "execution_count": 40,
   "metadata": {},
   "outputs": [
    {
     "data": {
      "image/png": "[encoded data removed]",
      "text/plain": [
       "<Figure size 432x288 with 1 Axes>"
      ]
     },
     "metadata": {
      "needs_background": "light"
     },
     "output_type": "display_data"
    }
   ],
   "source": [
    "output = polar_angles_to_raw_cartesian_tensor(predict(model,testDataSet,5))\n",
    "plot_trajectory_from_tensor(output)"
   ]
  },
  {
   "cell_type": "code",
   "execution_count": 41,
   "metadata": {},
   "outputs": [
    {
     "data": {
      "image/png": "[encoded data removed]",
      "text/plain": [
       "<Figure size 432x288 with 1 Axes>"
      ]
     },
     "metadata": {
      "needs_background": "light"
     },
     "output_type": "display_data"
    }
   ],
   "source": [
    "plot_trajectory_from_tensor(polar_angles_to_raw_cartesian_tensor(testDataSet[5][1]))"
   ]
  },
  {
   "cell_type": "code",
   "execution_count": 30,
   "metadata": {},
   "outputs": [
    {
     "data": {
      "text/plain": [
       "(tensor([[-0.7346,  0.6785, -0.0665,  0.9978],\n",
       "         [-0.7618,  0.6478, -0.1377,  0.9905],\n",
       "         [-0.7861,  0.6180, -0.2038,  0.9790],\n",
       "         [-0.8111,  0.5849, -0.2659,  0.9640]]),\n",
       " tensor([-0.8344,  0.5512, -0.3295,  0.9442]))"
      ]
     },
     "execution_count": 30,
     "metadata": {},
     "output_type": "execute_result"
    }
   ],
   "source": [
    "trainDataSet[5]"
   ]
  },
  {
   "cell_type": "code",
   "execution_count": 31,
   "metadata": {},
   "outputs": [
    {
     "data": {
      "text/plain": [
       "(tensor([[-0.5921,  0.8059,  0.2808,  0.9598],\n",
       "         [-0.6235,  0.7819,  0.2089,  0.9779],\n",
       "         [-0.6508,  0.7593,  0.1396,  0.9902],\n",
       "         [-0.6785,  0.7346,  0.0709,  0.9975]]),\n",
       " tensor([-0.7063,  0.7080,  0.0000,  1.0000]))"
      ]
     },
     "execution_count": 31,
     "metadata": {},
     "output_type": "execute_result"
    }
   ],
   "source": [
    "trainDataSet[0]"
   ]
  },
  {
   "cell_type": "code",
   "execution_count": 32,
   "metadata": {},
   "outputs": [
    {
     "data": {
      "text/plain": [
       "(tensor([[-0.6235,  0.7819,  0.2089,  0.9779],\n",
       "         [-0.6508,  0.7593,  0.1396,  0.9902],\n",
       "         [-0.6785,  0.7346,  0.0709,  0.9975],\n",
       "         [-0.7063,  0.7080,  0.0000,  1.0000]]),\n",
       " tensor([-0.7346,  0.6785, -0.0665,  0.9978]))"
      ]
     },
     "execution_count": 32,
     "metadata": {},
     "output_type": "execute_result"
    }
   ],
   "source": [
    "trainDataSet[1]"
   ]
  },
  {
   "cell_type": "code",
   "execution_count": null,
   "metadata": {},
   "outputs": [],
   "source": []
  }
 ],
 "metadata": {
  "interpreter": {
   "hash": "9950993fed0fd9aed4b27a856c953e397ab7787bcf7b4a95697366d9a811f382"
  },
  "kernelspec": {
   "display_name": "Python 3.8.5 64-bit ('cs152': conda)",
   "name": "python3"
  },
  "language_info": {
   "codemirror_mode": {
    "name": "ipython",
    "version": 3
   },
   "file_extension": ".py",
   "mimetype": "text/x-python",
   "name": "python",
   "nbconvert_exporter": "python",
   "pygments_lexer": "ipython3",
   "version": "3.8.5"
  },
  "orig_nbformat": 4
 },
 "nbformat": 4,
 "nbformat_minor": 2
}
